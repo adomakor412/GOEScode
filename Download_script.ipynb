{
 "cells": [
  {
   "cell_type": "code",
   "execution_count": 1,
   "metadata": {
    "collapsed": true
   },
   "outputs": [],
   "source": [
    "def download(filename,toPath):\n",
    "    with open(filename, 'r') as fid:\n",
    "        txt = fid.read()\n",
    "    urls = txt.split()\n",
    "    cmdlist = [ 'wget -nc -c ' + url +' -P ' + toPath for url in urls ]#if re.search('C07',url)\n",
    "    print(len(urls),len(list(set(urls))),len(cmdlist))\n",
    "\n",
    "    for url, cmd in zip(urls, cmdlist):\n",
    "        print(cmd)\n",
    "        if op.exists(url):\n",
    "            continue\n",
    "        pid = Popen(cmd, shell=True)\n",
    "        pid.communicate()\n",
    "    return"
   ]
  },
  {
   "cell_type": "code",
   "execution_count": null,
   "metadata": {
    "collapsed": false
   },
   "outputs": [
    {
     "name": "stdout",
     "output_type": "stream",
     "text": [
      "G16_data_08_09-19.txt\n",
      "576 576 576\n",
      "wget -nc -c https://noaa-goes16.s3.amazonaws.com/ABI-L1b-RadF/2019/221/00/OR_ABI-L1b-RadF-M6C07_G16_s20192210000548_e20192210010268_c20192210010328.nc -P /sharedData/scratch/fall_data\n",
      "wget -nc -c https://noaa-goes16.s3.amazonaws.com/ABI-L1b-RadF/2019/221/00/OR_ABI-L1b-RadF-M6C07_G16_s20192210010548_e20192210020268_c20192210020332.nc -P /sharedData/scratch/fall_data\n",
      "wget -nc -c https://noaa-goes16.s3.amazonaws.com/ABI-L1b-RadF/2019/221/00/OR_ABI-L1b-RadF-M6C07_G16_s20192210020548_e20192210030268_c20192210030328.nc -P /sharedData/scratch/fall_data\n",
      "wget -nc -c https://noaa-goes16.s3.amazonaws.com/ABI-L1b-RadF/2019/221/00/OR_ABI-L1b-RadF-M6C07_G16_s20192210030548_e20192210040268_c20192210040326.nc -P /sharedData/scratch/fall_data\n",
      "wget -nc -c https://noaa-goes16.s3.amazonaws.com/ABI-L1b-RadF/2019/221/00/OR_ABI-L1b-RadF-M6C07_G16_s20192210040549_e20192210050269_c20192210050323.nc -P /sharedData/scratch/fall_data\n",
      "wget -nc -c https://noaa-goes16.s3.amazonaws.com/ABI-L1b-RadF/2019/221/00/OR_ABI-L1b-RadF-M6C07_G16_s20192210050549_e20192210100268_c20192210100330.nc -P /sharedData/scratch/fall_data\n",
      "wget -nc -c https://noaa-goes16.s3.amazonaws.com/ABI-L1b-RadF/2019/221/00/OR_ABI-L1b-RadF-M6C08_G16_s20192210000548_e20192210010256_c20192210010332.nc -P /sharedData/scratch/fall_data\n",
      "wget -nc -c https://noaa-goes16.s3.amazonaws.com/ABI-L1b-RadF/2019/221/00/OR_ABI-L1b-RadF-M6C08_G16_s20192210010548_e20192210020256_c20192210020335.nc -P /sharedData/scratch/fall_data\n",
      "wget -nc -c https://noaa-goes16.s3.amazonaws.com/ABI-L1b-RadF/2019/221/00/OR_ABI-L1b-RadF-M6C08_G16_s20192210020548_e20192210030256_c20192210030334.nc -P /sharedData/scratch/fall_data\n",
      "wget -nc -c https://noaa-goes16.s3.amazonaws.com/ABI-L1b-RadF/2019/221/00/OR_ABI-L1b-RadF-M6C08_G16_s20192210030548_e20192210040256_c20192210040329.nc -P /sharedData/scratch/fall_data\n",
      "wget -nc -c https://noaa-goes16.s3.amazonaws.com/ABI-L1b-RadF/2019/221/00/OR_ABI-L1b-RadF-M6C08_G16_s20192210040549_e20192210050257_c20192210050328.nc -P /sharedData/scratch/fall_data\n",
      "wget -nc -c https://noaa-goes16.s3.amazonaws.com/ABI-L1b-RadF/2019/221/00/OR_ABI-L1b-RadF-M6C08_G16_s20192210050549_e20192210100257_c20192210100335.nc -P /sharedData/scratch/fall_data\n",
      "wget -nc -c https://noaa-goes16.s3.amazonaws.com/ABI-L1b-RadF/2019/221/00/OR_ABI-L1b-RadF-M6C09_G16_s20192210000548_e20192210010262_c20192210010345.nc -P /sharedData/scratch/fall_data\n",
      "wget -nc -c https://noaa-goes16.s3.amazonaws.com/ABI-L1b-RadF/2019/221/00/OR_ABI-L1b-RadF-M6C09_G16_s20192210010548_e20192210020262_c20192210020339.nc -P /sharedData/scratch/fall_data\n",
      "wget -nc -c https://noaa-goes16.s3.amazonaws.com/ABI-L1b-RadF/2019/221/00/OR_ABI-L1b-RadF-M6C09_G16_s20192210020548_e20192210030262_c20192210030331.nc -P /sharedData/scratch/fall_data\n"
     ]
    }
   ],
   "source": [
    "import os, sys\n",
    "import os.path as op\n",
    "import re\n",
    "from subprocess import Popen\n",
    "\n",
    "\n",
    "path = \"G16_G17_url_list/\"\n",
    "dirs = os.listdir( path )\n",
    "\n",
    "newPath = '/sharedData/scratch/fall_data'\n",
    "\n",
    "# This would print all the files and directories\n",
    "for fileList in dirs:\n",
    "    print(fileList)\n",
    "    download(op.join(path, fileList),newPath)"
   ]
  },
  {
   "cell_type": "code",
   "execution_count": null,
   "metadata": {
    "collapsed": true
   },
   "outputs": [],
   "source": []
  }
 ],
 "metadata": {
  "kernelspec": {
   "display_name": "Python 3",
   "language": "python",
   "name": "python3"
  },
  "language_info": {
   "codemirror_mode": {
    "name": "ipython",
    "version": 3
   },
   "file_extension": ".py",
   "mimetype": "text/x-python",
   "name": "python",
   "nbconvert_exporter": "python",
   "pygments_lexer": "ipython3",
   "version": "3.7.4"
  }
 },
 "nbformat": 4,
 "nbformat_minor": 2
}
