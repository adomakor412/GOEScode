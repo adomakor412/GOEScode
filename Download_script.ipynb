{
 "cells": [
  {
   "cell_type": "code",
   "execution_count": 2,
   "metadata": {},
   "outputs": [],
   "source": [
    "def download(filename,toPath):\n",
    "    with open(filename, 'r') as fid:\n",
    "        txt = fid.read()\n",
    "    urls = txt.split()\n",
    "    cmdlist = [ 'wget -nc -c ' + url +' -P ' + toPath for url in urls ]#if re.search('C07',url)\n",
    "    print(len(urls),len(list(set(urls))),len(cmdlist))\n",
    "\n",
    "    for url, cmd in zip(urls, cmdlist):\n",
    "        print(cmd)\n",
    "        if op.exists(url):\n",
    "            continue\n",
    "        pid = Popen(cmd, shell=True)\n",
    "        pid.communicate()\n",
    "    return"
   ]
  },
  {
   "cell_type": "code",
   "execution_count": 5,
   "metadata": {},
   "outputs": [
    {
     "name": "stdout",
     "output_type": "stream",
     "text": [
      ".ipynb_checkpoints\n",
      "0 0 0\n",
      "0 0 0\n",
      "0 0 0\n",
      "0 0 0\n",
      "0 0 0\n",
      "0 0 0\n",
      "0 0 0\n",
      "0 0 0\n",
      "0 0 0\n",
      "0 0 0\n",
      "0 0 0\n",
      "0 0 0\n",
      "0 0 0\n",
      "0 0 0\n",
      "0 0 0\n",
      "0 0 0\n",
      "0 0 0\n",
      "0 0 0\n",
      "0 0 0\n",
      "0 0 0\n"
     ]
    }
   ],
   "source": [
    "import os, sys\n",
    "import os.path as op\n",
    "import re\n",
    "from subprocess import Popen\n",
    "\n",
    "\n",
    "path = \"G16_G17_url_list/\"\n",
    "dirs = os.listdir( path )\n",
    "\n",
    "newPath = '/sharedData/scratch/fall_data'\n",
    "\n",
    "# This would print all the files and directories\n",
    "for file in dirs:\n",
    "    try:\n",
    "        download(op.join(path, file),newPath)\n",
    "    except:\n",
    "        print(file)"
   ]
  },
  {
   "cell_type": "code",
   "execution_count": null,
   "metadata": {},
   "outputs": [],
   "source": []
  }
 ],
 "metadata": {
  "kernelspec": {
   "display_name": "Python 3",
   "language": "python",
   "name": "python3"
  },
  "language_info": {
   "codemirror_mode": {
    "name": "ipython",
    "version": 3
   },
   "file_extension": ".py",
   "mimetype": "text/x-python",
   "name": "python",
   "nbconvert_exporter": "python",
   "pygments_lexer": "ipython3",
   "version": "3.7.4"
  }
 },
 "nbformat": 4,
 "nbformat_minor": 2
}
