{
 "cells": [
  {
   "cell_type": "code",
   "execution_count": 1,
   "metadata": {},
   "outputs": [],
   "source": [
    "def download(filename,toPath):\n",
    "    with open(filename, 'r') as fid:\n",
    "        txt = fid.read()\n",
    "    urls = txt.split()\n",
    "    cmdlist = [ 'wget -nc -c ' + url +' -P ' + toPath for url in urls ]#if re.search('C07',url)\n",
    "    print(len(urls),len(list(set(urls))),len(cmdlist))\n",
    "\n",
    "    for url, cmd in zip(urls, cmdlist):\n",
    "        print(cmd)\n",
    "        if op.exists(url):\n",
    "            continue\n",
    "        pid = Popen(cmd, shell=True)\n",
    "        pid.communicate()\n",
    "    return"
   ]
  },
  {
   "cell_type": "code",
   "execution_count": 4,
   "metadata": {},
   "outputs": [
    {
     "data": {
      "text/plain": [
       "'\\n# This would print all the files and directories\\nfor fileList in dirs:\\n    download(op.join(path, file),newPath)\\n    '"
      ]
     },
     "execution_count": 4,
     "metadata": {},
     "output_type": "execute_result"
    }
   ],
   "source": [
    "import os, sys\n",
    "import os.path as op\n",
    "import re\n",
    "from subprocess import Popen\n",
    "\n",
    "\n",
    "path = \"G16_G17_url_list/\"\n",
    "dirs = os.listdir( path )\n",
    "\n",
    "newPath = '/sharedData/scratch/'\n",
    "\n",
    "# This would print all the files and directories\n",
    "for fileList in dirs:\n",
    "    download(op.join(path, file),newPath)"
   ]
  },
  {
   "cell_type": "code",
   "execution_count": 2,
   "metadata": {},
   "outputs": [
    {
     "data": {
      "text/plain": [
       "['/opt/home/adomakor412/notebooks/GOEScode',\n",
       " '/opt/home/adomakor412/.conda/envs/NOAA/lib/python37.zip',\n",
       " '/opt/home/adomakor412/.conda/envs/NOAA/lib/python3.7',\n",
       " '/opt/home/adomakor412/.conda/envs/NOAA/lib/python3.7/lib-dynload',\n",
       " '',\n",
       " '/opt/home/adomakor412/.conda/envs/NOAA/lib/python3.7/site-packages',\n",
       " '/opt/home/adomakor412/.conda/envs/NOAA/lib/python3.7/site-packages/IPython/extensions',\n",
       " '/opt/home/adomakor412/.ipython']"
      ]
     },
     "execution_count": 2,
     "metadata": {},
     "output_type": "execute_result"
    }
   ],
   "source": [
    "import sys\n",
    "sys.path"
   ]
  },
  {
   "cell_type": "code",
   "execution_count": 4,
   "metadata": {},
   "outputs": [
    {
     "name": "stdout",
     "output_type": "stream",
     "text": [
      "/usr/local/anaconda3/bin/python3\r\n"
     ]
    }
   ],
   "source": [
    "!which python3"
   ]
  },
  {
   "cell_type": "code",
   "execution_count": 5,
   "metadata": {},
   "outputs": [],
   "source": [
    "import os"
   ]
  },
  {
   "cell_type": "code",
   "execution_count": 6,
   "metadata": {},
   "outputs": [
    {
     "name": "stdout",
     "output_type": "stream",
     "text": [
      "/opt/home/adomakor412/.conda/envs/NOAA/lib/python3.7/os.py\n"
     ]
    }
   ],
   "source": [
    "print(os.__file__)"
   ]
  },
  {
   "cell_type": "code",
   "execution_count": null,
   "metadata": {},
   "outputs": [],
   "source": []
  }
 ],
 "metadata": {
  "kernelspec": {
   "display_name": "Python 3",
   "language": "python",
   "name": "python3"
  },
  "language_info": {
   "codemirror_mode": {
    "name": "ipython",
    "version": 3
   },
   "file_extension": ".py",
   "mimetype": "text/x-python",
   "name": "python",
   "nbconvert_exporter": "python",
   "pygments_lexer": "ipython3",
   "version": "3.7.4"
  }
 },
 "nbformat": 4,
 "nbformat_minor": 2
}
