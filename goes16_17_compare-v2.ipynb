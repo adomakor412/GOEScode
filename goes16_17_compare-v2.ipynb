{
 "cells": [
  {
   "cell_type": "markdown",
   "metadata": {},
   "source": [
    "**Michael Grossberg**\n",
    "**July 12, 2019**\n",
    "\n",
    "# Study in remapping GOES-16 and GOES17 problems with pyresample\n",
    "\n",
    "In this notebook I will show some problems with using pyresample to remap. I will use cartopy which does not allow me to pull the data of the remapping out but will let me remap. And then I will use pyresample and get incorrect answers for GOES-16 and GOES-17 remapped to CONUS using Plate Carree and Albers Equal Area projections.\n",
    "\n",
    "Most of the code comes from Brian Blaylock's github repo.\n",
    "https://github.com/blaylockbk/pyBKB_v3\n",
    "\n",
    "Data is here: https://github.com/adomakor412/GOEScode\n",
    "\n",
    "GOES files can be downloaded from Amazon S3:\n",
    "- Amazon page: https://registry.opendata.aws/noaa-goes/\n",
    "- My download page: http://home.chpc.utah.edu/~u0553130/Brian_Blaylock/cgi-bin/generic_AWS_download.cgi?DATASET=noaa-goes16"
   ]
  },
  {
   "cell_type": "code",
   "execution_count": 1,
   "metadata": {},
   "outputs": [
    {
     "ename": "ModuleNotFoundError",
     "evalue": "No module named 'metpy'",
     "output_type": "error",
     "traceback": [
      "\u001b[0;31m---------------------------------------------------------------------------\u001b[0m",
      "\u001b[0;31mModuleNotFoundError\u001b[0m                       Traceback (most recent call last)",
      "\u001b[0;32m<ipython-input-1-8a2d3a4a90e0>\u001b[0m in \u001b[0;36m<module>\u001b[0;34m\u001b[0m\n\u001b[1;32m     11\u001b[0m \u001b[0;32mimport\u001b[0m \u001b[0mos\u001b[0m\u001b[0;34m.\u001b[0m\u001b[0mpath\u001b[0m \u001b[0;32mas\u001b[0m \u001b[0mop\u001b[0m\u001b[0;34m\u001b[0m\u001b[0;34m\u001b[0m\u001b[0m\n\u001b[1;32m     12\u001b[0m \u001b[0;32mimport\u001b[0m \u001b[0msys\u001b[0m\u001b[0;34m\u001b[0m\u001b[0;34m\u001b[0m\u001b[0m\n\u001b[0;32m---> 13\u001b[0;31m \u001b[0;32mimport\u001b[0m \u001b[0mmetpy\u001b[0m\u001b[0;34m\u001b[0m\u001b[0;34m\u001b[0m\u001b[0m\n\u001b[0m\u001b[1;32m     14\u001b[0m \u001b[0;32mimport\u001b[0m \u001b[0mseaborn\u001b[0m \u001b[0;32mas\u001b[0m \u001b[0msns\u001b[0m\u001b[0;34m\u001b[0m\u001b[0;34m\u001b[0m\u001b[0m\n\u001b[1;32m     15\u001b[0m \u001b[0msns\u001b[0m\u001b[0;34m.\u001b[0m\u001b[0mset\u001b[0m\u001b[0;34m(\u001b[0m\u001b[0mstyle\u001b[0m\u001b[0;34m=\u001b[0m\u001b[0;34m\"darkgrid\"\u001b[0m\u001b[0;34m)\u001b[0m\u001b[0;34m\u001b[0m\u001b[0;34m\u001b[0m\u001b[0m\n",
      "\u001b[0;31mModuleNotFoundError\u001b[0m: No module named 'metpy'"
     ]
    }
   ],
   "source": [
    "import numpy as np\n",
    "from datetime import datetime, timedelta\n",
    "from pyproj import Proj\n",
    "import pyproj\n",
    "import xarray\n",
    "import matplotlib.pyplot as plt\n",
    "import cartopy.crs as ccrs\n",
    "import cartopy.feature as cfeature\n",
    "from pyresample import image, geometry\n",
    "import os\n",
    "import os.path as op\n",
    "import sys\n",
    "import metpy\n",
    "import seaborn as sns\n",
    "sns.set(style=\"darkgrid\")\n",
    "import pandas as pd\n",
    "import statsmodels.api as sm\n",
    "%matplotlib inline\n",
    "DATAPATH= './GOEScode'\n",
    "#sys.path.append('../pyBKB_v3')\n",
    "#rom BB_GOES.get_GOES import get_GOES_nearesttime"
   ]
  },
  {
   "cell_type": "code",
   "execution_count": null,
   "metadata": {},
   "outputs": [],
   "source": [
    "G16 = xarray.open_dataset(op.join(DATAPATH,'OR_ABI-L2-MCMIPC-M6_G16_s20191771701200_e20191771703573_c20191771704096.nc')) #using metpy for reading satellite or weather data\n",
    "G17 = xarray.open_dataset(op.join(DATAPATH,'OR_ABI-L2-MCMIPC-M6_G17_s20191771701197_e20191771703570_c20191771704070.nc'))"
   ]
  },
  {
   "cell_type": "code",
   "execution_count": null,
   "metadata": {},
   "outputs": [],
   "source": [
    "def make_RGB(C, night_IR=True):\n",
    "    \n",
    "    \"\"\"\n",
    "    C        - GOES file opened with xarray\n",
    "    night_IR - Set nighttime pixels as clean IR channel (channel 13, 10.3 um).\n",
    "    \"\"\"\n",
    "    \n",
    "    # Load the three channels into appropriate R, G, and B variables\n",
    "    R = C['CMI_C02'].data\n",
    "    G = C['CMI_C03'].data\n",
    "    B = C['CMI_C01'].data\n",
    "\n",
    "    ######################################################################\n",
    "    #\n",
    "\n",
    "    # Apply range limits for each channel. RGB values must be between 0 and 1\n",
    "    R = np.clip(R, 0, 1)\n",
    "    G = np.clip(G, 0, 1)\n",
    "    B = np.clip(B, 0, 1)\n",
    "\n",
    "    ######################################################################\n",
    "    #\n",
    "\n",
    "    # Apply a gamma correction to the image\n",
    "    gamma = 2.2\n",
    "    R = np.power(R, 1/gamma)\n",
    "    G = np.power(G, 1/gamma)\n",
    "    B = np.power(B, 1/gamma)\n",
    "\n",
    "    ######################################################################\n",
    "    #\n",
    "\n",
    "    # Calculate the \"True\" Green\n",
    "    G_true = 0.45 * R + 0.1 * G + 0.45 * B\n",
    "    G_true = np.maximum(G_true, 0)\n",
    "    G_true = np.minimum(G_true, 1)\n",
    "    \n",
    "    # The RGB array with the raw veggie band\n",
    "    RGB_veggie = np.dstack([R, G, B])\n",
    "\n",
    "    # The RGB array for the true color image\n",
    "    RGB = np.dstack([R, G_true, B])\n",
    "    \n",
    "    if night_IR:\n",
    "        cleanIR = C['CMI_C13'].data\n",
    "        # Normalize the channel between a range. e.g. cleanIR =\n",
    "        # (cleanIR-minimum)/(maximum-minimum)\n",
    "        cleanIR = (cleanIR-90)/(313-90)\n",
    "\n",
    "        # Apply range limits for each channel. RGB values must be between 0 and 1\n",
    "        cleanIR = np.clip(cleanIR, 0, 1)\n",
    "\n",
    "        # Invert colors so that cold clouds are white\n",
    "        cleanIR = 1 - cleanIR\n",
    "\n",
    "        # Lessen the brightness of the coldest clouds so they don't appear so bright\n",
    "        # when we overlay it on the true color image\n",
    "        cleanIR = cleanIR/1.4\n",
    "    \n",
    "        # Fill RGB where true color is black with IR values.\n",
    "        RGB = np.dstack([np.maximum(R, cleanIR),\n",
    "                         np.maximum(G_true, cleanIR),\n",
    "                         np.maximum(B, cleanIR)])\n",
    "        \n",
    "    return RGB"
   ]
  },
  {
   "cell_type": "markdown",
   "metadata": {},
   "source": [
    "## Plot Loaded data\n",
    "Without remapping this is close to the data as loaded by the netcdf readers."
   ]
  },
  {
   "cell_type": "code",
   "execution_count": null,
   "metadata": {},
   "outputs": [],
   "source": [
    "# Make RGB for both GOES16 and GOES17\n",
    "rgb16 = make_RGB(G16)\n",
    "rgb17 = make_RGB(G17)\n",
    "\n",
    "scan_start_16 = datetime.strptime(G16.time_coverage_start, '%Y-%m-%dT%H:%M:%S.%fZ')\n",
    "scan_start_17 = datetime.strptime(G17.time_coverage_start, '%Y-%m-%dT%H:%M:%S.%fZ')"
   ]
  },
  {
   "cell_type": "code",
   "execution_count": null,
   "metadata": {},
   "outputs": [],
   "source": [
    "fig_1, (ax1_1, ax2_1) = plt.subplots(1,2, figsize=(16,6))\n",
    "\n",
    "# The GOES-17 RGB\n",
    "ax1_1.imshow(rgb17)\n",
    "ax1_1.set_title('GOES-16 RGB', fontweight='semibold', loc='left', fontsize=12);\n",
    "\n",
    "ax1_1.set_title('%s' % scan_start_17.strftime('%d %B %Y %H:%M UTC '), loc='right');\n",
    "ax1_1.axis('off')\n",
    "\n",
    "# The GOES-16 RGB\n",
    "ax2_1.imshow(rgb16)\n",
    "ax2_1.set_title('GOES-16 RGB True Color', fontweight='semibold', loc='left', fontsize=12);\n",
    "ax2_1.set_title('%s' % scan_start_16.strftime('%d %B %Y %H:%M UTC '), loc='right');\n",
    "ax2_1.axis('off')"
   ]
  },
  {
   "cell_type": "markdown",
   "metadata": {},
   "source": [
    "## Plot Geostationary figures\n",
    "\n",
    "Here the projections are extracted from the data. Then the data is plotted in the geostationary projection, essentially simulating \"as viewed by the imager\"."
   ]
  },
  {
   "cell_type": "code",
   "execution_count": null,
   "metadata": {},
   "outputs": [],
   "source": [
    "# Generate cartopy projection object with metpy parser\n",
    "# NOTE: Don't re-run this cell after it has run or it won't work.\n",
    "dat16 = G16.metpy.parse_cf('CMI_C02')\n",
    "dat17 = G17.metpy.parse_cf('CMI_C02')\n",
    "\n",
    "# Geostationary projections\n",
    "geos16 = dat16.metpy.cartopy_crs\n",
    "geos17 = dat17.metpy.cartopy_crs\n",
    "\n",
    "x16 = dat16.x\n",
    "y16 = dat16.y\n",
    "\n",
    "x17 = dat17.x\n",
    "y17 = dat17.y\n",
    "\n",
    "# Cartopy extents go [x_min, x_max, y_min, y_max]\n",
    "cartopy_extent_goes16 = (x16.min(), x16.max(), y16.min(), y16.max())\n",
    "cartopy_extent_goes17 = (x17.min(), x17.max(), y17.min(), y17.max())"
   ]
  },
  {
   "cell_type": "code",
   "execution_count": null,
   "metadata": {},
   "outputs": [],
   "source": [
    "fig_2 = plt.figure(figsize=(12, 5))\n",
    "\n",
    "ax1_2 = fig_2.add_subplot(1, 2, 1, projection=geos17)\n",
    "ax2_2 = fig_2.add_subplot(1, 2, 2, projection=geos16)\n",
    "\n",
    "\n",
    "## GOES 17\n",
    "ax1_2.imshow(rgb17, origin='upper', extent=cartopy_extent_goes17,\n",
    "           transform=geos17)\n",
    "ax1_2.coastlines(resolution='50m', color='black', linewidth=.75)\n",
    "ax1_2.add_feature(ccrs.cartopy.feature.STATES, linewidth=.5)\n",
    "ax1_2.set_title('GOES-17')\n",
    "\n",
    "## GOES 16\n",
    "ax2_2.imshow(rgb16, origin='upper', extent=cartopy_extent_goes16,\n",
    "           transform=geos16)\n",
    "ax2_2.coastlines(resolution='50m', color='black', linewidth=.75)\n",
    "ax2_2.add_feature(ccrs.cartopy.feature.STATES, linewidth=.5)\n",
    "ax2_2.set_title('GOES-16')\n",
    "\n",
    "fig_2.subplots_adjust(wspace=.01)"
   ]
  },
  {
   "cell_type": "markdown",
   "metadata": {},
   "source": [
    "# Plate Carree Cylindrical Projection (with Cartopy)\n",
    "Zoomed on Utah in Plate Carree Projection. When these are checked against Google maps they read correctly so this looks like Cartopy is making the proper remapping."
   ]
  },
  {
   "cell_type": "code",
   "execution_count": null,
   "metadata": {},
   "outputs": [],
   "source": [
    "# This defines the target projection Plate Carree\n",
    "pc = ccrs.PlateCarree()\n",
    "\n",
    "Utah_lat_lon_extent = [-114.75, -108.25, 36, 43]\n",
    "fig_3 = plt.figure(figsize=(15, 8))\n",
    "\n",
    "ax1_3 = fig_3.add_subplot(1, 2, 1, projection=pc)\n",
    "ax2_3 = fig_3.add_subplot(1, 2, 2, projection=pc)\n",
    "\n",
    "ax1_3.set_extent(Utah_lat_lon_extent, crs=pc)\n",
    "ax2_3.set_extent(Utah_lat_lon_extent, crs=pc)\n",
    "\n",
    "\n",
    "# GOES17\n",
    "ax1_3.imshow(rgb17, origin='upper',\n",
    "           extent=cartopy_extent_goes17,\n",
    "           transform=geos17,\n",
    "           interpolation='none')\n",
    "ax1_3.add_feature(ccrs.cartopy.feature.STATES)\n",
    "ax1_3.set_title('GOES-17', loc='left', fontweight='bold')\n",
    "ax1_3.set_title('%s' % scan_start_17.strftime('%d %B %Y %H:%M UTC'), loc='right');\n",
    "\n",
    "# GOES16\n",
    "ax2_3.imshow(rgb16, origin='upper',\n",
    "           extent=cartopy_extent_goes16,\n",
    "           transform=geos16,\n",
    "           interpolation='none')\n",
    "ax2_3.add_feature(ccrs.cartopy.feature.STATES)\n",
    "ax2_3.set_title('GOES-16', loc='left', fontweight='bold')\n",
    "ax2_3.set_title('%s' % scan_start_16.strftime('%d %B %Y %H:%M UTC'), loc='right');\n",
    "\n",
    "\n",
    "fig_3.subplots_adjust(wspace=.01)"
   ]
  },
  {
   "cell_type": "markdown",
   "metadata": {},
   "source": [
    "## Plate Carree with Pyresample\n",
    "\n",
    "Is possible to extract the proj4 parameters from the mapping and reproduce the resampling using pyresample. In this way we could get the array of values to be used in comparison for CAL-VAL. We have to be incredibly careful with the extents to make sure that everything is consistent."
   ]
  },
  {
   "cell_type": "code",
   "execution_count": null,
   "metadata": {},
   "outputs": [],
   "source": [
    "goes16_params = geos16.proj4_params\n",
    "print(goes16_params)"
   ]
  },
  {
   "cell_type": "code",
   "execution_count": null,
   "metadata": {},
   "outputs": [],
   "source": [
    "goes17_params = geos17.proj4_params\n",
    "print(goes17_params)"
   ]
  },
  {
   "cell_type": "code",
   "execution_count": null,
   "metadata": {},
   "outputs": [],
   "source": [
    "pc_params = pc.proj4_params\n",
    "print(pc_params)"
   ]
  },
  {
   "cell_type": "code",
   "execution_count": null,
   "metadata": {},
   "outputs": [],
   "source": [
    "# Extent from pc_params consitant with Cartopy's \"pc\" projection\n",
    "# The extend that pyresample uses is [x_min, y_min, x_max, y_max] \n",
    "#      **rather than** [x_min,x_max,y_min,y_max]\n",
    "#      as is used in Cartopy\n",
    "prj_pc = pyproj.Proj(pc_params) \n",
    "ll_pc = prj_pc(Utah_lat_lon_extent[0], Utah_lat_lon_extent[2]) # lower left coordinates\n",
    "ur_pc = prj_pc(Utah_lat_lon_extent[1], Utah_lat_lon_extent[3]) # upper right coordinates\n",
    "extent_pc = ll_pc + ur_pc\n",
    "print(prj_pc.srs)\n",
    "print(extent_pc)"
   ]
  },
  {
   "cell_type": "markdown",
   "metadata": {},
   "source": [
    "We need to compute the extent of the target projection for remapping."
   ]
  },
  {
   "cell_type": "code",
   "execution_count": null,
   "metadata": {
    "scrolled": true
   },
   "outputs": [],
   "source": [
    "# Redchannels only\n",
    "R16 = rgb16[:,:,0]\n",
    "R17 = rgb17[:,:,0]\n",
    "\n",
    "# Float conversion needed and re-ordering of extent to match pyresample form [x_min, y_min, x_max, y_max] \n",
    "pyresample_extent_goes17 = [float(x17.min()), float(y17.min()), float(x17.max()), float(y17.max())]\n",
    "pyresample_extent_goes16 = [float(x16.min()), float(y16.min()),float(x16.max()),float(y16.max())]\n",
    "\n",
    "# Float conversion needed and re-ordering of extent to match pyresample form [x_min, y_min, x_max, y_max] \n",
    "goes17_area = geometry.AreaDefinition('GOES-17', 'CONUS',\n",
    "                                'GOES-17', goes17_params,\n",
    "                                R17.shape[1], R17.shape[0],\n",
    "                              pyresample_extent_goes17)\n",
    "\n",
    "# Float conversion needed and re-ordering of extent to match pyresample form [x_min, y_min, x_max, y_max] \n",
    "goes16_area = geometry.AreaDefinition('GOES-16', 'CONUS',\n",
    "                                'GOES-16', goes16_params,\n",
    "                                R16.shape[1], R16.shape[0],\n",
    "                              pyresample_extent_goes16)\n",
    "\n",
    "NUM_ROWS, NUM_COLS = 800, 800 # We pick number of rows and columns\n",
    "\n",
    "area_pc_def = geometry.AreaDefinition('areaD', 'CONUS-UTAH', 'areaD',\n",
    "                                      pc_params,\n",
    "                                      NUM_ROWS,NUM_COLS,\n",
    "                                      extent_pc)\n",
    "\n",
    "# Here is where we use pyresample RATHER than Cartopy to transform goes16/17 to Plate Carree\n",
    "geos17_con_nn = image.ImageContainerNearest(R17, goes17_area, radius_of_influence=50000)\n",
    "area_17_con_nn = geos17_con_nn.resample(area_pc_def)\n",
    "image_pc_17 = area_17_con_nn.image_data\n",
    "\n",
    "geos16_con_nn = image.ImageContainerNearest(R16, goes16_area, radius_of_influence=50000)\n",
    "area_16_con_nn = geos16_con_nn.resample(area_pc_def)\n",
    "image_pc_16 = area_16_con_nn.image_data\n",
    "\n",
    "\n",
    "Utah_lat_lon_extent = [-114.75, -108.25, 36, 43]\n",
    "fig_4 = plt.figure(figsize=(15, 8))\n",
    "\n",
    "ax1_4 = fig_4.add_subplot(1, 2, 1, projection=pc)\n",
    "ax2_4 = fig_4.add_subplot(1, 2, 2, projection=pc)\n",
    "\n",
    "ax1_4.set_extent(Utah_lat_lon_extent, crs=pc)\n",
    "ax2_4.set_extent(Utah_lat_lon_extent, crs=pc)\n",
    "\n",
    "\n",
    "# GOES17\n",
    "ax1_4.imshow(image_pc_17, origin='upper',\n",
    "           interpolation='none', extent=Utah_lat_lon_extent, transform=pc)\n",
    "ax1_4.add_feature(ccrs.cartopy.feature.STATES)\n",
    "ax1_4.set_title('GOES-17', loc='left', fontweight='bold')\n",
    "ax1_4.set_title('%s' % scan_start_17.strftime('%d %B %Y %H:%M UTC'), loc='right');\n",
    "\n",
    "# GOES16\n",
    "ax2_4.imshow(image_pc_16, origin='upper',\n",
    "           interpolation='none', extent=Utah_lat_lon_extent, transform=pc)\n",
    "ax2_4.add_feature(ccrs.cartopy.feature.STATES)\n",
    "ax2_4.set_title('GOES-16', loc='left', fontweight='bold')\n",
    "ax2_4.set_title('%s' % scan_start_16.strftime('%d %B %Y %H:%M UTC'), loc='right');\n"
   ]
  },
  {
   "cell_type": "markdown",
   "metadata": {},
   "source": [
    "## Albers Equal Area\n",
    "\n",
    "The pixels in Plate Carree are actually not exactly the same size. It is not an equal area projection. We are going to redo in Albers Equal Area to make sure we can run another projection."
   ]
  },
  {
   "cell_type": "code",
   "execution_count": null,
   "metadata": {},
   "outputs": [],
   "source": [
    "# The proj4 string was copied from a recommendation for the US map\n",
    "prj_aea = pyproj.Proj(\n",
    "    \"+proj=aea +lat_1=29.5 +lat_2=45.5 +lat_0=37.5 +lon_0=-96 \"+\n",
    "    \"+x_0=0 +y_0=0 +ellps=GRS80 +datum=NAD83 +units=m +no_defs\")\n",
    "aea = ccrs.AlbersEqualArea(globe=ccrs.Globe(ellipse='GRS80'),\n",
    "                           central_longitude=-96,central_latitude=37.5,\n",
    "                           standard_parallels=(29.5,45.5))\n",
    "aea_params = aea.proj4_params\n",
    "print(aea_params)"
   ]
  },
  {
   "cell_type": "code",
   "execution_count": null,
   "metadata": {},
   "outputs": [],
   "source": [
    "# This gives good results \n",
    "\n",
    "a_AEA = prj_aea(Utah_lat_lon_extent[0], Utah_lat_lon_extent[2]) # lower left coordinates\n",
    "b_AEA = prj_aea(Utah_lat_lon_extent[1], Utah_lat_lon_extent[3]) # upper right coordinates\n",
    "pyresample_extent_AEA = a_AEA + b_AEA\n",
    "cartopy_extent_AEA = [extent_AEA[0], extent_AEA[2], extent_AEA[1], extent_AEA[3]]\n",
    "\n",
    "fig_5 = plt.figure(figsize=(15, 8))\n",
    "\n",
    "ax1_5 = fig_5.add_subplot(1, 2, 1, projection=aea)\n",
    "ax2_5 = fig_5.add_subplot(1, 2, 2, projection=aea)\n",
    "\n",
    "ax1_5.set_extent(cartopy_extent_AEA, crs=aea)\n",
    "ax2_5.set_extent(cartopy_extent_AEA, crs=aea)\n",
    "\n",
    "\n",
    "# GOES17\n",
    "ax1_5.imshow(rgb17, origin='upper',\n",
    "           extent=(x17.min(), x17.max(), y17.min(), y17.max()),\n",
    "           transform=geos17,\n",
    "           interpolation='none')\n",
    "ax1_5.add_feature(ccrs.cartopy.feature.STATES)\n",
    "ax1_5.set_title('GOES-17', loc='left', fontweight='bold')\n",
    "ax1_5.set_title('%s' % scan_start_17.strftime('%d %B %Y %H:%M UTC'), loc='right');\n",
    "\n",
    "# GOES16\n",
    "ax2_5.imshow(rgb16, origin='upper',\n",
    "           extent=(x16.min(), x16.max(), y16.min(), y16.max()),\n",
    "           transform=geos16,\n",
    "           interpolation='none')\n",
    "ax2_5.add_feature(ccrs.cartopy.feature.STATES)\n",
    "ax2_5.set_title('GOES-16', loc='left', fontweight='bold')\n",
    "ax2_5.set_title('%s' % scan_start_16.strftime('%d %B %Y %H:%M UTC'), loc='right');\n",
    "\n",
    "fig_5.subplots_adjust(wspace=.01)\n",
    "print(aea.proj4_params)"
   ]
  },
  {
   "cell_type": "code",
   "execution_count": null,
   "metadata": {},
   "outputs": [],
   "source": [
    "area_aea_def = geometry.AreaDefinition('areaD', 'CONUS-UTAH', 'areaD',\n",
    "                                  {'ellps': 'GRS80', 'proj': 'aea', \n",
    "                                   'lon_0': -96, 'lat_0': 37.5, \n",
    "                                   'x_0': 0.0, 'y_0': 0.0, \n",
    "                                   'lat_1': 29.5, 'lat_2': 45.5},\n",
    "                                    800, 800,\n",
    "                                   pyresample_extent_AEA)\n",
    "\n",
    "# Here we are using pyresample for the remapping\n",
    "area_aea_con_nn = geos17_con_nn.resample(area_aea_def)\n",
    "image_aea_17 = area_aea_con_nn.image_data\n",
    "\n",
    "area_aea_con_nn = geos16_con_nn.resample(area_aea_def)\n",
    "image_aea_16= area_aea_con_nn.image_data\n",
    "\n",
    "fig_5 = plt.figure(figsize=(15, 8))\n",
    "\n",
    "ax1_5 = fig_5.add_subplot(1, 2, 1, projection=aea)\n",
    "ax2_5 = fig_5.add_subplot(1, 2, 2, projection=aea)\n",
    "\n",
    "ax1_5.set_extent(cartopy_extent_AEA, crs=aea)\n",
    "ax2_5.set_extent(cartopy_extent_AEA, crs=aea)\n",
    "\n",
    "\n",
    "# GOES17\n",
    "ax1_5.imshow(image_aea_17, origin='upper',\n",
    "           interpolation='none', extent=cartopy_extent_AEA, transform=aea)\n",
    "ax1_5.add_feature(ccrs.cartopy.feature.STATES)\n",
    "ax1_5.set_title('GOES-17', loc='left', fontweight='bold')\n",
    "ax1_5.set_title('%s' % scan_start_17.strftime('%d %B %Y %H:%M UTC'), loc='right');\n",
    "\n",
    "# GOES16\n",
    "ax2_5.imshow(image_aea_16, origin='upper',\n",
    "           interpolation='none', extent=cartopy_extent_AEA, transform=aea)\n",
    "ax2_5.add_feature(ccrs.cartopy.feature.STATES)\n",
    "ax2_5.set_title('GOES-16', loc='left', fontweight='bold')\n",
    "ax2_5.set_title('%s' % scan_start_16.strftime('%d %B %Y %H:%M UTC'), loc='right');\n"
   ]
  },
  {
   "cell_type": "markdown",
   "metadata": {},
   "source": [
    "## Comparing Data Points\n",
    "\n",
    "Now that we have the data array 'image_aea_16' and 'image_aea_17' which corresponds to the same grid, we can scatter plot it. But wer first need to check how many data points there are since there may be too many to scatter plot. The goal is now to get 5,000 points from each and see how the scatterplot/correllation looks. We will also want to see which points we have sampled from. We need to be able to go back and forth from data to map and back.\n"
   ]
  },
  {
   "cell_type": "code",
   "execution_count": null,
   "metadata": {},
   "outputs": [],
   "source": [
    "# Flatten the data into one long vector and count pixels\n",
    "num_pixels = len(image_aea_16.ravel())\n",
    "print(num_pixels)"
   ]
  },
  {
   "cell_type": "code",
   "execution_count": null,
   "metadata": {},
   "outputs": [],
   "source": [
    "NUM_SAMPLES=5000 #All caps because this is a \"constant\" we set.\n",
    "RANDOM_SEED = 42 # Alwasy seed our choices\n",
    "\n",
    "inds_in_order = np.arange(num_pixels)\n",
    "\n",
    "np.random.seed(RANDOM_SEED)\n",
    "shuffled_pixel_inds = np.random.permutation(inds_in_order)\n",
    "sample_inds = shuffled_pixel_inds[0:NUM_SAMPLES]\n",
    "goes16_val_samples = image_aea_16.ravel()[sample_inds]\n",
    "goes17_val_samples = image_aea_17.ravel()[sample_inds]"
   ]
  },
  {
   "cell_type": "markdown",
   "metadata": {},
   "source": [
    "With a representive 5000 points were not ready so see how the relate in GOES-16 and GOES-17"
   ]
  },
  {
   "cell_type": "code",
   "execution_count": null,
   "metadata": {},
   "outputs": [],
   "source": [
    "\n",
    "\n",
    "\n",
    "goesdata = pd.DataFrame({'Red Band GOES 17 values':goes17_val_samples,\n",
    "                        'Red Band GOES 16 values':goes16_val_samples})\n",
    "\n",
    "g = sns.jointplot(\"Red Band GOES 16 values\", \"Red Band GOES 17 values\", data=goesdata, kind=\"reg\",\n",
    "                  xlim=(0, 1), ylim=(0, 1), color=\"m\", height=7)"
   ]
  },
  {
   "cell_type": "markdown",
   "metadata": {},
   "source": [
    "The regression line shows that there is a bias, and that goes 17 is somewhat darker thatn goes 16 for this image. \n",
    "If we scatter plot without being careful about the alpha it looks like the data is actually very weakly correlated and the error between the two graphs is high.  That is misleading. There is a very tight error envelope around the least square fit line. We can see that most of the data actually is pretty close to the line if we make the dots much more transparent."
   ]
  },
  {
   "cell_type": "code",
   "execution_count": null,
   "metadata": {},
   "outputs": [],
   "source": [
    "goesdata = pd.DataFrame({'Red Band GOES 17 values':goes17_val_samples,\n",
    "                        'Red Band GOES 16 values':goes16_val_samples})\n",
    "\n",
    "g = sns.jointplot(\"Red Band GOES 16 values\", \"Red Band GOES 17 values\", data=goesdata, kind=\"reg\",\n",
    "                  xlim=(0, 1), ylim=(0, 1), color=\"m\", height=7, scatter_kws={\"alpha\": 0.05})"
   ]
  },
  {
   "cell_type": "markdown",
   "metadata": {},
   "source": [
    "Two things to note. It does not look like there is any strong bias in intensity as to when the error is large. It could be a \"dark\" or \"light\" pixel. Light ones have a bit more change of being a big error. How do we find the big errors? First we need the regression line. Lets assume we are predicting GOES 17 givne GOES 16, and we use stats model."
   ]
  },
  {
   "cell_type": "code",
   "execution_count": null,
   "metadata": {},
   "outputs": [],
   "source": [
    "X = sm.add_constant(goes16_val_samples)\n",
    "y = goes17_val_samples\n",
    "model = sm.OLS(y, X)\n",
    "results = model.fit()\n",
    "print(results.summary())"
   ]
  },
  {
   "cell_type": "code",
   "execution_count": null,
   "metadata": {},
   "outputs": [],
   "source": [
    "shape_16 = image_aea_16.shape # save the shape\n",
    "X_all_16 = sm.add_constant(image_aea_16.ravel())\n",
    "errors_image = np.abs(results.predict(X_all_16)-image_aea_17.ravel()).reshape(shape_16)"
   ]
  },
  {
   "cell_type": "code",
   "execution_count": null,
   "metadata": {},
   "outputs": [],
   "source": [
    "fig_6 = plt.figure(figsize=(15, 8))\n",
    "\n",
    "ax1_6 = fig_6.add_subplot(1, 2, 1, projection=aea)\n",
    "ax2_6 = fig_6.add_subplot(1, 2, 2, projection=aea)\n",
    "\n",
    "ax1_6.set_extent(cartopy_extent_AEA, crs=aea)\n",
    "ax2_6.set_extent(cartopy_extent_AEA, crs=aea)\n",
    "\n",
    "\n",
    "# GOES17\n",
    "ax1_6.imshow(image_aea_17, origin='upper',\n",
    "           interpolation='none', extent=cartopy_extent_AEA, transform=aea)\n",
    "ax1_6.add_feature(ccrs.cartopy.feature.STATES)\n",
    "ax1_6.set_title('GOES-17', loc='left', fontweight='bold')\n",
    "ax1_6.set_title('%s' % scan_start_17.strftime('%d %B %Y %H:%M UTC'), loc='right');\n",
    "\n",
    "# GOES16\n",
    "ax2_6.imshow(errors_image, origin='upper',\n",
    "           interpolation='none', extent=cartopy_extent_AEA, transform=aea)\n",
    "ax2_6.add_feature(ccrs.cartopy.feature.STATES)\n",
    "ax2_6.set_title('Linear Regression Error', loc='left', fontweight='bold')\n",
    "ax2_6.set_title('%s' % scan_start_16.strftime('%d %B %Y %H:%M UTC'), loc='right');\n"
   ]
  },
  {
   "cell_type": "markdown",
   "metadata": {},
   "source": [
    "What we see from the regression error is that pretty clearly lots of the large errors are due to cloud motion. Particularly in the lower left corner, there are tell tale features that look \"doubled.\" This is exactly what happends when a cloud moves. The cloud which moved between goes 16 and goes 17 creates an error both where it is in goes 16, and also goes 17. Note that these clouds have shadows which move as well. There are also some more ambiguous data sets in the upper left. These may be clouds ore just glare off ground snow. \n",
    "\n",
    "Another possible source of error could be mis-regstration. That is what we think is a pixel in one image is slightly off and shifted with respect to the other image. The evidence against this is that if that were the case it would also create larger errors on the boundary between dark patches and lighter patches on the ground. However, we don't see that. We do see errors in the mountains though. This could be due low fog and clouds in the mounains or again it could be due to viewing angle and glare off the snow which might depend on the different viewing angle of goes16 and goes 17. When we do carefully perform calibaration between the two, we will need to identify clouds and it may be neccessary to exclude clouds from comparson since they move. We may also need to identify locations on the ground which have snow or water and may vary due to viewing angle. We want to measure **error** due to the difference between the sensors, not real differences in radiances due to change in viewing angle and/or time.\n",
    "\n",
    "In order to practice tracking down error, we will now will locate the location of the top 5% errors from our samples and map them back to the image."
   ]
  },
  {
   "cell_type": "code",
   "execution_count": null,
   "metadata": {},
   "outputs": [],
   "source": [
    "errors = abs(results.predict(X)-y)\n",
    "five_percent_quantiles = np.quantile(errors,.95)# Largest 5% errors\n",
    "big_error_sample_inds = (errors > five_percent_quantiles).nonzero() # These are the indices with respect to the samples\n",
    "big_error_image_inds = sample_inds[big_error_sample_inds]"
   ]
  },
  {
   "cell_type": "code",
   "execution_count": null,
   "metadata": {},
   "outputs": [],
   "source": [
    "# Greyscale image where we color the locations of the big errors from the sample\n",
    "# Here we make the image rather than use a color map\n",
    "chanR=image_aea_16*0.8 # Darken by a bit\n",
    "chanG=image_aea_16*0.8 # Darken by a bit\n",
    "chanB=image_aea_16*0.8 # Darken by a bit\n",
    "chanR = chanR.ravel()\n",
    "chanR[big_error_image_inds]=1.0\n",
    "chanR = chanR.reshape(chanG.shape)\n",
    "sample_location_image = np.dstack([chanR,chanG,chanB])\n",
    "\n",
    "fig_7 = plt.figure(figsize=(15, 8))\n",
    "\n",
    "ax1_7 = fig_7.add_subplot(1, 1, 1, projection=aea)\n",
    "\n",
    "ax1_7.set_extent(cartopy_extent_AEA, crs=aea)\n",
    "\n",
    "# GOES16\n",
    "ax1_7.imshow(sample_location_image, origin='upper',\n",
    "           interpolation='none', extent=cartopy_extent_AEA, transform=aea)\n",
    "ax1_7.add_feature(ccrs.cartopy.feature.STATES)\n",
    "ax1_7.set_title('GOES-16', loc='left', fontweight='bold')\n",
    "ax1_7.set_title('%s' % scan_start_16.strftime('%d %B %Y %H:%M UTC'), loc='right');\n"
   ]
  },
  {
   "cell_type": "markdown",
   "metadata": {},
   "source": [
    "The red points are showing up where they should but they are too small. It would be better to scatter plot the data onto the map. For this we need the Albers Equal Area X and Y for every point. Here we will go back to a color map."
   ]
  },
  {
   "cell_type": "code",
   "execution_count": null,
   "metadata": {},
   "outputs": [],
   "source": [
    "# This gives the X,Y index for each image points\n",
    "XXaea, YYaea = np.meshgrid(np.linspace(cartopy_extent_AEA[0],cartopy_extent_AEA[1],NUM_ROWS),\n",
    "                           np.linspace(cartopy_extent_AEA[2],cartopy_extent_AEA[3],NUM_COLS))\n",
    "\n",
    "xcords = (XXaea.ravel())[big_error_image_inds]\n",
    "ycords = (YYaea.ravel())[big_error_image_inds]"
   ]
  },
  {
   "cell_type": "code",
   "execution_count": null,
   "metadata": {},
   "outputs": [],
   "source": [
    "fig_8 = plt.figure(figsize=(15, 8))\n",
    "\n",
    "ax1_8 = fig_8.add_subplot(1, 1, 1, projection=aea)\n",
    "\n",
    "ax1_8.set_extent(cartopy_extent_AEA, crs=aea)\n",
    "\n",
    "# GOES16\n",
    "# Hack because I can't flip the map and the coordinates independently\n",
    "y_max=max(ax1_8.get_ylim())\n",
    "ax1_8.scatter(xcords,-ycords+y_max,c='r',marker='+')\n",
    "#ax1_8.set_ylim(max(ax1_8.get_ylim()), min(ax1_8.get_ylim()))\n",
    "ax1_8.imshow(image_aea_16, origin='upper', cmap='gray',\n",
    "           interpolation='none', extent=cartopy_extent_AEA, transform=aea)\n",
    "ax1_8.add_feature(ccrs.cartopy.feature.STATES)\n",
    "ax1_8.set_title('GOES-16', loc='left', fontweight='bold')\n",
    "ax1_8.set_title('%s' % scan_start_16.strftime('%d %B %Y %H:%M UTC'), loc='right');\n"
   ]
  },
  {
   "cell_type": "code",
   "execution_count": null,
   "metadata": {},
   "outputs": [],
   "source": [
    "GRad16 = xarray.open_dataset(op.join(DATAPATH,'OR_ABI-L1b-RadC-M6C01_G16_s20191771401199_e20191771403572_c20191771404018.nc'))\n",
    "GRad17 = xarray.open_dataset(op.join(DATAPATH,'OR_ABI-L1b-RadC-M6C01_G17_s20191771401196_e20191771403569_c20191771404008.nc'))\n",
    "RAD16= GRad16['Rad'].data\n",
    "RAD17= GRad17['Rad'].data\n",
    "\n",
    "run_once=False # This is for the next cell"
   ]
  },
  {
   "cell_type": "code",
   "execution_count": null,
   "metadata": {},
   "outputs": [],
   "source": [
    "# We are now switching to the radiance data since eventually this will be the main interest\n",
    "# Now we are going to update to remap the radiance data the same way as before\n",
    "\n",
    "# Float conversion needed and re-ordering of extent to match pyresample form [x_min, y_min, x_max, y_max] \n",
    "# Generate cartopy projection object with metpy parser\n",
    "if not run_once:\n",
    "    # NOTE: Don't re-run this cell after it has run or it won't work.\n",
    "    dat16_rad = GRad16.metpy.parse_cf('Rad')\n",
    "    dat17_rad = GRad17.metpy.parse_cf('Rad')\n",
    "    run_once = True\n",
    "\n",
    "# Geostationary projections\n",
    "geos16_rad = dat16_rad.metpy.cartopy_crs\n",
    "geos17_rad = dat17_rad.metpy.cartopy_crs\n",
    "\n",
    "x16_rad = dat16_rad.x\n",
    "y16_rad = dat16_rad.y\n",
    "\n",
    "x17_rad = dat17_rad.x\n",
    "y17_rad = dat17_rad.y\n",
    "\n",
    "# Cartopy extents go [x_min, x_max, y_min, y_max]\n",
    "cartopy_extent_goes16_rad = (x16_rad.min(), x16_rad.max(),y16_rad.min(), y16_rad.max())\n",
    "cartopy_extent_goes17_rad = (x17_rad.min(), x17_rad.max(),y17_rad.min(), y17_rad.max())\n",
    "\n",
    "pyresample_extent_goes16_rad = (float(x16_rad.min()),float(y16_rad.min()), float(x16_rad.max()), float(y16_rad.max()))\n",
    "pyresample_extent_goes17_rad = (float(x17_rad.min()),float(y17_rad.min()), float(x17_rad.max()), float(y17_rad.max()))\n",
    "\n",
    "\n",
    "goes17_params_rad = geos17_rad.proj4_params\n",
    "goes16_params_rad = geos16_rad.proj4_params\n",
    "\n",
    "goes17_area_rad = geometry.AreaDefinition('GOES-17', 'CONUS',\n",
    "                                'GOES-17', goes17_params_rad,\n",
    "                                RAD17.shape[1], RAD17.shape[0],\n",
    "                              pyresample_extent_goes17_rad)\n",
    "\n",
    "# Float conversion needed and re-ordering of extent to match pyresample form [x_min, y_min, x_max, y_max] \n",
    "goes16_area_rad = geometry.AreaDefinition('GOES-16', 'CONUS',\n",
    "                                'GOES-16', goes16_params_rad,\n",
    "                                RAD16.shape[1], RAD16.shape[0],\n",
    "                              pyresample_extent_goes16_rad)\n",
    "\n",
    "\n",
    "geos17_con_nn_RAD = image.ImageContainerNearest(RAD17, goes17_area_rad, radius_of_influence=50000)\n",
    "geos16_con_nn_RAD = image.ImageContainerNearest(RAD16, goes16_area_rad, radius_of_influence=50000)\n",
    "# Here we are using pyresample for the remapping\n",
    "area_aea_con_nn_RAD = geos17_con_nn_RAD.resample(area_aea_def)\n",
    "image_aea_17_RAD = area_aea_con_nn_RAD.image_data\n",
    "\n",
    "area_aea_con_nn_RAD = geos16_con_nn_RAD.resample(area_aea_def)\n",
    "image_aea_16_RAD= area_aea_con_nn_RAD.image_data\n",
    "\n",
    "fig_9 = plt.figure(figsize=(15, 8))\n",
    "\n",
    "ax1_9 = fig_9.add_subplot(1, 2, 1, projection=aea)\n",
    "ax2_9 = fig_9.add_subplot(1, 2, 2, projection=aea)\n",
    "\n",
    "ax1_9.set_extent(cartopy_extent_AEA, crs=aea)\n",
    "ax2_9.set_extent(cartopy_extent_AEA, crs=aea)\n",
    "\n",
    "\n",
    "# GOES17\n",
    "ax1_9.imshow(image_aea_17_RAD, origin='upper',\n",
    "           interpolation='none', extent=cartopy_extent_AEA, transform=aea)\n",
    "ax1_9.add_feature(ccrs.cartopy.feature.STATES)\n",
    "ax1_9.set_title('GOES-17 Radiances', loc='left', fontweight='bold')\n",
    "ax1_9.set_title('%s' % scan_start_17.strftime('%d %B %Y %H:%M UTC'), loc='right');\n",
    "\n",
    "# GOES16\n",
    "ax2_9.imshow(image_aea_16_RAD, origin='upper',\n",
    "           interpolation='none', extent=cartopy_extent_AEA, transform=aea)\n",
    "ax2_9.add_feature(ccrs.cartopy.feature.STATES)\n",
    "ax2_9.set_title('GOES-16  Radiances', loc='left', fontweight='bold')\n",
    "ax2_9.set_title('%s' % scan_start_16.strftime('%d %B %Y %H:%M UTC'), loc='right');\n",
    "\n",
    "\n"
   ]
  },
  {
   "cell_type": "markdown",
   "metadata": {},
   "source": [
    "The above band 1 images are clearly pretty senstive to clouds. The clouds are lighting up rather intensely while the land is dark in both. Note there is considerable differences in the brightness of the clouds. Again this may be a viewing angle effect which makes it critical for us to compare where there aren't clouds so we better use goes 16 to mark clouds and exclude those points."
   ]
  },
  {
   "cell_type": "code",
   "execution_count": null,
   "metadata": {},
   "outputs": [],
   "source": []
  }
 ],
 "metadata": {
  "kernelspec": {
   "display_name": "Python 3",
   "language": "python",
   "name": "python3"
  },
  "language_info": {
   "codemirror_mode": {
    "name": "ipython",
    "version": 3
   },
   "file_extension": ".py",
   "mimetype": "text/x-python",
   "name": "python",
   "nbconvert_exporter": "python",
   "pygments_lexer": "ipython3",
   "version": "3.7.1"
  }
 },
 "nbformat": 4,
 "nbformat_minor": 2
}
