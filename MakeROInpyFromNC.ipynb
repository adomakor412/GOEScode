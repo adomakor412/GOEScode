{
 "cells": [
  {
   "cell_type": "code",
   "execution_count": 1,
   "metadata": {},
   "outputs": [
    {
     "name": "stderr",
     "output_type": "stream",
     "text": [
      "/opt/home/adomakor412/.conda/envs/NOAA/lib/python3.7/site-packages/xarray/core/merge.py:17: FutureWarning: The Panel class is removed from pandas. Accessing it from the top-level namespace will also be removed in the next version\n",
      "  PANDAS_TYPES = (pd.Series, pd.DataFrame, pd.Panel)\n"
     ]
    }
   ],
   "source": [
    "import numpy as np\n",
    "import matplotlib.pyplot as plt\n",
    "import xarray as xr\n",
    "from pathlib import Path\n",
    "from cartopy import crs as ccrs\n",
    "from goesutils import goes_2_roi, radiance_to_BT, cartopy_pyresample_toggle_extent, trasform_cartopy_extent\n",
    "from goesutils import norm_im\n",
    "import metpy\n",
    "from scipy import stats"
   ]
  },
  {
   "cell_type": "code",
   "execution_count": 2,
   "metadata": {},
   "outputs": [],
   "source": [
    "day = 103\n",
    "SS = 'G17'\n",
    "band = 8\n",
    "npPath = Path('/sharedData/scratch/npOut/all_npy')\n",
    "ncPath = Path('/sharedData/scratch/')\n",
    "rad_prefix = 'OR_ABI-L1b-RadF-M6C'\n",
    "mc_rows = 1001\n",
    "mc_cols = 401"
   ]
  },
  {
   "cell_type": "code",
   "execution_count": 3,
   "metadata": {},
   "outputs": [],
   "source": [
    "#DATA_ACM_FILES = Path('../')\n",
    "\n",
    "#Projections\n",
    "pc = ccrs.PlateCarree()\n",
    "mc = ccrs.Mercator()\n",
    "\n",
    "#ROI\n",
    "extent_pc = [-109.59326, -102.40674, 8.94659, -8.94656]\n",
    "\n",
    "# Set up mc extents\n",
    "target_extent_mc_cartopy = trasform_cartopy_extent(extent_pc, pc, mc)\n",
    "target_extent_mc_pyresample = cartopy_pyresample_toggle_extent(target_extent_mc_cartopy)"
   ]
  },
  {
   "cell_type": "code",
   "execution_count": 4,
   "metadata": {},
   "outputs": [],
   "source": [
    "def make_roi_from_nc (sat,day,band):\n",
    "    allfiles = list(ncPath.glob(rad_prefix + str(band).zfill(2) + '_' + SS + '_s2019'+str(day).zfill(3)+'*.nc'))\n",
    "    infilename = allfiles[0]\n",
    "    outfile = Path(str(infilename).split('.')[0])/Path(outfile.parts[-1])\n",
    "    if not outfile.exists():\n",
    "        dataset = xr.open_dataset(infilename)\n",
    "        roi_rads = goes_2_roi(dataset,\n",
    "                       target_extent_mc_pyresample,\n",
    "                       mc_rows,\n",
    "                       mc_cols,\n",
    "                       mc)\n",
    "        np.save(outfile,roi_rads)\n",
    "        dataset.close()\n",
    "    else:\n",
    "        print('File overwrite.')"
   ]
  },
  {
   "cell_type": "code",
   "execution_count": 49,
   "metadata": {},
   "outputs": [
    {
     "name": "stdout",
     "output_type": "stream",
     "text": [
      "/sharedData/scratch/OR_ABI-L1b-RadF-M6C08_G17_s20191030000339_e20191030009405_c20191030009441\n"
     ]
    }
   ],
   "source": [
    "#make_roi_from_nc('17','103','08')\n",
    "allfiles = list(ncPath.glob(rad_prefix + str(band).zfill(2) + '_' + SS + '_s2019'+str(day).zfill(3)+'*.nc'))\n",
    "infilename = allfiles[0]\n",
    "outfile = Path(str(infilename).split('.')[0])\n",
    "print(outfile)"
   ]
  },
  {
   "cell_type": "code",
   "execution_count": 6,
   "metadata": {},
   "outputs": [
    {
     "data": {
      "text/plain": [
       "'OR_ABI-L1b-RadF-M6C08_G17_s2019103'"
      ]
     },
     "execution_count": 6,
     "metadata": {},
     "output_type": "execute_result"
    }
   ],
   "source": [
    "rad_prefix + str(band).zfill(2) + '_' + SS + '_s2019'+str(day).zfill(3)"
   ]
  }
 ],
 "metadata": {
  "kernelspec": {
   "display_name": "Python 3",
   "language": "python",
   "name": "python3"
  },
  "language_info": {
   "codemirror_mode": {
    "name": "ipython",
    "version": 3
   },
   "file_extension": ".py",
   "mimetype": "text/x-python",
   "name": "python",
   "nbconvert_exporter": "python",
   "pygments_lexer": "ipython3",
   "version": "3.7.4"
  }
 },
 "nbformat": 4,
 "nbformat_minor": 2
}
