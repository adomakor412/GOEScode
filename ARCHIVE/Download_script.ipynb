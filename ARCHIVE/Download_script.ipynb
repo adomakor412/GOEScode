{
 "cells": [
  {
   "cell_type": "code",
   "execution_count": 12,
   "metadata": {},
   "outputs": [],
   "source": [
    "def download(filename,toPath):\n",
    "    with open(filename, 'r') as fid:\n",
    "        txt = fid.read()\n",
    "    urls = txt.split()\n",
    "    cmdlist = [ 'wget -nc -c ' + url +' -P ' + toPath for url in urls ]#if re.search('C07',url)\n",
    "    print(len(urls),len(list(set(urls))),len(cmdlist))\n",
    "\n",
    "    for url, cmd in zip(urls, cmdlist):\n",
    "        print(cmd)\n",
    "        if op.exists(url):\n",
    "            continue\n",
    "        pid = Popen(cmd, shell=True)\n",
    "        pid.communicate()\n",
    "    return"
   ]
  },
  {
   "cell_type": "code",
   "execution_count": null,
   "metadata": {},
   "outputs": [
    {
     "name": "stdout",
     "output_type": "stream",
     "text": [
      "G16_data_08_12-18.txt\n",
      "384 384 384\n",
      "wget -nc -c https://noaa-goes16.s3.amazonaws.com/ABI-L1b-RadF/2018/224/00/OR_ABI-L1b-RadF-M3C07_G16_s20182240000467_e20182240011246_c20182240011279.nc -P /scratch/adomakor412/fall_2018\n",
      "wget -nc -c https://noaa-goes16.s3.amazonaws.com/ABI-L1b-RadF/2018/224/00/OR_ABI-L1b-RadF-M3C07_G16_s20182240015467_e20182240026246_c20182240026280.nc -P /scratch/adomakor412/fall_2018\n",
      "wget -nc -c https://noaa-goes16.s3.amazonaws.com/ABI-L1b-RadF/2018/224/00/OR_ABI-L1b-RadF-M3C07_G16_s20182240030468_e20182240041246_c20182240041280.nc -P /scratch/adomakor412/fall_2018\n"
     ]
    }
   ],
   "source": [
    "import os, sys\n",
    "import os.path as op\n",
    "import re\n",
    "from subprocess import Popen\n",
    "\n",
    "\n",
    "path = \"../G16_G17_url_list/fall_2018_list\"\n",
    "dirs = os.listdir( path )\n",
    "\n",
    "newPath = '/scratch/adomakor412/fall_2018'\n",
    "\n",
    "# This would print all the files and directories\n",
    "for fileList in dirs:\n",
    "    if os.path.isdir(op.join(path, fileList)):\n",
    "        # skip directories\n",
    "        continue\n",
    "    print(fileList)\n",
    "    download(op.join(path, fileList),newPath)"
   ]
  },
  {
   "cell_type": "code",
   "execution_count": null,
   "metadata": {
    "collapsed": true
   },
   "outputs": [],
   "source": []
  }
 ],
 "metadata": {
  "kernelspec": {
   "display_name": "Python 3",
   "language": "python",
   "name": "python3"
  },
  "language_info": {
   "codemirror_mode": {
    "name": "ipython",
    "version": 3
   },
   "file_extension": ".py",
   "mimetype": "text/x-python",
   "name": "python",
   "nbconvert_exporter": "python",
   "pygments_lexer": "ipython3",
   "version": "3.6.7"
  }
 },
 "nbformat": 4,
 "nbformat_minor": 2
}
