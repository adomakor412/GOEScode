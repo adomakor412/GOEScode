{
 "cells": [
  {
   "cell_type": "code",
   "execution_count": 21,
   "metadata": {},
   "outputs": [
    {
     "name": "stdout",
     "output_type": "stream",
     "text": [
      "../Mean_temp_filtered/04-17-2019.png\n",
      "../Mean_temp_filtered/04-18-2019.png\n",
      "../Mean_temp_filtered/04-08-2019.png\n",
      "../Mean_temp_filtered/04-10-2019.png\n",
      "../Mean_temp_filtered/04-16-2019.png\n",
      "../Mean_temp_filtered/04-09-2019.png\n",
      "../Mean_temp_filtered/04-11-2019.png\n",
      "../Mean_temp_filtered/04-12-2019.png\n",
      "../Mean_temp_filtered/04-15-2019.png\n",
      "../Mean_temp_filtered/04-13-2019.png\n",
      "../Mean_temp_filtered/04-14-2019.png\n",
      "(1080, 360)\n"
     ]
    }
   ],
   "source": [
    "import cv2\n",
    "import numpy as np\n",
    "import glob\n",
    "import matplotlib.pyplot as plt\n",
    " \n",
    "img_array = []\n",
    "#size = (1,1)\n",
    "for filename in glob.glob('../Mean_temp_filtered/*.png'):\n",
    "    print(filename)\n",
    "    img = cv2.imread(filename)\n",
    "    height, width, layers = img.shape\n",
    "    size = (width,height)\n",
    "    img_array.append(img)\n",
    "    \n",
    "print (size) \n",
    "out = cv2.VideoWriter('project.avi',cv2.VideoWriter_fourcc(*'DIVX'), 15, size)\n",
    " \n",
    "for i in range(len(img_array)):\n",
    "    out.write(img_array[i])\n",
    "out.release()"
   ]
  },
  {
   "cell_type": "code",
   "execution_count": 20,
   "metadata": {},
   "outputs": [
    {
     "data": {
      "text/plain": [
       "['../Mean_temp_filtered/04-17-2019.png',\n",
       " '../Mean_temp_filtered/04-18-2019.png',\n",
       " '../Mean_temp_filtered/04-08-2019.png',\n",
       " '../Mean_temp_filtered/04-10-2019.png',\n",
       " '../Mean_temp_filtered/04-16-2019.png',\n",
       " '../Mean_temp_filtered/04-09-2019.png',\n",
       " '../Mean_temp_filtered/04-11-2019.png',\n",
       " '../Mean_temp_filtered/04-12-2019.png',\n",
       " '../Mean_temp_filtered/04-15-2019.png',\n",
       " '../Mean_temp_filtered/04-13-2019.png',\n",
       " '../Mean_temp_filtered/04-14-2019.png']"
      ]
     },
     "execution_count": 20,
     "metadata": {},
     "output_type": "execute_result"
    }
   ],
   "source": []
  },
  {
   "cell_type": "code",
   "execution_count": null,
   "metadata": {},
   "outputs": [],
   "source": []
  }
 ],
 "metadata": {
  "kernelspec": {
   "display_name": "Python 3",
   "language": "python",
   "name": "python3"
  },
  "language_info": {
   "codemirror_mode": {
    "name": "ipython",
    "version": 3
   },
   "file_extension": ".py",
   "mimetype": "text/x-python",
   "name": "python",
   "nbconvert_exporter": "python",
   "pygments_lexer": "ipython3",
   "version": "3.5.6"
  }
 },
 "nbformat": 4,
 "nbformat_minor": 4
}
