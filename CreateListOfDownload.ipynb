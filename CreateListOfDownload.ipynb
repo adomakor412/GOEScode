{
 "cells": [
  {
   "cell_type": "code",
   "execution_count": 1,
   "metadata": {},
   "outputs": [],
   "source": [
    "import requests\n",
    "import re\n",
    "import os\n",
    "import os.path as op\n",
    "DATAPATH= '/ACM/'"
   ]
  },
  {
   "cell_type": "code",
   "execution_count": 2,
   "metadata": {},
   "outputs": [],
   "source": [
    "def listurls(prefix,html):\n",
    "    from bs4 import BeautifulSoup\n",
    "    soup = BeautifulSoup(html.text)\n",
    "    urllist = [elt['href'] for elt in soup.find_all(href=re.compile(prefix))]\n",
    "    return urllist"
   ]
  },
  {
   "cell_type": "code",
   "execution_count": 3,
   "metadata": {},
   "outputs": [],
   "source": [
    "for s in range(16,18):\n",
    "    SS = str(s).zfill(2)\n",
    "    for i in range(9,32):#the website for particular day    \n",
    "        dd = str(i).zfill(2) #all in the same month\n",
    "        filename = f\"G{SS}_data_08_{dd}-19.txt\"\n",
    "        filename.format(**{'SS':SS,'dd':dd})\n",
    "        if SS == '16':\n",
    "            template = 'http://home.chpc.utah.edu/~u0553130/Brian_Blaylock/cgi-bin/goes16_download.cgi?source=aws&satellite=noaa-goes16&domain=F&product=ABI-L1b-Rad&date=2019-{mm}-{dd}&hour={hr}'\n",
    "        else:\n",
    "            template = 'http://home.chpc.utah.edu/~u0553130/Brian_Blaylock/cgi-bin/goes16_download.cgi?source=aws&satellite=noaa-goes17&domain=F&product=ABI-L1b-Rad&date=2019-{mm}-{dd}&hour={hr}'\n",
    "        mm = '08'\n",
    "        with open(filename,'w') as f:\n",
    "            for t in range(24):#this is for the hour\n",
    "                hr = str(t).zfill(2)\n",
    "                mystr = template.format(**{'mm':mm, 'dd':dd, 'hr':hr})\n",
    "                req = requests.get(mystr)\n",
    "                for band in range(7,11):\n",
    "                    prefix = \"OR_ABI-L1b-RadF-M6C\" + str(band).zfill(2)\n",
    "                    bandURLList = listurls(prefix,req)\n",
    "                    print(*bandURLList,sep='\\n', file=f)\n",
    "    \n",
    "            "
   ]
  },
  {
   "cell_type": "code",
   "execution_count": null,
   "metadata": {},
   "outputs": [],
   "source": []
  }
 ],
 "metadata": {
  "kernelspec": {
   "display_name": "Python 3",
   "language": "python",
   "name": "python3"
  },
  "language_info": {
   "codemirror_mode": {
    "name": "ipython",
    "version": 3
   },
   "file_extension": ".py",
   "mimetype": "text/x-python",
   "name": "python",
   "nbconvert_exporter": "python",
   "pygments_lexer": "ipython3",
   "version": "3.7.4"
  }
 },
 "nbformat": 4,
 "nbformat_minor": 2
}
