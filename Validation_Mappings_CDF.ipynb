{
 "cells": [
  {
   "cell_type": "markdown",
   "metadata": {},
   "source": [
    "# Import libraries"
   ]
  },
  {
   "cell_type": "code",
   "execution_count": 55,
   "metadata": {},
   "outputs": [],
   "source": [
    "import numpy as np\n",
    "import scipy.stats as st\n",
    "import itertools\n",
    "import pandas as pd\n",
    "npPath = '/sharedData/scratch/all_npy3/'\n",
    "ncPath = '/sharedData/scratch/april_data/'\n",
    "acmPath = '/sharedData/scratch/all_npy3/'\n",
    "DATAPATH = '/sharedData/scratch/'\n",
    "import re\n",
    "import os\n",
    "from os import path as op\n",
    "import matplotlib.pyplot as plt\n",
    "%matplotlib inline\n",
    "import xarray as xr\n",
    "import netCDF4\n",
    "from pathlib import Path\n",
    "\n",
    "#refactor to create folders using subprocess library\n",
    "#from subprocess import\n",
    "\n",
    "import matplotlib.dates as mdates\n",
    "from datetime import datetime"
   ]
  },
  {
   "cell_type": "code",
   "execution_count": 56,
   "metadata": {},
   "outputs": [],
   "source": [
    "def getTmean(SS, npPath, band, day):\n",
    "   \n",
    "    ncList = os.listdir( ncPath )\n",
    "    npList = os.listdir( npPath )\n",
    "    \n",
    "    look = 'M6C'+ band + '_G' + SS + '_s2019' + day\n",
    "    acmLook = 'M6_G' + SS + '_s2019' + day\n",
    "    \n",
    "    ncFiles = sorted([f for f in ncList if re.search(look,f)])\n",
    "    npFiles = sorted([f for f in npList if re.search(look,f)])\n",
    "    \n",
    "    plot = createUnfilteredPlotArray(ncFiles,npFiles,npPath)\n",
    "    return plot"
   ]
  },
  {
   "cell_type": "code",
   "execution_count": 57,
   "metadata": {},
   "outputs": [],
   "source": [
    "def getFilteredTmean(SS, npPath, band, day):\n",
    "   \n",
    "    ncList = os.listdir( ncPath )\n",
    "    npList = os.listdir( npPath )\n",
    "    acmList = os.listdir( acmPath )\n",
    "    \n",
    "    look = 'M6C'+ band + '_G' + SS + '_s2019' + day\n",
    "    acmLook = 'M6_G' + SS + '_s2019' + day\n",
    "    \n",
    "    ncFiles = sorted([f for f in ncList if re.search(look,f)])\n",
    "    npFiles = sorted([f for f in npList if re.search(look,f)])\n",
    "    acmFiles = sorted([f for f in acmList if re.search(acmLook,f)])\n",
    "    plot = createFilteredPlotArray(ncFiles,npFiles,npPath,acmFiles)\n",
    "    return plot\n"
   ]
  },
  {
   "cell_type": "code",
   "execution_count": 58,
   "metadata": {},
   "outputs": [],
   "source": [
    "def Rad2BT(rad, planck_fk1, planck_fk2, planck_bc1, planck_bc2):\n",
    "    \"\"\"Radiances to Brightness Temprature (using black body equation)\"\"\"\n",
    "    invRad = np.array(rad)**(-1)\n",
    "    arg = (invRad*planck_fk1) + 1.0\n",
    "    T = (- planck_bc1+(planck_fk2 * (np.log(arg)**(-1))) )*(1/planck_bc2) \n",
    "    return T"
   ]
  },
  {
   "cell_type": "code",
   "execution_count": 59,
   "metadata": {},
   "outputs": [],
   "source": [
    "def createFilteredPlotArray(ncFiles,npFiles,npPath,acmFiles):#Filtered Histrogram for cloud clear sky mask\n",
    "    Tmean= []\n",
    "    times = []\n",
    "    for ncf, npf, acm in zip(ncFiles, npFiles, acmFiles):\n",
    "        imageBox = np.load(op.join(npPath,npf))\n",
    "        acmBox = np.load(op.join(acmPath,acm))\n",
    "        myFile = xr.open_dataset(op.join(ncPath,ncf))\n",
    "        planck_fk1 = float(myFile['planck_fk1'].data)\n",
    "        planck_fk2 = float(myFile['planck_fk2'].data) \n",
    "        planck_bc1 = float(myFile['planck_bc1'].data)                       \n",
    "        planck_bc2 = float(myFile['planck_bc2'].data)     \n",
    "        T = Rad2BT(imageBox[acmBox==1].mean(), planck_fk1, planck_fk2, planck_bc1, planck_bc2)\n",
    "        tString = ncf[34:38]\n",
    "        times.append(tString)\n",
    "        Tmean.append(T)\n",
    "    return times, Tmean\n",
    "    "
   ]
  },
  {
   "cell_type": "code",
   "execution_count": 60,
   "metadata": {},
   "outputs": [],
   "source": [
    "def createUnfilteredPlotArray(ncFiles,npFiles,npPath):#Filtered Histrogram for cloud clear sky mask\n",
    "    Tmean= []\n",
    "    times = []\n",
    "    for ncf, npf in zip(ncFiles, npFiles):\n",
    "        imageBox = np.load(op.join(npPath,npf))\n",
    "        myFile = xr.open_dataset(op.join(ncPath,ncf))\n",
    "        planck_fk1 = float(myFile['planck_fk1'].data)\n",
    "        planck_fk2 = float(myFile['planck_fk2'].data) \n",
    "        planck_bc1 = float(myFile['planck_bc1'].data)                       \n",
    "        planck_bc2 = float(myFile['planck_bc2'].data)     \n",
    "        T = Rad2BT(imageBox.mean(), planck_fk1, planck_fk2, planck_bc1, planck_bc2)\n",
    "        tString = ncf[31:38]\n",
    "        times.append(tString)\n",
    "        Tmean.append(T)\n",
    "    return times, Tmean\n",
    "\n",
    "\n"
   ]
  },
  {
   "cell_type": "code",
   "execution_count": 61,
   "metadata": {},
   "outputs": [
    {
     "data": {
      "text/plain": [
       "'\\nfor i in [8]:\\n    d16=pd.DataFrame()\\n    d17=pd.DataFrame()\\n    for j in range(11):\\n        band = str(i).zfill(2)\\n        date = 98 + j\\n        day = str(date).zfill(3)\\n        \\n        times17, mean17 = getTmean(\\'17\\', npPath, band, day)\\n        times16, mean16 = getTmean(\\'16\\', npPath, band, day)\\n        \\n        dframe17=pd.DataFrame(index=times17,data=np.array(mean17),columns=[\\'Mean_temp (K)\\'])\\n        dframe16=pd.DataFrame(index=times16,data=np.array(mean16),columns=[\\'Mean_temp (K)\\'])\\n        \\n        d17=d17.append(dframe17)\\n        d16=d16.append(dframe16)\\n        \\nd16.index.name=\\'Time (DDDHHmm)\\'\\nd17.index.name=\\'Time (DDDHHmm)\\'\\n\\nd16.to_csv(\"G16series.csv\")\\nd17.to_csv(\"G17series.csv\")\\n'"
      ]
     },
     "execution_count": 61,
     "metadata": {},
     "output_type": "execute_result"
    }
   ],
   "source": [
    "'''\n",
    "for i in [8]:\n",
    "    d16=pd.DataFrame()\n",
    "    d17=pd.DataFrame()\n",
    "    for j in range(11):\n",
    "        band = str(i).zfill(2)\n",
    "        date = 98 + j\n",
    "        day = str(date).zfill(3)\n",
    "        \n",
    "        times17, mean17 = getTmean('17', npPath, band, day)\n",
    "        times16, mean16 = getTmean('16', npPath, band, day)\n",
    "        \n",
    "        dframe17=pd.DataFrame(index=times17,data=np.array(mean17),columns=['Mean_temp (K)'])\n",
    "        dframe16=pd.DataFrame(index=times16,data=np.array(mean16),columns=['Mean_temp (K)'])\n",
    "        \n",
    "        d17=d17.append(dframe17)\n",
    "        d16=d16.append(dframe16)\n",
    "        \n",
    "d16.index.name='Time (DDDHHmm)'\n",
    "d17.index.name='Time (DDDHHmm)'\n",
    "\n",
    "d16.to_csv(\"G16series.csv\")\n",
    "d17.to_csv(\"G17series.csv\")\n",
    "'''"
   ]
  },
  {
   "cell_type": "code",
   "execution_count": 62,
   "metadata": {},
   "outputs": [],
   "source": [
    "def getUnfilteredTmean(SS, ncPath, npPath, band, day):\n",
    "   \n",
    "    ncList = os.listdir( ncPath )\n",
    "    npList = os.listdir( npPath )\n",
    "    \n",
    "    look = 'M6C'+ band + '_G' + SS + '_s2019' + day\n",
    "    \n",
    "    ncFiles = sorted([f for f in ncList if re.search(look,f)])\n",
    "    npFiles = sorted([f for f in npList if re.search(look,f)])\n",
    "    plot = createUnfilteredPlotArray(ncFiles,npFiles,npPath)\n",
    "    return plot"
   ]
  },
  {
   "cell_type": "code",
   "execution_count": 63,
   "metadata": {},
   "outputs": [
    {
     "data": {
      "text/plain": [
       "'\\nTmean = []\\ntimes = []\\ntoi = [\\'0300\\',\\'0910\\',\\'1010\\',\\'1350\\',\\'1510\\',\\'2100\\']\\nfor (bb,dd) in list(itertools.product([8],range(11))):\\n    for SS in [\\'16\\',\\'17\\']:\\n        bins = np.linspace(220,250,101)\\n        fig, axes = plt.subplots(ncols=6, nrows =1, figsize=(15, 5), constrained_layout=True, sharey = True, sharex = True)\\n        fig.suptitle(f\\'GOES-{SS} ABI Band {bb} {8+dd}-Apr-2019\\', fontsize = 22, fontweight = \\'bold\\')\\n        BB = str(bb).zfill(2)\\n        lookup = f\\'M6C{BB}_G{SS}_s2019{DD}\\'\\n        ncFiles = [f for f in os.listdir(ncPath) if re.search(lookup,f)]\\n        npFiles = [f for f in os.listdir(npPath) if re.search(lookup,f)]\\n\\n        for ncf, npf in zip(ncFiles,npFiles):\\n            imageBox = np.load(op.join(npPath,npf))\\n            myFile = xr.open_dataset(op.join(ncPath,ncf))\\n            planck_fk1 = float(myFile[\\'planck_fk1\\'].data)\\n            planck_fk2 = float(myFile[\\'planck_fk2\\'].data) \\n            planck_bc1 = float(myFile[\\'planck_bc1\\'].data)                       \\n            planck_bc2 = float(myFile[\\'planck_bc2\\'].data)     \\n            T = Rad2BT(imageBox.mean(), planck_fk1, planck_fk2, planck_bc1, planck_bc2)#unfilterd\\n            tString = ncf[34:38]\\n            times.append(tString)\\n            Tmean.append(T)\\n\\n            if tString in toi:\\n                ax = axes[toi.index(tString)]\\n                hh = tString[:2]\\n                mm = tString[2:4]\\n                ax.set_title(f\\'{hh}:{mm}\\')\\n                ax.set_ylabel(\\'density (unitless)\\',fontsize = 16)\\n                ax.set_xlabel(\\'Temperature (K)\\', fontsize = 16)\\n\\n                Tbox = Rad2BT(imageBox, planck_fk1, planck_fk2, planck_bc1, planck_bc2)\\n                ax.hist(Tbox.ravel(), bins = bins, density = True, label = \\'Temp dist.\\')\\n                #ax.plot([T,T], [0,0.3],\\'r\\', label = \\'something\\')\\n                ax.axvline(T, color=\\'r\\',label = \\'NOAA avg.\\')\\n            axes[0].legend(loc=\\'upper left\\')\\n        fig.savefig(\\'..\\'+ op.join(DATAPATH,f\"Histograms_unfiltered/G_{SS}_band{BB}_04-{str(8+dd).zfill(2)}-2019\"))\\n'"
      ]
     },
     "execution_count": 63,
     "metadata": {},
     "output_type": "execute_result"
    }
   ],
   "source": [
    "'''\n",
    "Tmean = []\n",
    "times = []\n",
    "toi = ['0300','0910','1010','1350','1510','2100']\n",
    "for (bb,dd) in list(itertools.product([8],range(11))):\n",
    "    for SS in ['16','17']:\n",
    "        bins = np.linspace(220,250,101)\n",
    "        fig, axes = plt.subplots(ncols=6, nrows =1, figsize=(15, 5), constrained_layout=True, sharey = True, sharex = True)\n",
    "        fig.suptitle(f'GOES-{SS} ABI Band {bb} {8+dd}-Apr-2019', fontsize = 22, fontweight = 'bold')\n",
    "        BB = str(bb).zfill(2)\n",
    "        lookup = f'M6C{BB}_G{SS}_s2019{DD}'\n",
    "        ncFiles = [f for f in os.listdir(ncPath) if re.search(lookup,f)]\n",
    "        npFiles = [f for f in os.listdir(npPath) if re.search(lookup,f)]\n",
    "\n",
    "        for ncf, npf in zip(ncFiles,npFiles):\n",
    "            imageBox = np.load(op.join(npPath,npf))\n",
    "            myFile = xr.open_dataset(op.join(ncPath,ncf))\n",
    "            planck_fk1 = float(myFile['planck_fk1'].data)\n",
    "            planck_fk2 = float(myFile['planck_fk2'].data) \n",
    "            planck_bc1 = float(myFile['planck_bc1'].data)                       \n",
    "            planck_bc2 = float(myFile['planck_bc2'].data)     \n",
    "            T = Rad2BT(imageBox.mean(), planck_fk1, planck_fk2, planck_bc1, planck_bc2)#unfilterd\n",
    "            tString = ncf[34:38]\n",
    "            times.append(tString)\n",
    "            Tmean.append(T)\n",
    "\n",
    "            if tString in toi:\n",
    "                ax = axes[toi.index(tString)]\n",
    "                hh = tString[:2]\n",
    "                mm = tString[2:4]\n",
    "                ax.set_title(f'{hh}:{mm}')\n",
    "                ax.set_ylabel('density (unitless)',fontsize = 16)\n",
    "                ax.set_xlabel('Temperature (K)', fontsize = 16)\n",
    "\n",
    "                Tbox = Rad2BT(imageBox, planck_fk1, planck_fk2, planck_bc1, planck_bc2)\n",
    "                ax.hist(Tbox.ravel(), bins = bins, density = True, label = 'Temp dist.')\n",
    "                #ax.plot([T,T], [0,0.3],'r', label = 'something')\n",
    "                ax.axvline(T, color='r',label = 'NOAA avg.')\n",
    "            axes[0].legend(loc='upper left')\n",
    "        fig.savefig('..'+ op.join(DATAPATH,f\"Histograms_unfiltered/G_{SS}_band{BB}_04-{str(8+dd).zfill(2)}-2019\"))\n",
    "'''"
   ]
  },
  {
   "cell_type": "markdown",
   "metadata": {},
   "source": [
    "# Plots for April 8 through 18 (unfiltered)."
   ]
  },
  {
   "cell_type": "code",
   "execution_count": 64,
   "metadata": {},
   "outputs": [
    {
     "data": {
      "text/plain": [
       "'\\nfor i in [8]:\\n    for j in range(11):\\n        band = str(i).zfill(2)\\n        date = 98 + j\\n        day = str(date).zfill(3)\\n        \\n        times17, mean17 = getTmean(\\'17\\', npPath, band, day)\\n        times16, mean16 = getTmean(\\'16\\', npPath, band, day)\\n        \\n        ptimes17 = [datetime.strptime(f\"2019{t}\", \"%Y%j%H%M\") for t in times17]\\n        ptimes16 = [datetime.strptime(f\"2019{t}\", \"%Y%j%H%M\") for t in times16]\\n        fig, ax1 = plt.subplots(figsize=(15,5))#constrained_layout=False\\n        _ = ax1.plot_date(ptimes17, mean17 , label=\"GOES-17\", color=\\'tab:red\\', marker=\\'+\\', markersize = 16)\\n        _ = ax1.plot_date(ptimes16, mean16 , label=\\'GOES-16\\', color=\\'tab:blue\\', marker=\\'+\\', markersize = 16, zorder=-1)\\n        _ = ax1.set_ylim(220,260)\\n        _ = ax1.tick_params(\\'both\\', labelsize=18)\\n        _ = ax1.legend()\\n        _ = ax1.set_title(f\\'Mean Temperatures (K) for a 401 x 1001 Portion\\n of Band 08 on 04-{str(8+j)}-2019\\', fontweight =\\'bold\\', fontsize = 22)\\n        _ = ax1.set_ylabel(\\'Temperature (K)\\',fontsize = 16)\\n        _ = ax1.set_xlabel(\\'time (hours)\\',fontsize = 16)\\n        _ = ax1.xaxis.set_major_formatter(mdates.DateFormatter(\\'%H:%M\\'))\\n        \\n        \\n        _ = plt.savefig(\\'..\\'+ op.join(DATAPATH,f\"Mean_temp_unfiltered/04-{str(8+j).zfill(2)}-2019\"))\\n'"
      ]
     },
     "execution_count": 64,
     "metadata": {},
     "output_type": "execute_result"
    }
   ],
   "source": [
    "'''\n",
    "for i in [8]:\n",
    "    for j in range(11):\n",
    "        band = str(i).zfill(2)\n",
    "        date = 98 + j\n",
    "        day = str(date).zfill(3)\n",
    "        \n",
    "        times17, mean17 = getTmean('17', npPath, band, day)\n",
    "        times16, mean16 = getTmean('16', npPath, band, day)\n",
    "        \n",
    "        ptimes17 = [datetime.strptime(f\"2019{t}\", \"%Y%j%H%M\") for t in times17]\n",
    "        ptimes16 = [datetime.strptime(f\"2019{t}\", \"%Y%j%H%M\") for t in times16]\n",
    "        fig, ax1 = plt.subplots(figsize=(15,5))#constrained_layout=False\n",
    "        _ = ax1.plot_date(ptimes17, mean17 , label=\"GOES-17\", color='tab:red', marker='+', markersize = 16)\n",
    "        _ = ax1.plot_date(ptimes16, mean16 , label='GOES-16', color='tab:blue', marker='+', markersize = 16, zorder=-1)\n",
    "        _ = ax1.set_ylim(220,260)\n",
    "        _ = ax1.tick_params('both', labelsize=18)\n",
    "        _ = ax1.legend()\n",
    "        _ = ax1.set_title(f'Mean Temperatures (K) for a 401 x 1001 Portion\\n of Band 08 on 04-{str(8+j)}-2019', fontweight ='bold', fontsize = 22)\n",
    "        _ = ax1.set_ylabel('Temperature (K)',fontsize = 16)\n",
    "        _ = ax1.set_xlabel('time (hours)',fontsize = 16)\n",
    "        _ = ax1.xaxis.set_major_formatter(mdates.DateFormatter('%H:%M'))\n",
    "        \n",
    "        \n",
    "        _ = plt.savefig('..'+ op.join(DATAPATH,f\"Mean_temp_unfiltered/04-{str(8+j).zfill(2)}-2019\"))\n",
    "'''       "
   ]
  },
  {
   "cell_type": "markdown",
   "metadata": {},
   "source": [
    "# Plots for April 8 through 18 (filtered) combined Histograms"
   ]
  },
  {
   "cell_type": "code",
   "execution_count": 65,
   "metadata": {},
   "outputs": [
    {
     "data": {
      "text/plain": [
       "'\\nTmean = []\\ntimes = []\\ntoi = [\\'0300\\',\\'0910\\',\\'1010\\',\\'1350\\',\\'1510\\',\\'2100\\']\\nfor (bb,dd) in list(itertools.product([8],range(11))):\\n    for SS in [\\'16\\',\\'17\\']:\\n        bins = np.linspace(220,250,101)\\n        fig, axes = plt.subplots(ncols=6, nrows =1, figsize=(15, 5), constrained_layout=True, sharey = True, sharex = True)\\n        fig.suptitle(f\\'GOES-{SS} ABI Band 8 {8+dd}-Apr-2019\\', fontsize = 22, fontweight = \\'bold\\')\\n        DD = str(98+dd).zfill(3)\\n        lookup = f\\'M6C08_G{SS}_s2019{DD}\\'\\n        ncFiles = [f for f in os.listdir(ncPath) if re.search(lookup,f)]\\n        npFiles = [f for f in os.listdir(npPath) if re.search(lookup,f)]\\n\\n        for ncf, npf in zip(ncFiles,npFiles):\\n            imageBox = np.load(op.join(npPath,npf))\\n            myFile = xr.open_dataset(op.join(ncPath,ncf))\\n            planck_fk1 = float(myFile[\\'planck_fk1\\'].data)\\n            planck_fk2 = float(myFile[\\'planck_fk2\\'].data) \\n            planck_bc1 = float(myFile[\\'planck_bc1\\'].data)                       \\n            planck_bc2 = float(myFile[\\'planck_bc2\\'].data)     \\n            T = Rad2BT(imageBox[acmBox==1].mean(), planck_fk1, planck_fk2, planck_bc1, planck_bc2)\\n            tString = ncf[34:38]\\n            times.append(tString)\\n            Tmean.append(T)\\n\\n            if tString in toi:\\n                ax = axes[toi.index(tString)]\\n                hh = tString[:2]\\n                mm = tString[2:4]\\n                ax.set_title(f\\'{hh}:{mm}\\')\\n                ax.set_ylabel(\\'density (unitless)\\',fontsize = 16)\\n                ax.set_xlabel(\\'Temperature (K)\\', fontsize = 16)\\n\\n                Tbox = Rad2BT(imageBox, planck_fk1, planck_fk2, planck_bc1, planck_bc2)\\n                ax.hist(Tbox.ravel(), bins = bins, density = True, label = \\'Temp dist.\\')\\n                #ax.plot([T,T], [0,0.3],\\'r\\', label = \\'something\\')\\n                ax.axvline(T, color=\\'r\\',label = \\'NOAA avg.\\')\\n            axes[0].legend(loc=\\'upper left\\')\\n        fig.savefig(\\'..\\'+ op.join(DATAPATH,f\"Histograms_filtered/G_{SS}_04-{str(8+dd).zfill(2)}-2019\"))\\n        '"
      ]
     },
     "execution_count": 65,
     "metadata": {},
     "output_type": "execute_result"
    }
   ],
   "source": [
    "'''\n",
    "Tmean = []\n",
    "times = []\n",
    "toi = ['0300','0910','1010','1350','1510','2100']\n",
    "for (bb,dd) in list(itertools.product([8],range(11))):\n",
    "    for SS in ['16','17']:\n",
    "        bins = np.linspace(220,250,101)\n",
    "        fig, axes = plt.subplots(ncols=6, nrows =1, figsize=(15, 5), constrained_layout=True, sharey = True, sharex = True)\n",
    "        fig.suptitle(f'GOES-{SS} ABI Band 8 {8+dd}-Apr-2019', fontsize = 22, fontweight = 'bold')\n",
    "        DD = str(98+dd).zfill(3)\n",
    "        lookup = f'M6C08_G{SS}_s2019{DD}'\n",
    "        ncFiles = [f for f in os.listdir(ncPath) if re.search(lookup,f)]\n",
    "        npFiles = [f for f in os.listdir(npPath) if re.search(lookup,f)]\n",
    "\n",
    "        for ncf, npf in zip(ncFiles,npFiles):\n",
    "            imageBox = np.load(op.join(npPath,npf))\n",
    "            myFile = xr.open_dataset(op.join(ncPath,ncf))\n",
    "            planck_fk1 = float(myFile['planck_fk1'].data)\n",
    "            planck_fk2 = float(myFile['planck_fk2'].data) \n",
    "            planck_bc1 = float(myFile['planck_bc1'].data)                       \n",
    "            planck_bc2 = float(myFile['planck_bc2'].data)     \n",
    "            T = Rad2BT(imageBox[acmBox==1].mean(), planck_fk1, planck_fk2, planck_bc1, planck_bc2)\n",
    "            tString = ncf[34:38]\n",
    "            times.append(tString)\n",
    "            Tmean.append(T)\n",
    "\n",
    "            if tString in toi:\n",
    "                ax = axes[toi.index(tString)]\n",
    "                hh = tString[:2]\n",
    "                mm = tString[2:4]\n",
    "                ax.set_title(f'{hh}:{mm}')\n",
    "                ax.set_ylabel('density (unitless)',fontsize = 16)\n",
    "                ax.set_xlabel('Temperature (K)', fontsize = 16)\n",
    "\n",
    "                Tbox = Rad2BT(imageBox, planck_fk1, planck_fk2, planck_bc1, planck_bc2)\n",
    "                ax.hist(Tbox.ravel(), bins = bins, density = True, label = 'Temp dist.')\n",
    "                #ax.plot([T,T], [0,0.3],'r', label = 'something')\n",
    "                ax.axvline(T, color='r',label = 'NOAA avg.')\n",
    "            axes[0].legend(loc='upper left')\n",
    "        fig.savefig('..'+ op.join(DATAPATH,f\"Histograms_filtered/G_{SS}_04-{str(8+dd).zfill(2)}-2019\"))\n",
    "        '''"
   ]
  },
  {
   "cell_type": "markdown",
   "metadata": {},
   "source": [
    "# Plots for April 8 through 18 (filtered 10min.) Histograms"
   ]
  },
  {
   "cell_type": "code",
   "execution_count": 66,
   "metadata": {},
   "outputs": [
    {
     "data": {
      "text/plain": [
       "'\\nfor (bb,dd) in list(itertools.product([8],range(11))):\\n    for SS in [\\'16\\',\\'17\\']:\\n        BB = str(bb).zfill(2)\\n        DD = str(98+dd).zfill(3)\\n        lookup = f\\'M6C08_G{SS}_s2019{DD}\\'\\n        acmLook = \\'M6_G\\' + SS + \\'_s2019\\' + DD\\n        ncFiles = [f for f in os.listdir(ncPath) if re.search(lookup,f)]\\n        npFiles = [f for f in os.listdir(npPath) if re.search(lookup,f)]\\n        acmFiles = [f for f in os.listdir(acmPath) if re.search(acmLook,f)]\\n\\n        for ncf, npf, acm in zip(ncFiles, npFiles, acmFiles):\\n            bins = np.linspace(220,250,101)\\n            \\n            imageBox = np.load(op.join(npPath,npf))\\n            acmBox = np.load(op.join(acmPath,acm))\\n            \\n            myFile = xr.open_dataset(op.join(ncPath,ncf))\\n            planck_fk1 = float(myFile[\\'planck_fk1\\'].data)\\n            planck_fk2 = float(myFile[\\'planck_fk2\\'].data) \\n            planck_bc1 = float(myFile[\\'planck_bc1\\'].data)                       \\n            planck_bc2 = float(myFile[\\'planck_bc2\\'].data)     \\n            T = Rad2BT(imageBox[acmBox==1], planck_fk1, planck_fk2, planck_bc1, planck_bc2)\\n            tString = ncf[34:38]\\n            \\n            hh = tString[:2]\\n            mm = tString[2:4]\\n            \\n            fig, ax = plt.subplots(ncols=1, nrows =1, figsize=(15, 5), constrained_layout=True, \\n                                     sharey = True, sharex = True)\\n            fig.suptitle(f\\'GOES-{SS} ABI Band 8 {8+dd}-Apr-2019 {hh}:{mm} (filtered 10min.)\\', fontsize = 22, \\n                         fontweight = \\'bold\\')\\n            \\n            ax.set_title(f\\'{hh}:{mm}\\')\\n            ax.set_ylabel(\\'density (unitless)\\', fontsize = 16)\\n            ax.set_xlabel(\\'Temperature (K)\\', fontsize = 16)\\n\\n            ax.hist(T.ravel(), bins = bins, density = True, label = \\'Temp dist.\\')\\n            ax.axvline(T.ravel().mean(), color=\\'r\\', label = \\'NOAA avg.\\')\\n            ax.legend(loc=\\'upper left\\')\\n            \\n            fig.savefig(\\'..\\'+ op.join(DATAPATH, f\"Histograms_filtered/G{SS}B{BB}_{DD}{hh}{mm}2019\"))\\n'"
      ]
     },
     "execution_count": 66,
     "metadata": {},
     "output_type": "execute_result"
    }
   ],
   "source": [
    "'''\n",
    "for (bb,dd) in list(itertools.product([8],range(11))):\n",
    "    for SS in ['16','17']:\n",
    "        BB = str(bb).zfill(2)\n",
    "        DD = str(98+dd).zfill(3)\n",
    "        lookup = f'M6C08_G{SS}_s2019{DD}'\n",
    "        acmLook = 'M6_G' + SS + '_s2019' + DD\n",
    "        ncFiles = [f for f in os.listdir(ncPath) if re.search(lookup,f)]\n",
    "        npFiles = [f for f in os.listdir(npPath) if re.search(lookup,f)]\n",
    "        acmFiles = [f for f in os.listdir(acmPath) if re.search(acmLook,f)]\n",
    "\n",
    "        for ncf, npf, acm in zip(ncFiles, npFiles, acmFiles):\n",
    "            bins = np.linspace(220,250,101)\n",
    "            \n",
    "            imageBox = np.load(op.join(npPath,npf))\n",
    "            acmBox = np.load(op.join(acmPath,acm))\n",
    "            \n",
    "            myFile = xr.open_dataset(op.join(ncPath,ncf))\n",
    "            planck_fk1 = float(myFile['planck_fk1'].data)\n",
    "            planck_fk2 = float(myFile['planck_fk2'].data) \n",
    "            planck_bc1 = float(myFile['planck_bc1'].data)                       \n",
    "            planck_bc2 = float(myFile['planck_bc2'].data)     \n",
    "            T = Rad2BT(imageBox[acmBox==1], planck_fk1, planck_fk2, planck_bc1, planck_bc2)\n",
    "            tString = ncf[34:38]\n",
    "            \n",
    "            hh = tString[:2]\n",
    "            mm = tString[2:4]\n",
    "            \n",
    "            fig, ax = plt.subplots(ncols=1, nrows =1, figsize=(15, 5), constrained_layout=True, \n",
    "                                     sharey = True, sharex = True)\n",
    "            fig.suptitle(f'GOES-{SS} ABI Band 8 {8+dd}-Apr-2019 {hh}:{mm} (filtered 10min.)', fontsize = 22, \n",
    "                         fontweight = 'bold')\n",
    "            \n",
    "            ax.set_title(f'{hh}:{mm}')\n",
    "            ax.set_ylabel('density (unitless)', fontsize = 16)\n",
    "            ax.set_xlabel('Temperature (K)', fontsize = 16)\n",
    "\n",
    "            ax.hist(T.ravel(), bins = bins, density = True, label = 'Temp dist.')\n",
    "            ax.axvline(T.ravel().mean(), color='r', label = 'NOAA avg.')\n",
    "            ax.legend(loc='upper left')\n",
    "            \n",
    "            fig.savefig('..'+ op.join(DATAPATH, f\"Histograms_filtered/G{SS}B{BB}_{DD}{hh}{mm}2019\"))\n",
    "'''            "
   ]
  },
  {
   "cell_type": "markdown",
   "metadata": {},
   "source": [
    "# Validation for April 8 through 18 (unfiltered 10min.) Validation"
   ]
  },
  {
   "cell_type": "code",
   "execution_count": 67,
   "metadata": {},
   "outputs": [
    {
     "data": {
      "text/plain": [
       "\"\\nfor (bb,dd) in list(itertools.product([8],range(11))):\\n    BB = str(bb).zfill(2)\\n    DD = str(98+dd).zfill(3)\\n    lookup16 = f'M6C{BB}_G16_s2019{DD}'\\n    ncFiles16 = [f for f in os.listdir(ncPath) if re.search(lookup,f)]\\n    npFiles16 = [f for f in os.listdir(npPath) if re.search(lookup,f)]\\n    \\n    for ncf16, npf16 in zip(ncFiles16,npFiles16):\\n        imageBox = np.load(op.join(npPath,npf16))\\n        myFile = xr.open_dataset(op.join(ncPath,ncf16))\\n        planck_fk1 = float(myFile['planck_fk1'].data)\\n        planck_fk2 = float(myFile['planck_fk2'].data) \\n        planck_bc1 = float(myFile['planck_bc1'].data)                       \\n        planck_bc2 = float(myFile['planck_bc2'].data)     \\n        T = Rad2BT(imageBox.mean(), planck_fk1, planck_fk2, planck_bc1, planck_bc2)#unfilterd\\n        tString = ncf[34:38]\\n            \\n\""
      ]
     },
     "execution_count": 67,
     "metadata": {},
     "output_type": "execute_result"
    }
   ],
   "source": [
    "'''\n",
    "for (bb,dd) in list(itertools.product([8],range(11))):\n",
    "    BB = str(bb).zfill(2)\n",
    "    DD = str(98+dd).zfill(3)\n",
    "    lookup16 = f'M6C{BB}_G16_s2019{DD}'\n",
    "    ncFiles16 = [f for f in os.listdir(ncPath) if re.search(lookup,f)]\n",
    "    npFiles16 = [f for f in os.listdir(npPath) if re.search(lookup,f)]\n",
    "    \n",
    "    for ncf16, npf16 in zip(ncFiles16,npFiles16):\n",
    "        imageBox = np.load(op.join(npPath,npf16))\n",
    "        myFile = xr.open_dataset(op.join(ncPath,ncf16))\n",
    "        planck_fk1 = float(myFile['planck_fk1'].data)\n",
    "        planck_fk2 = float(myFile['planck_fk2'].data) \n",
    "        planck_bc1 = float(myFile['planck_bc1'].data)                       \n",
    "        planck_bc2 = float(myFile['planck_bc2'].data)     \n",
    "        T = Rad2BT(imageBox.mean(), planck_fk1, planck_fk2, planck_bc1, planck_bc2)#unfilterd\n",
    "        tString = ncf[34:38]\n",
    "            \n",
    "'''\n",
    "        "
   ]
  },
  {
   "cell_type": "code",
   "execution_count": 68,
   "metadata": {},
   "outputs": [],
   "source": [
    "def file2BT(rad, planck_fk1, planck_fk2, planck_bc1, planck_bc2):\n",
    "    \"\"\"Radiances to Brightness Temprature (using black body equation)\"\"\"\n",
    "    invRad = np.array(rad)**(-1)\n",
    "    arg = (invRad*planck_fk1) + 1.0\n",
    "    T = (- planck_bc1+(planck_fk2 * (np.log(arg)**(-1))) )*(1/planck_bc2) \n",
    "    return T"
   ]
  },
  {
   "cell_type": "code",
   "execution_count": 39,
   "metadata": {},
   "outputs": [
    {
     "data": {
      "text/plain": [
       "<matplotlib.axes._subplots.AxesSubplot at 0x7f4c3566f990>"
      ]
     },
     "execution_count": 39,
     "metadata": {},
     "output_type": "execute_result"
    },
    {
     "data": {
      "image/png": "[encoded data removed]",
      "text/plain": [
       "<Figure size 432x288 with 1 Axes>"
      ]
     },
     "metadata": {
      "needs_background": "light"
     },
     "output_type": "display_data"
    }
   ],
   "source": [
    "#https://docs.python.org/3/library/datetime.html#strftime-and-strptime-format-codes\n",
    "#https://matplotlib.org/api/dates_api.html\n",
    "import matplotlib.dates as mdates\n",
    "fig, ax = plt.subplots()\n",
    "chart.plot(ax=ax)"
   ]
  },
  {
   "cell_type": "markdown",
   "metadata": {},
   "source": [
    "# AMS Presentation Material"
   ]
  },
  {
   "cell_type": "code",
   "execution_count": null,
   "metadata": {},
   "outputs": [
    {
     "name": "stdout",
     "output_type": "stream",
     "text": [
      "tSplice:  20190980000 , AUC:  0.50093\n",
      "tSplice:  20190980010 , AUC:  0.50721\n",
      "tSplice:  20190980020 , AUC:  0.51423\n"
     ]
    }
   ],
   "source": [
    "from statsmodels.distributions.empirical_distribution import ECDF\n",
    "import seaborn as sns\n",
    "\n",
    "index = pd.date_range(start='04/08/2019', end='04/18/2019', freq='10T')\n",
    "ind = index.strftime(\"%Y%j%H%M\")\n",
    "chart = pd.Series(data=None)\n",
    "ctr = 0\n",
    "day = 8\n",
    "SS = '17vG16'\n",
    "BB = str(8).zfill(2)\n",
    "\n",
    "plabels = ['0%', '25%', '50%', '75%', '100%']\n",
    "\n",
    "for ts, tSplice in zip(index, ind):\n",
    "    lookup16 = f'{BB}_G16_s{tSplice}'\n",
    "    ncf16 = [f for f in os.listdir(ncPath) if re.search(lookup16,f)]\n",
    "    npf16 = [f for f in os.listdir(npPath) if re.search(lookup16,f)]\n",
    "\n",
    "    lookup17 = f'{BB}_G17_s{tSplice}'\n",
    "    ncf17 = [f for f in os.listdir(ncPath) if re.search(lookup17,f)]\n",
    "    npf17 = [f for f in os.listdir(npPath) if re.search(lookup17,f)] \n",
    "\n",
    "    #print('ncf16: ',ncf16)\n",
    "    #print('ncf17: ',ncf17)\n",
    "    #print('npf16: ',npf16)\n",
    "    #print('npf17: ',npf17)\n",
    "\n",
    "    if len(ncf16) + len(ncf17)!=2:\n",
    "        continue\n",
    "\n",
    "    imageBox16 = np.load(op.join(npPath,npf16[0]))   \n",
    "    myFile16 = xr.open_dataset(op.join(ncPath,ncf16[0]))\n",
    "    planck_fk1_16 = float(myFile16['planck_fk1'].data)\n",
    "    planck_fk2_16 = float(myFile16['planck_fk2'].data) \n",
    "    planck_bc1_16 = float(myFile16['planck_bc1'].data)                       \n",
    "    planck_bc2_16 = float(myFile16['planck_bc2'].data)     \n",
    "    T16 = file2BT(imageBox16.ravel(), planck_fk1_16, \n",
    "                  planck_fk2_16, planck_bc1_16, planck_bc2_16)#unfilterd\n",
    "\n",
    "    imageBox17 = np.load(op.join(npPath,npf17[0]))\n",
    "    myFile17 = xr.open_dataset(op.join(ncPath,ncf17[0]))\n",
    "    planck_fk1_17 = float(myFile17['planck_fk1'].data)\n",
    "    planck_fk2_17 = float(myFile17['planck_fk2'].data) \n",
    "    planck_bc1_17 = float(myFile17['planck_bc1'].data)                       \n",
    "    planck_bc2_17 = float(myFile17['planck_bc2'].data)     \n",
    "    T17 = file2BT(imageBox17.ravel(), planck_fk1_17, planck_fk2_17, \n",
    "                  planck_bc1_17, planck_bc2_17)#unfilterd\n",
    "\n",
    "    rc= np.vstack([T16, T17])\n",
    "    XY = rc[:,np.isfinite(rc).all(axis=0)]\n",
    "    G16 = XY[0]\n",
    "    G17 = XY[1]\n",
    "\n",
    "    _G17 = np.linspace(G17.min(), G17.max(), 1000)\n",
    "    B = [st.scoreatpercentile(G16, st.percentileofscore(G17,g17s,\n",
    "        kind='strict')) for g17s in _G17]\n",
    "\n",
    "    _B = (B - min(B))/(max(B) - min(B))\n",
    "    _G17n = (_G17 - min(_G17))/(max(_G17) - min(_G17))\n",
    "\n",
    "    AUC = round(sum(_B)/1000,5)\n",
    "    chart[ts] = AUC\n",
    "    \n",
    "    if tSplice[-4:] in ['0300','0910','1010','1350','1510','2100']:\n",
    "        fig, (ax1, ax2, ax3) = plt.subplots(ncols=3, figsize = (15,5))\n",
    "        _ = ax1.plot(_G17n,_B, label=f\"AUC: {AUC}\")\n",
    "        _ = ax1.set_ylabel('G16')\n",
    "        _ = ax1.set_xlabel('G17')\n",
    "        _ = ax1.set_title('Transform of G17 to G16')\n",
    "        _ = ax1.set_aspect('equal')\n",
    "        _ = ax1.legend(loc = 'upper left')\n",
    "\n",
    "        #_ = ax2.scatter(G17, G16)\n",
    "        g = sns.jointplot(x=G17, y=G16, kind=\"reg\",\n",
    "                  xlim=(0, 1), ylim=(0, 1), color=\"m\", height=7, ax=ax2)\n",
    "        _ = ax2.set_ylabel('G16')\n",
    "        _ = ax2.set_xlabel('G17')\n",
    "        _ = ax2.set_title(f'G17 vs. G16 @{tSplice}')\n",
    "        _ = ax2.set_aspect('equal')\n",
    "\n",
    "        #_ = ax3.hist(G17, label='G17', histtype='step')\n",
    "        #_ = ax3.hist(G16, label='G16', histtype='step')\n",
    "        xticks = [st.scoreatpercentile(xticks, p) for p in [0, 25, 50, 75, 100]]\n",
    "        _ = ax3.plot(sorted(G17), label='G17')\n",
    "        _ = ax3.plot(sorted(G16), label='G16')\n",
    "        _ = ax3.legend(loc = 'upper left')\n",
    "        _ = ax3.set_title(f'Empirical CDF for Apr-{day}-2019')\n",
    "        _ = ax3.set_xticks(xticks)\n",
    "        _ = ax3.set_xticklabels(plabels)\n",
    "        _ = ax3.set_xlabel('quantiles')\n",
    "        _ = ax3.set_ylabel('Temperature')\n",
    "        \n",
    "        plt.show()\n",
    "        \n",
    "        fig.savefig(op.join(DATAPATH,\n",
    "            f\"validation/G_{SS}_band{BB}_04-{str(day).zfill(2)}-2019_{tSplice}\"))\n",
    "    \n",
    "    if ts.day != day:\n",
    "        fig2, ax0 = plt.subplots()\n",
    "        chart.plot(ax=ax0)\n",
    "        \n",
    "        fig2.savefig(op.join(DATAPATH,\n",
    "            f\"validation/AUC/G_{SS}_band{BB}_04-{str(day).zfill(2)}-2019_{tSplice}\"))\n",
    "        \n",
    "        day+=1\n",
    "        chart = pd.Series(data=None)\n",
    "    \n",
    "    print(\"tSplice: \",tSplice,', AUC: ',AUC)\n",
    "    \n",
    "    \n"
   ]
  },
  {
   "cell_type": "code",
   "execution_count": 90,
   "metadata": {},
   "outputs": [
    {
     "data": {
      "text/plain": [
       "True"
      ]
     },
     "execution_count": 90,
     "metadata": {},
     "output_type": "execute_result"
    }
   ],
   "source": [
    "import pathlib\n",
    "pathlib.Path(DATAPATH).exists()"
   ]
  },
  {
   "cell_type": "code",
   "execution_count": null,
   "metadata": {},
   "outputs": [],
   "source": []
  }
 ],
 "metadata": {
  "kernelspec": {
   "display_name": "Python 3",
   "language": "python",
   "name": "python3"
  },
  "language_info": {
   "codemirror_mode": {
    "name": "ipython",
    "version": 3
   },
   "file_extension": ".py",
   "mimetype": "text/x-python",
   "name": "python",
   "nbconvert_exporter": "python",
   "pygments_lexer": "ipython3",
   "version": "3.7.4"
  }
 },
 "nbformat": 4,
 "nbformat_minor": 2
}
