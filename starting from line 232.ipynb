{
 "cells": [
  {
   "cell_type": "code",
   "execution_count": 10,
   "metadata": {},
   "outputs": [
    {
     "name": "stdout",
     "output_type": "stream",
     "text": [
      "Requirement already satisfied: dash in c:\\users\\cemil turhan\\anaconda3\\lib\\site-packages (1.6.0)\n",
      "Requirement already satisfied: dash-renderer==1.2.0 in c:\\users\\cemil turhan\\anaconda3\\lib\\site-packages (from dash) (1.2.0)\n",
      "Requirement already satisfied: dash-core-components==1.5.0 in c:\\users\\cemil turhan\\anaconda3\\lib\\site-packages (from dash) (1.5.0)\n",
      "Requirement already satisfied: dash-html-components==1.0.1 in c:\\users\\cemil turhan\\anaconda3\\lib\\site-packages (from dash) (1.0.1)\n",
      "Requirement already satisfied: dash-table==4.5.0 in c:\\users\\cemil turhan\\anaconda3\\lib\\site-packages (from dash) (4.5.0)\n",
      "Requirement already satisfied: plotly in c:\\users\\cemil turhan\\anaconda3\\lib\\site-packages (from dash) (4.2.1)\n",
      "Requirement already satisfied: flask-compress in c:\\users\\cemil turhan\\anaconda3\\lib\\site-packages (from dash) (1.4.0)\n",
      "Requirement already satisfied: Flask>=1.0.2 in c:\\users\\cemil turhan\\anaconda3\\lib\\site-packages (from dash) (1.1.1)\n",
      "Requirement already satisfied: future in c:\\users\\cemil turhan\\anaconda3\\lib\\site-packages (from dash) (0.17.1)\n",
      "Requirement already satisfied: six in c:\\users\\cemil turhan\\anaconda3\\lib\\site-packages (from plotly->dash) (1.12.0)\n",
      "Requirement already satisfied: retrying>=1.3.3 in c:\\users\\cemil turhan\\anaconda3\\lib\\site-packages (from plotly->dash) (1.3.3)\n",
      "Requirement already satisfied: Jinja2>=2.10.1 in c:\\users\\cemil turhan\\anaconda3\\lib\\site-packages (from Flask>=1.0.2->dash) (2.10.1)\n",
      "Requirement already satisfied: click>=5.1 in c:\\users\\cemil turhan\\anaconda3\\lib\\site-packages (from Flask>=1.0.2->dash) (7.0)\n",
      "Requirement already satisfied: Werkzeug>=0.15 in c:\\users\\cemil turhan\\anaconda3\\lib\\site-packages (from Flask>=1.0.2->dash) (0.15.4)\n",
      "Requirement already satisfied: itsdangerous>=0.24 in c:\\users\\cemil turhan\\anaconda3\\lib\\site-packages (from Flask>=1.0.2->dash) (1.1.0)\n",
      "Requirement already satisfied: MarkupSafe>=0.23 in c:\\users\\cemil turhan\\anaconda3\\lib\\site-packages (from Jinja2>=2.10.1->Flask>=1.0.2->dash) (1.1.1)\n"
     ]
    },
    {
     "data": {
      "application/vnd.plotly.v1+json": {
       "config": {
        "plotlyServerURL": "https://plot.ly"
       },
       "data": [
        {
         "hoverlabel": {
          "namelength": 0
         },
         "hovertemplate": "year=%{x}<br>lifeExp=%{y}",
         "legendgroup": "",
         "line": {
          "color": "#636efa",
          "dash": "solid"
         },
         "mode": "lines",
         "name": "",
         "showlegend": false,
         "type": "scatter",
         "x": [
          1952,
          1957,
          1962,
          1967,
          1972,
          1977,
          1982,
          1987,
          1992,
          1997,
          2002,
          2007
         ],
         "xaxis": "x",
         "y": [
          68.75,
          69.96,
          71.3,
          72.13,
          72.88,
          74.21,
          75.76,
          76.86,
          77.95,
          78.61,
          79.77,
          80.653
         ],
         "yaxis": "y"
        }
       ],
       "layout": {
        "height": 600,
        "legend": {
         "tracegroupgap": 0
        },
        "template": {
         "data": {
          "bar": [
           {
            "error_x": {
             "color": "#2a3f5f"
            },
            "error_y": {
             "color": "#2a3f5f"
            },
            "marker": {
             "line": {
              "color": "#E5ECF6",
              "width": 0.5
             }
            },
            "type": "bar"
           }
          ],
          "barpolar": [
           {
            "marker": {
             "line": {
              "color": "#E5ECF6",
              "width": 0.5
             }
            },
            "type": "barpolar"
           }
          ],
          "carpet": [
           {
            "aaxis": {
             "endlinecolor": "#2a3f5f",
             "gridcolor": "white",
             "linecolor": "white",
             "minorgridcolor": "white",
             "startlinecolor": "#2a3f5f"
            },
            "baxis": {
             "endlinecolor": "#2a3f5f",
             "gridcolor": "white",
             "linecolor": "white",
             "minorgridcolor": "white",
             "startlinecolor": "#2a3f5f"
            },
            "type": "carpet"
           }
          ],
          "choropleth": [
           {
            "colorbar": {
             "outlinewidth": 0,
             "ticks": ""
            },
            "type": "choropleth"
           }
          ],
          "contour": [
           {
            "colorbar": {
             "outlinewidth": 0,
             "ticks": ""
            },
            "colorscale": [
             [
              0,
              "#0d0887"
             ],
             [
              0.1111111111111111,
              "#46039f"
             ],
             [
              0.2222222222222222,
              "#7201a8"
             ],
             [
              0.3333333333333333,
              "#9c179e"
             ],
             [
              0.4444444444444444,
              "#bd3786"
             ],
             [
              0.5555555555555556,
              "#d8576b"
             ],
             [
              0.6666666666666666,
              "#ed7953"
             ],
             [
              0.7777777777777778,
              "#fb9f3a"
             ],
             [
              0.8888888888888888,
              "#fdca26"
             ],
             [
              1,
              "#f0f921"
             ]
            ],
            "type": "contour"
           }
          ],
          "contourcarpet": [
           {
            "colorbar": {
             "outlinewidth": 0,
             "ticks": ""
            },
            "type": "contourcarpet"
           }
          ],
          "heatmap": [
           {
            "colorbar": {
             "outlinewidth": 0,
             "ticks": ""
            },
            "colorscale": [
             [
              0,
              "#0d0887"
             ],
             [
              0.1111111111111111,
              "#46039f"
             ],
             [
              0.2222222222222222,
              "#7201a8"
             ],
             [
              0.3333333333333333,
              "#9c179e"
             ],
             [
              0.4444444444444444,
              "#bd3786"
             ],
             [
              0.5555555555555556,
              "#d8576b"
             ],
             [
              0.6666666666666666,
              "#ed7953"
             ],
             [
              0.7777777777777778,
              "#fb9f3a"
             ],
             [
              0.8888888888888888,
              "#fdca26"
             ],
             [
              1,
              "#f0f921"
             ]
            ],
            "type": "heatmap"
           }
          ],
          "heatmapgl": [
           {
            "colorbar": {
             "outlinewidth": 0,
             "ticks": ""
            },
            "colorscale": [
             [
              0,
              "#0d0887"
             ],
             [
              0.1111111111111111,
              "#46039f"
             ],
             [
              0.2222222222222222,
              "#7201a8"
             ],
             [
              0.3333333333333333,
              "#9c179e"
             ],
             [
              0.4444444444444444,
              "#bd3786"
             ],
             [
              0.5555555555555556,
              "#d8576b"
             ],
             [
              0.6666666666666666,
              "#ed7953"
             ],
             [
              0.7777777777777778,
              "#fb9f3a"
             ],
             [
              0.8888888888888888,
              "#fdca26"
             ],
             [
              1,
              "#f0f921"
             ]
            ],
            "type": "heatmapgl"
           }
          ],
          "histogram": [
           {
            "marker": {
             "colorbar": {
              "outlinewidth": 0,
              "ticks": ""
             }
            },
            "type": "histogram"
           }
          ],
          "histogram2d": [
           {
            "colorbar": {
             "outlinewidth": 0,
             "ticks": ""
            },
            "colorscale": [
             [
              0,
              "#0d0887"
             ],
             [
              0.1111111111111111,
              "#46039f"
             ],
             [
              0.2222222222222222,
              "#7201a8"
             ],
             [
              0.3333333333333333,
              "#9c179e"
             ],
             [
              0.4444444444444444,
              "#bd3786"
             ],
             [
              0.5555555555555556,
              "#d8576b"
             ],
             [
              0.6666666666666666,
              "#ed7953"
             ],
             [
              0.7777777777777778,
              "#fb9f3a"
             ],
             [
              0.8888888888888888,
              "#fdca26"
             ],
             [
              1,
              "#f0f921"
             ]
            ],
            "type": "histogram2d"
           }
          ],
          "histogram2dcontour": [
           {
            "colorbar": {
             "outlinewidth": 0,
             "ticks": ""
            },
            "colorscale": [
             [
              0,
              "#0d0887"
             ],
             [
              0.1111111111111111,
              "#46039f"
             ],
             [
              0.2222222222222222,
              "#7201a8"
             ],
             [
              0.3333333333333333,
              "#9c179e"
             ],
             [
              0.4444444444444444,
              "#bd3786"
             ],
             [
              0.5555555555555556,
              "#d8576b"
             ],
             [
              0.6666666666666666,
              "#ed7953"
             ],
             [
              0.7777777777777778,
              "#fb9f3a"
             ],
             [
              0.8888888888888888,
              "#fdca26"
             ],
             [
              1,
              "#f0f921"
             ]
            ],
            "type": "histogram2dcontour"
           }
          ],
          "mesh3d": [
           {
            "colorbar": {
             "outlinewidth": 0,
             "ticks": ""
            },
            "type": "mesh3d"
           }
          ],
          "parcoords": [
           {
            "line": {
             "colorbar": {
              "outlinewidth": 0,
              "ticks": ""
             }
            },
            "type": "parcoords"
           }
          ],
          "scatter": [
           {
            "marker": {
             "colorbar": {
              "outlinewidth": 0,
              "ticks": ""
             }
            },
            "type": "scatter"
           }
          ],
          "scatter3d": [
           {
            "line": {
             "colorbar": {
              "outlinewidth": 0,
              "ticks": ""
             }
            },
            "marker": {
             "colorbar": {
              "outlinewidth": 0,
              "ticks": ""
             }
            },
            "type": "scatter3d"
           }
          ],
          "scattercarpet": [
           {
            "marker": {
             "colorbar": {
              "outlinewidth": 0,
              "ticks": ""
             }
            },
            "type": "scattercarpet"
           }
          ],
          "scattergeo": [
           {
            "marker": {
             "colorbar": {
              "outlinewidth": 0,
              "ticks": ""
             }
            },
            "type": "scattergeo"
           }
          ],
          "scattergl": [
           {
            "marker": {
             "colorbar": {
              "outlinewidth": 0,
              "ticks": ""
             }
            },
            "type": "scattergl"
           }
          ],
          "scattermapbox": [
           {
            "marker": {
             "colorbar": {
              "outlinewidth": 0,
              "ticks": ""
             }
            },
            "type": "scattermapbox"
           }
          ],
          "scatterpolar": [
           {
            "marker": {
             "colorbar": {
              "outlinewidth": 0,
              "ticks": ""
             }
            },
            "type": "scatterpolar"
           }
          ],
          "scatterpolargl": [
           {
            "marker": {
             "colorbar": {
              "outlinewidth": 0,
              "ticks": ""
             }
            },
            "type": "scatterpolargl"
           }
          ],
          "scatterternary": [
           {
            "marker": {
             "colorbar": {
              "outlinewidth": 0,
              "ticks": ""
             }
            },
            "type": "scatterternary"
           }
          ],
          "surface": [
           {
            "colorbar": {
             "outlinewidth": 0,
             "ticks": ""
            },
            "colorscale": [
             [
              0,
              "#0d0887"
             ],
             [
              0.1111111111111111,
              "#46039f"
             ],
             [
              0.2222222222222222,
              "#7201a8"
             ],
             [
              0.3333333333333333,
              "#9c179e"
             ],
             [
              0.4444444444444444,
              "#bd3786"
             ],
             [
              0.5555555555555556,
              "#d8576b"
             ],
             [
              0.6666666666666666,
              "#ed7953"
             ],
             [
              0.7777777777777778,
              "#fb9f3a"
             ],
             [
              0.8888888888888888,
              "#fdca26"
             ],
             [
              1,
              "#f0f921"
             ]
            ],
            "type": "surface"
           }
          ],
          "table": [
           {
            "cells": {
             "fill": {
              "color": "#EBF0F8"
             },
             "line": {
              "color": "white"
             }
            },
            "header": {
             "fill": {
              "color": "#C8D4E3"
             },
             "line": {
              "color": "white"
             }
            },
            "type": "table"
           }
          ]
         },
         "layout": {
          "annotationdefaults": {
           "arrowcolor": "#2a3f5f",
           "arrowhead": 0,
           "arrowwidth": 1
          },
          "colorscale": {
           "diverging": [
            [
             0,
             "#8e0152"
            ],
            [
             0.1,
             "#c51b7d"
            ],
            [
             0.2,
             "#de77ae"
            ],
            [
             0.3,
             "#f1b6da"
            ],
            [
             0.4,
             "#fde0ef"
            ],
            [
             0.5,
             "#f7f7f7"
            ],
            [
             0.6,
             "#e6f5d0"
            ],
            [
             0.7,
             "#b8e186"
            ],
            [
             0.8,
             "#7fbc41"
            ],
            [
             0.9,
             "#4d9221"
            ],
            [
             1,
             "#276419"
            ]
           ],
           "sequential": [
            [
             0,
             "#0d0887"
            ],
            [
             0.1111111111111111,
             "#46039f"
            ],
            [
             0.2222222222222222,
             "#7201a8"
            ],
            [
             0.3333333333333333,
             "#9c179e"
            ],
            [
             0.4444444444444444,
             "#bd3786"
            ],
            [
             0.5555555555555556,
             "#d8576b"
            ],
            [
             0.6666666666666666,
             "#ed7953"
            ],
            [
             0.7777777777777778,
             "#fb9f3a"
            ],
            [
             0.8888888888888888,
             "#fdca26"
            ],
            [
             1,
             "#f0f921"
            ]
           ],
           "sequentialminus": [
            [
             0,
             "#0d0887"
            ],
            [
             0.1111111111111111,
             "#46039f"
            ],
            [
             0.2222222222222222,
             "#7201a8"
            ],
            [
             0.3333333333333333,
             "#9c179e"
            ],
            [
             0.4444444444444444,
             "#bd3786"
            ],
            [
             0.5555555555555556,
             "#d8576b"
            ],
            [
             0.6666666666666666,
             "#ed7953"
            ],
            [
             0.7777777777777778,
             "#fb9f3a"
            ],
            [
             0.8888888888888888,
             "#fdca26"
            ],
            [
             1,
             "#f0f921"
            ]
           ]
          },
          "colorway": [
           "#636efa",
           "#EF553B",
           "#00cc96",
           "#ab63fa",
           "#FFA15A",
           "#19d3f3",
           "#FF6692",
           "#B6E880",
           "#FF97FF",
           "#FECB52"
          ],
          "font": {
           "color": "#2a3f5f"
          },
          "geo": {
           "bgcolor": "white",
           "lakecolor": "white",
           "landcolor": "#E5ECF6",
           "showlakes": true,
           "showland": true,
           "subunitcolor": "white"
          },
          "hoverlabel": {
           "align": "left"
          },
          "hovermode": "closest",
          "mapbox": {
           "style": "light"
          },
          "paper_bgcolor": "white",
          "plot_bgcolor": "#E5ECF6",
          "polar": {
           "angularaxis": {
            "gridcolor": "white",
            "linecolor": "white",
            "ticks": ""
           },
           "bgcolor": "#E5ECF6",
           "radialaxis": {
            "gridcolor": "white",
            "linecolor": "white",
            "ticks": ""
           }
          },
          "scene": {
           "xaxis": {
            "backgroundcolor": "#E5ECF6",
            "gridcolor": "white",
            "gridwidth": 2,
            "linecolor": "white",
            "showbackground": true,
            "ticks": "",
            "zerolinecolor": "white"
           },
           "yaxis": {
            "backgroundcolor": "#E5ECF6",
            "gridcolor": "white",
            "gridwidth": 2,
            "linecolor": "white",
            "showbackground": true,
            "ticks": "",
            "zerolinecolor": "white"
           },
           "zaxis": {
            "backgroundcolor": "#E5ECF6",
            "gridcolor": "white",
            "gridwidth": 2,
            "linecolor": "white",
            "showbackground": true,
            "ticks": "",
            "zerolinecolor": "white"
           }
          },
          "shapedefaults": {
           "line": {
            "color": "#2a3f5f"
           }
          },
          "ternary": {
           "aaxis": {
            "gridcolor": "white",
            "linecolor": "white",
            "ticks": ""
           },
           "baxis": {
            "gridcolor": "white",
            "linecolor": "white",
            "ticks": ""
           },
           "bgcolor": "#E5ECF6",
           "caxis": {
            "gridcolor": "white",
            "linecolor": "white",
            "ticks": ""
           }
          },
          "title": {
           "x": 0.05
          },
          "xaxis": {
           "automargin": true,
           "gridcolor": "white",
           "linecolor": "white",
           "ticks": "",
           "zerolinecolor": "white",
           "zerolinewidth": 2
          },
          "yaxis": {
           "automargin": true,
           "gridcolor": "white",
           "linecolor": "white",
           "ticks": "",
           "zerolinecolor": "white",
           "zerolinewidth": 2
          }
         }
        },
        "title": {
         "text": "Life expectancy in Canada"
        },
        "xaxis": {
         "anchor": "y",
         "domain": [
          0,
          0.98
         ],
         "title": {
          "text": "year"
         }
        },
        "yaxis": {
         "anchor": "x",
         "domain": [
          0,
          1
         ],
         "title": {
          "text": "lifeExp"
         }
        }
       }
      },
      "text/html": [
       "<div>\n",
       "        \n",
       "        \n",
       "            <div id=\"fc400623-084f-4709-85a6-41d97010a037\" class=\"plotly-graph-div\" style=\"height:600px; width:100%;\"></div>\n",
       "            <script type=\"text/javascript\">\n",
       "                require([\"plotly\"], function(Plotly) {\n",
       "                    window.PLOTLYENV=window.PLOTLYENV || {};\n",
       "                    \n",
       "                if (document.getElementById(\"fc400623-084f-4709-85a6-41d97010a037\")) {\n",
       "                    Plotly.newPlot(\n",
       "                        'fc400623-084f-4709-85a6-41d97010a037',\n",
       "                        [{\"hoverlabel\": {\"namelength\": 0}, \"hovertemplate\": \"year=%{x}<br>lifeExp=%{y}\", \"legendgroup\": \"\", \"line\": {\"color\": \"#636efa\", \"dash\": \"solid\"}, \"mode\": \"lines\", \"name\": \"\", \"showlegend\": false, \"type\": \"scatter\", \"x\": [1952, 1957, 1962, 1967, 1972, 1977, 1982, 1987, 1992, 1997, 2002, 2007], \"xaxis\": \"x\", \"y\": [68.75, 69.96, 71.3, 72.13, 72.88, 74.21, 75.76, 76.86, 77.95, 78.61, 79.77, 80.653], \"yaxis\": \"y\"}],\n",
       "                        {\"height\": 600, \"legend\": {\"tracegroupgap\": 0}, \"template\": {\"data\": {\"bar\": [{\"error_x\": {\"color\": \"#2a3f5f\"}, \"error_y\": {\"color\": \"#2a3f5f\"}, \"marker\": {\"line\": {\"color\": \"#E5ECF6\", \"width\": 0.5}}, \"type\": \"bar\"}], \"barpolar\": [{\"marker\": {\"line\": {\"color\": \"#E5ECF6\", \"width\": 0.5}}, \"type\": \"barpolar\"}], \"carpet\": [{\"aaxis\": {\"endlinecolor\": \"#2a3f5f\", \"gridcolor\": \"white\", \"linecolor\": \"white\", \"minorgridcolor\": \"white\", \"startlinecolor\": \"#2a3f5f\"}, \"baxis\": {\"endlinecolor\": \"#2a3f5f\", \"gridcolor\": \"white\", \"linecolor\": \"white\", \"minorgridcolor\": \"white\", \"startlinecolor\": \"#2a3f5f\"}, \"type\": \"carpet\"}], \"choropleth\": [{\"colorbar\": {\"outlinewidth\": 0, \"ticks\": \"\"}, \"type\": \"choropleth\"}], \"contour\": [{\"colorbar\": {\"outlinewidth\": 0, \"ticks\": \"\"}, \"colorscale\": [[0.0, \"#0d0887\"], [0.1111111111111111, \"#46039f\"], [0.2222222222222222, \"#7201a8\"], [0.3333333333333333, \"#9c179e\"], [0.4444444444444444, \"#bd3786\"], [0.5555555555555556, \"#d8576b\"], [0.6666666666666666, \"#ed7953\"], [0.7777777777777778, \"#fb9f3a\"], [0.8888888888888888, \"#fdca26\"], [1.0, \"#f0f921\"]], \"type\": \"contour\"}], \"contourcarpet\": [{\"colorbar\": {\"outlinewidth\": 0, \"ticks\": \"\"}, \"type\": \"contourcarpet\"}], \"heatmap\": [{\"colorbar\": {\"outlinewidth\": 0, \"ticks\": \"\"}, \"colorscale\": [[0.0, \"#0d0887\"], [0.1111111111111111, \"#46039f\"], [0.2222222222222222, \"#7201a8\"], [0.3333333333333333, \"#9c179e\"], [0.4444444444444444, \"#bd3786\"], [0.5555555555555556, \"#d8576b\"], [0.6666666666666666, \"#ed7953\"], [0.7777777777777778, \"#fb9f3a\"], [0.8888888888888888, \"#fdca26\"], [1.0, \"#f0f921\"]], \"type\": \"heatmap\"}], \"heatmapgl\": [{\"colorbar\": {\"outlinewidth\": 0, \"ticks\": \"\"}, \"colorscale\": [[0.0, \"#0d0887\"], [0.1111111111111111, \"#46039f\"], [0.2222222222222222, \"#7201a8\"], [0.3333333333333333, \"#9c179e\"], [0.4444444444444444, \"#bd3786\"], [0.5555555555555556, \"#d8576b\"], [0.6666666666666666, \"#ed7953\"], [0.7777777777777778, \"#fb9f3a\"], [0.8888888888888888, \"#fdca26\"], [1.0, \"#f0f921\"]], \"type\": \"heatmapgl\"}], \"histogram\": [{\"marker\": {\"colorbar\": {\"outlinewidth\": 0, \"ticks\": \"\"}}, \"type\": \"histogram\"}], \"histogram2d\": [{\"colorbar\": {\"outlinewidth\": 0, \"ticks\": \"\"}, \"colorscale\": [[0.0, \"#0d0887\"], [0.1111111111111111, \"#46039f\"], [0.2222222222222222, \"#7201a8\"], [0.3333333333333333, \"#9c179e\"], [0.4444444444444444, \"#bd3786\"], [0.5555555555555556, \"#d8576b\"], [0.6666666666666666, \"#ed7953\"], [0.7777777777777778, \"#fb9f3a\"], [0.8888888888888888, \"#fdca26\"], [1.0, \"#f0f921\"]], \"type\": \"histogram2d\"}], \"histogram2dcontour\": [{\"colorbar\": {\"outlinewidth\": 0, \"ticks\": \"\"}, \"colorscale\": [[0.0, \"#0d0887\"], [0.1111111111111111, \"#46039f\"], [0.2222222222222222, \"#7201a8\"], [0.3333333333333333, \"#9c179e\"], [0.4444444444444444, \"#bd3786\"], [0.5555555555555556, \"#d8576b\"], [0.6666666666666666, \"#ed7953\"], [0.7777777777777778, \"#fb9f3a\"], [0.8888888888888888, \"#fdca26\"], [1.0, \"#f0f921\"]], \"type\": \"histogram2dcontour\"}], \"mesh3d\": [{\"colorbar\": {\"outlinewidth\": 0, \"ticks\": \"\"}, \"type\": \"mesh3d\"}], \"parcoords\": [{\"line\": {\"colorbar\": {\"outlinewidth\": 0, \"ticks\": \"\"}}, \"type\": \"parcoords\"}], \"scatter\": [{\"marker\": {\"colorbar\": {\"outlinewidth\": 0, \"ticks\": \"\"}}, \"type\": \"scatter\"}], \"scatter3d\": [{\"line\": {\"colorbar\": {\"outlinewidth\": 0, \"ticks\": \"\"}}, \"marker\": {\"colorbar\": {\"outlinewidth\": 0, \"ticks\": \"\"}}, \"type\": \"scatter3d\"}], \"scattercarpet\": [{\"marker\": {\"colorbar\": {\"outlinewidth\": 0, \"ticks\": \"\"}}, \"type\": \"scattercarpet\"}], \"scattergeo\": [{\"marker\": {\"colorbar\": {\"outlinewidth\": 0, \"ticks\": \"\"}}, \"type\": \"scattergeo\"}], \"scattergl\": [{\"marker\": {\"colorbar\": {\"outlinewidth\": 0, \"ticks\": \"\"}}, \"type\": \"scattergl\"}], \"scattermapbox\": [{\"marker\": {\"colorbar\": {\"outlinewidth\": 0, \"ticks\": \"\"}}, \"type\": \"scattermapbox\"}], \"scatterpolar\": [{\"marker\": {\"colorbar\": {\"outlinewidth\": 0, \"ticks\": \"\"}}, \"type\": \"scatterpolar\"}], \"scatterpolargl\": [{\"marker\": {\"colorbar\": {\"outlinewidth\": 0, \"ticks\": \"\"}}, \"type\": \"scatterpolargl\"}], \"scatterternary\": [{\"marker\": {\"colorbar\": {\"outlinewidth\": 0, \"ticks\": \"\"}}, \"type\": \"scatterternary\"}], \"surface\": [{\"colorbar\": {\"outlinewidth\": 0, \"ticks\": \"\"}, \"colorscale\": [[0.0, \"#0d0887\"], [0.1111111111111111, \"#46039f\"], [0.2222222222222222, \"#7201a8\"], [0.3333333333333333, \"#9c179e\"], [0.4444444444444444, \"#bd3786\"], [0.5555555555555556, \"#d8576b\"], [0.6666666666666666, \"#ed7953\"], [0.7777777777777778, \"#fb9f3a\"], [0.8888888888888888, \"#fdca26\"], [1.0, \"#f0f921\"]], \"type\": \"surface\"}], \"table\": [{\"cells\": {\"fill\": {\"color\": \"#EBF0F8\"}, \"line\": {\"color\": \"white\"}}, \"header\": {\"fill\": {\"color\": \"#C8D4E3\"}, \"line\": {\"color\": \"white\"}}, \"type\": \"table\"}]}, \"layout\": {\"annotationdefaults\": {\"arrowcolor\": \"#2a3f5f\", \"arrowhead\": 0, \"arrowwidth\": 1}, \"colorscale\": {\"diverging\": [[0, \"#8e0152\"], [0.1, \"#c51b7d\"], [0.2, \"#de77ae\"], [0.3, \"#f1b6da\"], [0.4, \"#fde0ef\"], [0.5, \"#f7f7f7\"], [0.6, \"#e6f5d0\"], [0.7, \"#b8e186\"], [0.8, \"#7fbc41\"], [0.9, \"#4d9221\"], [1, \"#276419\"]], \"sequential\": [[0.0, \"#0d0887\"], [0.1111111111111111, \"#46039f\"], [0.2222222222222222, \"#7201a8\"], [0.3333333333333333, \"#9c179e\"], [0.4444444444444444, \"#bd3786\"], [0.5555555555555556, \"#d8576b\"], [0.6666666666666666, \"#ed7953\"], [0.7777777777777778, \"#fb9f3a\"], [0.8888888888888888, \"#fdca26\"], [1.0, \"#f0f921\"]], \"sequentialminus\": [[0.0, \"#0d0887\"], [0.1111111111111111, \"#46039f\"], [0.2222222222222222, \"#7201a8\"], [0.3333333333333333, \"#9c179e\"], [0.4444444444444444, \"#bd3786\"], [0.5555555555555556, \"#d8576b\"], [0.6666666666666666, \"#ed7953\"], [0.7777777777777778, \"#fb9f3a\"], [0.8888888888888888, \"#fdca26\"], [1.0, \"#f0f921\"]]}, \"colorway\": [\"#636efa\", \"#EF553B\", \"#00cc96\", \"#ab63fa\", \"#FFA15A\", \"#19d3f3\", \"#FF6692\", \"#B6E880\", \"#FF97FF\", \"#FECB52\"], \"font\": {\"color\": \"#2a3f5f\"}, \"geo\": {\"bgcolor\": \"white\", \"lakecolor\": \"white\", \"landcolor\": \"#E5ECF6\", \"showlakes\": true, \"showland\": true, \"subunitcolor\": \"white\"}, \"hoverlabel\": {\"align\": \"left\"}, \"hovermode\": \"closest\", \"mapbox\": {\"style\": \"light\"}, \"paper_bgcolor\": \"white\", \"plot_bgcolor\": \"#E5ECF6\", \"polar\": {\"angularaxis\": {\"gridcolor\": \"white\", \"linecolor\": \"white\", \"ticks\": \"\"}, \"bgcolor\": \"#E5ECF6\", \"radialaxis\": {\"gridcolor\": \"white\", \"linecolor\": \"white\", \"ticks\": \"\"}}, \"scene\": {\"xaxis\": {\"backgroundcolor\": \"#E5ECF6\", \"gridcolor\": \"white\", \"gridwidth\": 2, \"linecolor\": \"white\", \"showbackground\": true, \"ticks\": \"\", \"zerolinecolor\": \"white\"}, \"yaxis\": {\"backgroundcolor\": \"#E5ECF6\", \"gridcolor\": \"white\", \"gridwidth\": 2, \"linecolor\": \"white\", \"showbackground\": true, \"ticks\": \"\", \"zerolinecolor\": \"white\"}, \"zaxis\": {\"backgroundcolor\": \"#E5ECF6\", \"gridcolor\": \"white\", \"gridwidth\": 2, \"linecolor\": \"white\", \"showbackground\": true, \"ticks\": \"\", \"zerolinecolor\": \"white\"}}, \"shapedefaults\": {\"line\": {\"color\": \"#2a3f5f\"}}, \"ternary\": {\"aaxis\": {\"gridcolor\": \"white\", \"linecolor\": \"white\", \"ticks\": \"\"}, \"baxis\": {\"gridcolor\": \"white\", \"linecolor\": \"white\", \"ticks\": \"\"}, \"bgcolor\": \"#E5ECF6\", \"caxis\": {\"gridcolor\": \"white\", \"linecolor\": \"white\", \"ticks\": \"\"}}, \"title\": {\"x\": 0.05}, \"xaxis\": {\"automargin\": true, \"gridcolor\": \"white\", \"linecolor\": \"white\", \"ticks\": \"\", \"zerolinecolor\": \"white\", \"zerolinewidth\": 2}, \"yaxis\": {\"automargin\": true, \"gridcolor\": \"white\", \"linecolor\": \"white\", \"ticks\": \"\", \"zerolinecolor\": \"white\", \"zerolinewidth\": 2}}}, \"title\": {\"text\": \"Life expectancy in Canada\"}, \"xaxis\": {\"anchor\": \"y\", \"domain\": [0.0, 0.98], \"title\": {\"text\": \"year\"}}, \"yaxis\": {\"anchor\": \"x\", \"domain\": [0.0, 1.0], \"title\": {\"text\": \"lifeExp\"}}},\n",
       "                        {\"responsive\": true}\n",
       "                    ).then(function(){\n",
       "                            \n",
       "var gd = document.getElementById('fc400623-084f-4709-85a6-41d97010a037');\n",
       "var x = new MutationObserver(function (mutations, observer) {{\n",
       "        var display = window.getComputedStyle(gd).display;\n",
       "        if (!display || display === 'none') {{\n",
       "            console.log([gd, 'removed!']);\n",
       "            Plotly.purge(gd);\n",
       "            observer.disconnect();\n",
       "        }}\n",
       "}});\n",
       "\n",
       "// Listen for the removal of the full notebook cells\n",
       "var notebookContainer = gd.closest('#notebook-container');\n",
       "if (notebookContainer) {{\n",
       "    x.observe(notebookContainer, {childList: true});\n",
       "}}\n",
       "\n",
       "// Listen for the clearing of the current output cell\n",
       "var outputEl = gd.closest('.output');\n",
       "if (outputEl) {{\n",
       "    x.observe(outputEl, {childList: true});\n",
       "}}\n",
       "\n",
       "                        })\n",
       "                };\n",
       "                });\n",
       "            </script>\n",
       "        </div>"
      ]
     },
     "metadata": {},
     "output_type": "display_data"
    }
   ],
   "source": [
    "!pip install dash\n",
    "import plotly.express as px\n",
    "import plotly.graph_objects as go\n",
    "import numpy as np\n",
    "\n",
    "gapminder = px.data.gapminder().query(\"country=='Canada'\")\n",
    "fig = px.line(gapminder, x=\"year\", y=\"lifeExp\", title='Life expectancy in Canada')\n",
    "fig.show()"
   ]
  },
  {
   "cell_type": "code",
   "execution_count": 8,
   "metadata": {},
   "outputs": [
    {
     "data": {
      "application/vnd.plotly.v1+json": {
       "config": {
        "plotlyServerURL": "https://plot.ly"
       },
       "data": [
        {
         "connectgaps": true,
         "line": {
          "color": "rgb(67,67,67)",
          "width": 2
         },
         "mode": "lines",
         "name": "Television",
         "type": "scatter",
         "x": [
          2001,
          2002,
          2003,
          2004,
          2005,
          2006,
          2007,
          2008,
          2009,
          2010,
          2011,
          2012,
          2013
         ],
         "y": [
          74,
          82,
          80,
          74,
          73,
          72,
          74,
          70,
          70,
          66,
          66,
          69
         ]
        },
        {
         "marker": {
          "color": "rgb(67,67,67)",
          "size": 8
         },
         "mode": "markers",
         "type": "scatter",
         "x": [
          2001,
          2013
         ],
         "y": [
          74,
          69
         ]
        },
        {
         "connectgaps": true,
         "line": {
          "color": "rgb(115,115,115)",
          "width": 2
         },
         "mode": "lines",
         "name": "Newspaper",
         "type": "scatter",
         "x": [
          2001,
          2002,
          2003,
          2004,
          2005,
          2006,
          2007,
          2008,
          2009,
          2010,
          2011,
          2012,
          2013
         ],
         "y": [
          45,
          42,
          50,
          46,
          36,
          36,
          34,
          35,
          32,
          31,
          31,
          28
         ]
        },
        {
         "marker": {
          "color": "rgb(115,115,115)",
          "size": 8
         },
         "mode": "markers",
         "type": "scatter",
         "x": [
          2001,
          2013
         ],
         "y": [
          45,
          28
         ]
        },
        {
         "connectgaps": true,
         "line": {
          "color": "rgb(49,130,189)",
          "width": 4
         },
         "mode": "lines",
         "name": "Internet",
         "type": "scatter",
         "x": [
          2001,
          2002,
          2003,
          2004,
          2005,
          2006,
          2007,
          2008,
          2009,
          2010,
          2011,
          2012,
          2013
         ],
         "y": [
          13,
          14,
          20,
          24,
          20,
          24,
          24,
          40,
          35,
          41,
          43,
          50
         ]
        },
        {
         "marker": {
          "color": "rgb(49,130,189)",
          "size": 12
         },
         "mode": "markers",
         "type": "scatter",
         "x": [
          2001,
          2013
         ],
         "y": [
          13,
          50
         ]
        },
        {
         "connectgaps": true,
         "line": {
          "color": "rgb(189,189,189)",
          "width": 2
         },
         "mode": "lines",
         "name": "Radio",
         "type": "scatter",
         "x": [
          2001,
          2002,
          2003,
          2004,
          2005,
          2006,
          2007,
          2008,
          2009,
          2010,
          2011,
          2012,
          2013
         ],
         "y": [
          18,
          21,
          18,
          21,
          16,
          14,
          13,
          18,
          17,
          16,
          19,
          23
         ]
        },
        {
         "marker": {
          "color": "rgb(189,189,189)",
          "size": 8
         },
         "mode": "markers",
         "type": "scatter",
         "x": [
          2001,
          2013
         ],
         "y": [
          18,
          23
         ]
        }
       ],
       "layout": {
        "annotations": [
         {
          "font": {
           "family": "Arial",
           "size": 16
          },
          "showarrow": false,
          "text": "Television 74%",
          "x": 0.05,
          "xanchor": "right",
          "xref": "paper",
          "y": 74,
          "yanchor": "middle"
         },
         {
          "font": {
           "family": "Arial",
           "size": 16
          },
          "showarrow": false,
          "text": "69%",
          "x": 0.95,
          "xanchor": "left",
          "xref": "paper",
          "y": 69,
          "yanchor": "middle"
         },
         {
          "font": {
           "family": "Arial",
           "size": 16
          },
          "showarrow": false,
          "text": "Newspaper 45%",
          "x": 0.05,
          "xanchor": "right",
          "xref": "paper",
          "y": 45,
          "yanchor": "middle"
         },
         {
          "font": {
           "family": "Arial",
           "size": 16
          },
          "showarrow": false,
          "text": "28%",
          "x": 0.95,
          "xanchor": "left",
          "xref": "paper",
          "y": 28,
          "yanchor": "middle"
         },
         {
          "font": {
           "family": "Arial",
           "size": 16
          },
          "showarrow": false,
          "text": "Internet 13%",
          "x": 0.05,
          "xanchor": "right",
          "xref": "paper",
          "y": 13,
          "yanchor": "middle"
         },
         {
          "font": {
           "family": "Arial",
           "size": 16
          },
          "showarrow": false,
          "text": "50%",
          "x": 0.95,
          "xanchor": "left",
          "xref": "paper",
          "y": 50,
          "yanchor": "middle"
         },
         {
          "font": {
           "family": "Arial",
           "size": 16
          },
          "showarrow": false,
          "text": "Radio 18%",
          "x": 0.05,
          "xanchor": "right",
          "xref": "paper",
          "y": 18,
          "yanchor": "middle"
         },
         {
          "font": {
           "family": "Arial",
           "size": 16
          },
          "showarrow": false,
          "text": "23%",
          "x": 0.95,
          "xanchor": "left",
          "xref": "paper",
          "y": 23,
          "yanchor": "middle"
         },
         {
          "font": {
           "color": "rgb(37,37,37)",
           "family": "Arial",
           "size": 30
          },
          "showarrow": false,
          "text": "Main Source for News",
          "x": 0,
          "xanchor": "left",
          "xref": "paper",
          "y": 1.05,
          "yanchor": "bottom",
          "yref": "paper"
         },
         {
          "font": {
           "color": "rgb(150,150,150)",
           "family": "Arial",
           "size": 12
          },
          "showarrow": false,
          "text": "Source: PewResearch Center & Storytelling with data",
          "x": 0.5,
          "xanchor": "center",
          "xref": "paper",
          "y": -0.1,
          "yanchor": "top",
          "yref": "paper"
         }
        ],
        "autosize": false,
        "margin": {
         "autoexpand": false,
         "l": 100,
         "r": 20,
         "t": 110
        },
        "plot_bgcolor": "white",
        "showlegend": false,
        "template": {
         "data": {
          "bar": [
           {
            "error_x": {
             "color": "#2a3f5f"
            },
            "error_y": {
             "color": "#2a3f5f"
            },
            "marker": {
             "line": {
              "color": "#E5ECF6",
              "width": 0.5
             }
            },
            "type": "bar"
           }
          ],
          "barpolar": [
           {
            "marker": {
             "line": {
              "color": "#E5ECF6",
              "width": 0.5
             }
            },
            "type": "barpolar"
           }
          ],
          "carpet": [
           {
            "aaxis": {
             "endlinecolor": "#2a3f5f",
             "gridcolor": "white",
             "linecolor": "white",
             "minorgridcolor": "white",
             "startlinecolor": "#2a3f5f"
            },
            "baxis": {
             "endlinecolor": "#2a3f5f",
             "gridcolor": "white",
             "linecolor": "white",
             "minorgridcolor": "white",
             "startlinecolor": "#2a3f5f"
            },
            "type": "carpet"
           }
          ],
          "choropleth": [
           {
            "colorbar": {
             "outlinewidth": 0,
             "ticks": ""
            },
            "type": "choropleth"
           }
          ],
          "contour": [
           {
            "colorbar": {
             "outlinewidth": 0,
             "ticks": ""
            },
            "colorscale": [
             [
              0,
              "#0d0887"
             ],
             [
              0.1111111111111111,
              "#46039f"
             ],
             [
              0.2222222222222222,
              "#7201a8"
             ],
             [
              0.3333333333333333,
              "#9c179e"
             ],
             [
              0.4444444444444444,
              "#bd3786"
             ],
             [
              0.5555555555555556,
              "#d8576b"
             ],
             [
              0.6666666666666666,
              "#ed7953"
             ],
             [
              0.7777777777777778,
              "#fb9f3a"
             ],
             [
              0.8888888888888888,
              "#fdca26"
             ],
             [
              1,
              "#f0f921"
             ]
            ],
            "type": "contour"
           }
          ],
          "contourcarpet": [
           {
            "colorbar": {
             "outlinewidth": 0,
             "ticks": ""
            },
            "type": "contourcarpet"
           }
          ],
          "heatmap": [
           {
            "colorbar": {
             "outlinewidth": 0,
             "ticks": ""
            },
            "colorscale": [
             [
              0,
              "#0d0887"
             ],
             [
              0.1111111111111111,
              "#46039f"
             ],
             [
              0.2222222222222222,
              "#7201a8"
             ],
             [
              0.3333333333333333,
              "#9c179e"
             ],
             [
              0.4444444444444444,
              "#bd3786"
             ],
             [
              0.5555555555555556,
              "#d8576b"
             ],
             [
              0.6666666666666666,
              "#ed7953"
             ],
             [
              0.7777777777777778,
              "#fb9f3a"
             ],
             [
              0.8888888888888888,
              "#fdca26"
             ],
             [
              1,
              "#f0f921"
             ]
            ],
            "type": "heatmap"
           }
          ],
          "heatmapgl": [
           {
            "colorbar": {
             "outlinewidth": 0,
             "ticks": ""
            },
            "colorscale": [
             [
              0,
              "#0d0887"
             ],
             [
              0.1111111111111111,
              "#46039f"
             ],
             [
              0.2222222222222222,
              "#7201a8"
             ],
             [
              0.3333333333333333,
              "#9c179e"
             ],
             [
              0.4444444444444444,
              "#bd3786"
             ],
             [
              0.5555555555555556,
              "#d8576b"
             ],
             [
              0.6666666666666666,
              "#ed7953"
             ],
             [
              0.7777777777777778,
              "#fb9f3a"
             ],
             [
              0.8888888888888888,
              "#fdca26"
             ],
             [
              1,
              "#f0f921"
             ]
            ],
            "type": "heatmapgl"
           }
          ],
          "histogram": [
           {
            "marker": {
             "colorbar": {
              "outlinewidth": 0,
              "ticks": ""
             }
            },
            "type": "histogram"
           }
          ],
          "histogram2d": [
           {
            "colorbar": {
             "outlinewidth": 0,
             "ticks": ""
            },
            "colorscale": [
             [
              0,
              "#0d0887"
             ],
             [
              0.1111111111111111,
              "#46039f"
             ],
             [
              0.2222222222222222,
              "#7201a8"
             ],
             [
              0.3333333333333333,
              "#9c179e"
             ],
             [
              0.4444444444444444,
              "#bd3786"
             ],
             [
              0.5555555555555556,
              "#d8576b"
             ],
             [
              0.6666666666666666,
              "#ed7953"
             ],
             [
              0.7777777777777778,
              "#fb9f3a"
             ],
             [
              0.8888888888888888,
              "#fdca26"
             ],
             [
              1,
              "#f0f921"
             ]
            ],
            "type": "histogram2d"
           }
          ],
          "histogram2dcontour": [
           {
            "colorbar": {
             "outlinewidth": 0,
             "ticks": ""
            },
            "colorscale": [
             [
              0,
              "#0d0887"
             ],
             [
              0.1111111111111111,
              "#46039f"
             ],
             [
              0.2222222222222222,
              "#7201a8"
             ],
             [
              0.3333333333333333,
              "#9c179e"
             ],
             [
              0.4444444444444444,
              "#bd3786"
             ],
             [
              0.5555555555555556,
              "#d8576b"
             ],
             [
              0.6666666666666666,
              "#ed7953"
             ],
             [
              0.7777777777777778,
              "#fb9f3a"
             ],
             [
              0.8888888888888888,
              "#fdca26"
             ],
             [
              1,
              "#f0f921"
             ]
            ],
            "type": "histogram2dcontour"
           }
          ],
          "mesh3d": [
           {
            "colorbar": {
             "outlinewidth": 0,
             "ticks": ""
            },
            "type": "mesh3d"
           }
          ],
          "parcoords": [
           {
            "line": {
             "colorbar": {
              "outlinewidth": 0,
              "ticks": ""
             }
            },
            "type": "parcoords"
           }
          ],
          "scatter": [
           {
            "marker": {
             "colorbar": {
              "outlinewidth": 0,
              "ticks": ""
             }
            },
            "type": "scatter"
           }
          ],
          "scatter3d": [
           {
            "line": {
             "colorbar": {
              "outlinewidth": 0,
              "ticks": ""
             }
            },
            "marker": {
             "colorbar": {
              "outlinewidth": 0,
              "ticks": ""
             }
            },
            "type": "scatter3d"
           }
          ],
          "scattercarpet": [
           {
            "marker": {
             "colorbar": {
              "outlinewidth": 0,
              "ticks": ""
             }
            },
            "type": "scattercarpet"
           }
          ],
          "scattergeo": [
           {
            "marker": {
             "colorbar": {
              "outlinewidth": 0,
              "ticks": ""
             }
            },
            "type": "scattergeo"
           }
          ],
          "scattergl": [
           {
            "marker": {
             "colorbar": {
              "outlinewidth": 0,
              "ticks": ""
             }
            },
            "type": "scattergl"
           }
          ],
          "scattermapbox": [
           {
            "marker": {
             "colorbar": {
              "outlinewidth": 0,
              "ticks": ""
             }
            },
            "type": "scattermapbox"
           }
          ],
          "scatterpolar": [
           {
            "marker": {
             "colorbar": {
              "outlinewidth": 0,
              "ticks": ""
             }
            },
            "type": "scatterpolar"
           }
          ],
          "scatterpolargl": [
           {
            "marker": {
             "colorbar": {
              "outlinewidth": 0,
              "ticks": ""
             }
            },
            "type": "scatterpolargl"
           }
          ],
          "scatterternary": [
           {
            "marker": {
             "colorbar": {
              "outlinewidth": 0,
              "ticks": ""
             }
            },
            "type": "scatterternary"
           }
          ],
          "surface": [
           {
            "colorbar": {
             "outlinewidth": 0,
             "ticks": ""
            },
            "colorscale": [
             [
              0,
              "#0d0887"
             ],
             [
              0.1111111111111111,
              "#46039f"
             ],
             [
              0.2222222222222222,
              "#7201a8"
             ],
             [
              0.3333333333333333,
              "#9c179e"
             ],
             [
              0.4444444444444444,
              "#bd3786"
             ],
             [
              0.5555555555555556,
              "#d8576b"
             ],
             [
              0.6666666666666666,
              "#ed7953"
             ],
             [
              0.7777777777777778,
              "#fb9f3a"
             ],
             [
              0.8888888888888888,
              "#fdca26"
             ],
             [
              1,
              "#f0f921"
             ]
            ],
            "type": "surface"
           }
          ],
          "table": [
           {
            "cells": {
             "fill": {
              "color": "#EBF0F8"
             },
             "line": {
              "color": "white"
             }
            },
            "header": {
             "fill": {
              "color": "#C8D4E3"
             },
             "line": {
              "color": "white"
             }
            },
            "type": "table"
           }
          ]
         },
         "layout": {
          "annotationdefaults": {
           "arrowcolor": "#2a3f5f",
           "arrowhead": 0,
           "arrowwidth": 1
          },
          "colorscale": {
           "diverging": [
            [
             0,
             "#8e0152"
            ],
            [
             0.1,
             "#c51b7d"
            ],
            [
             0.2,
             "#de77ae"
            ],
            [
             0.3,
             "#f1b6da"
            ],
            [
             0.4,
             "#fde0ef"
            ],
            [
             0.5,
             "#f7f7f7"
            ],
            [
             0.6,
             "#e6f5d0"
            ],
            [
             0.7,
             "#b8e186"
            ],
            [
             0.8,
             "#7fbc41"
            ],
            [
             0.9,
             "#4d9221"
            ],
            [
             1,
             "#276419"
            ]
           ],
           "sequential": [
            [
             0,
             "#0d0887"
            ],
            [
             0.1111111111111111,
             "#46039f"
            ],
            [
             0.2222222222222222,
             "#7201a8"
            ],
            [
             0.3333333333333333,
             "#9c179e"
            ],
            [
             0.4444444444444444,
             "#bd3786"
            ],
            [
             0.5555555555555556,
             "#d8576b"
            ],
            [
             0.6666666666666666,
             "#ed7953"
            ],
            [
             0.7777777777777778,
             "#fb9f3a"
            ],
            [
             0.8888888888888888,
             "#fdca26"
            ],
            [
             1,
             "#f0f921"
            ]
           ],
           "sequentialminus": [
            [
             0,
             "#0d0887"
            ],
            [
             0.1111111111111111,
             "#46039f"
            ],
            [
             0.2222222222222222,
             "#7201a8"
            ],
            [
             0.3333333333333333,
             "#9c179e"
            ],
            [
             0.4444444444444444,
             "#bd3786"
            ],
            [
             0.5555555555555556,
             "#d8576b"
            ],
            [
             0.6666666666666666,
             "#ed7953"
            ],
            [
             0.7777777777777778,
             "#fb9f3a"
            ],
            [
             0.8888888888888888,
             "#fdca26"
            ],
            [
             1,
             "#f0f921"
            ]
           ]
          },
          "colorway": [
           "#636efa",
           "#EF553B",
           "#00cc96",
           "#ab63fa",
           "#FFA15A",
           "#19d3f3",
           "#FF6692",
           "#B6E880",
           "#FF97FF",
           "#FECB52"
          ],
          "font": {
           "color": "#2a3f5f"
          },
          "geo": {
           "bgcolor": "white",
           "lakecolor": "white",
           "landcolor": "#E5ECF6",
           "showlakes": true,
           "showland": true,
           "subunitcolor": "white"
          },
          "hoverlabel": {
           "align": "left"
          },
          "hovermode": "closest",
          "mapbox": {
           "style": "light"
          },
          "paper_bgcolor": "white",
          "plot_bgcolor": "#E5ECF6",
          "polar": {
           "angularaxis": {
            "gridcolor": "white",
            "linecolor": "white",
            "ticks": ""
           },
           "bgcolor": "#E5ECF6",
           "radialaxis": {
            "gridcolor": "white",
            "linecolor": "white",
            "ticks": ""
           }
          },
          "scene": {
           "xaxis": {
            "backgroundcolor": "#E5ECF6",
            "gridcolor": "white",
            "gridwidth": 2,
            "linecolor": "white",
            "showbackground": true,
            "ticks": "",
            "zerolinecolor": "white"
           },
           "yaxis": {
            "backgroundcolor": "#E5ECF6",
            "gridcolor": "white",
            "gridwidth": 2,
            "linecolor": "white",
            "showbackground": true,
            "ticks": "",
            "zerolinecolor": "white"
           },
           "zaxis": {
            "backgroundcolor": "#E5ECF6",
            "gridcolor": "white",
            "gridwidth": 2,
            "linecolor": "white",
            "showbackground": true,
            "ticks": "",
            "zerolinecolor": "white"
           }
          },
          "shapedefaults": {
           "line": {
            "color": "#2a3f5f"
           }
          },
          "ternary": {
           "aaxis": {
            "gridcolor": "white",
            "linecolor": "white",
            "ticks": ""
           },
           "baxis": {
            "gridcolor": "white",
            "linecolor": "white",
            "ticks": ""
           },
           "bgcolor": "#E5ECF6",
           "caxis": {
            "gridcolor": "white",
            "linecolor": "white",
            "ticks": ""
           }
          },
          "title": {
           "x": 0.05
          },
          "xaxis": {
           "automargin": true,
           "gridcolor": "white",
           "linecolor": "white",
           "ticks": "",
           "zerolinecolor": "white",
           "zerolinewidth": 2
          },
          "yaxis": {
           "automargin": true,
           "gridcolor": "white",
           "linecolor": "white",
           "ticks": "",
           "zerolinecolor": "white",
           "zerolinewidth": 2
          }
         }
        },
        "xaxis": {
         "linecolor": "rgb(204, 204, 204)",
         "linewidth": 2,
         "showgrid": false,
         "showline": true,
         "showticklabels": true,
         "tickfont": {
          "color": "rgb(82, 82, 82)",
          "family": "Arial",
          "size": 12
         },
         "ticks": "outside"
        },
        "yaxis": {
         "showgrid": false,
         "showline": false,
         "showticklabels": false,
         "zeroline": false
        }
       }
      },
      "text/html": [
       "<div>\n",
       "        \n",
       "        \n",
       "            <div id=\"72cf0f68-4dce-4277-ab54-b9292e386512\" class=\"plotly-graph-div\" style=\"height:525px; width:100%;\"></div>\n",
       "            <script type=\"text/javascript\">\n",
       "                require([\"plotly\"], function(Plotly) {\n",
       "                    window.PLOTLYENV=window.PLOTLYENV || {};\n",
       "                    \n",
       "                if (document.getElementById(\"72cf0f68-4dce-4277-ab54-b9292e386512\")) {\n",
       "                    Plotly.newPlot(\n",
       "                        '72cf0f68-4dce-4277-ab54-b9292e386512',\n",
       "                        [{\"connectgaps\": true, \"line\": {\"color\": \"rgb(67,67,67)\", \"width\": 2}, \"mode\": \"lines\", \"name\": \"Television\", \"type\": \"scatter\", \"x\": [2001, 2002, 2003, 2004, 2005, 2006, 2007, 2008, 2009, 2010, 2011, 2012, 2013], \"y\": [74, 82, 80, 74, 73, 72, 74, 70, 70, 66, 66, 69]}, {\"marker\": {\"color\": \"rgb(67,67,67)\", \"size\": 8}, \"mode\": \"markers\", \"type\": \"scatter\", \"x\": [2001, 2013], \"y\": [74, 69]}, {\"connectgaps\": true, \"line\": {\"color\": \"rgb(115,115,115)\", \"width\": 2}, \"mode\": \"lines\", \"name\": \"Newspaper\", \"type\": \"scatter\", \"x\": [2001, 2002, 2003, 2004, 2005, 2006, 2007, 2008, 2009, 2010, 2011, 2012, 2013], \"y\": [45, 42, 50, 46, 36, 36, 34, 35, 32, 31, 31, 28]}, {\"marker\": {\"color\": \"rgb(115,115,115)\", \"size\": 8}, \"mode\": \"markers\", \"type\": \"scatter\", \"x\": [2001, 2013], \"y\": [45, 28]}, {\"connectgaps\": true, \"line\": {\"color\": \"rgb(49,130,189)\", \"width\": 4}, \"mode\": \"lines\", \"name\": \"Internet\", \"type\": \"scatter\", \"x\": [2001, 2002, 2003, 2004, 2005, 2006, 2007, 2008, 2009, 2010, 2011, 2012, 2013], \"y\": [13, 14, 20, 24, 20, 24, 24, 40, 35, 41, 43, 50]}, {\"marker\": {\"color\": \"rgb(49,130,189)\", \"size\": 12}, \"mode\": \"markers\", \"type\": \"scatter\", \"x\": [2001, 2013], \"y\": [13, 50]}, {\"connectgaps\": true, \"line\": {\"color\": \"rgb(189,189,189)\", \"width\": 2}, \"mode\": \"lines\", \"name\": \"Radio\", \"type\": \"scatter\", \"x\": [2001, 2002, 2003, 2004, 2005, 2006, 2007, 2008, 2009, 2010, 2011, 2012, 2013], \"y\": [18, 21, 18, 21, 16, 14, 13, 18, 17, 16, 19, 23]}, {\"marker\": {\"color\": \"rgb(189,189,189)\", \"size\": 8}, \"mode\": \"markers\", \"type\": \"scatter\", \"x\": [2001, 2013], \"y\": [18, 23]}],\n",
       "                        {\"annotations\": [{\"font\": {\"family\": \"Arial\", \"size\": 16}, \"showarrow\": false, \"text\": \"Television 74%\", \"x\": 0.05, \"xanchor\": \"right\", \"xref\": \"paper\", \"y\": 74, \"yanchor\": \"middle\"}, {\"font\": {\"family\": \"Arial\", \"size\": 16}, \"showarrow\": false, \"text\": \"69%\", \"x\": 0.95, \"xanchor\": \"left\", \"xref\": \"paper\", \"y\": 69, \"yanchor\": \"middle\"}, {\"font\": {\"family\": \"Arial\", \"size\": 16}, \"showarrow\": false, \"text\": \"Newspaper 45%\", \"x\": 0.05, \"xanchor\": \"right\", \"xref\": \"paper\", \"y\": 45, \"yanchor\": \"middle\"}, {\"font\": {\"family\": \"Arial\", \"size\": 16}, \"showarrow\": false, \"text\": \"28%\", \"x\": 0.95, \"xanchor\": \"left\", \"xref\": \"paper\", \"y\": 28, \"yanchor\": \"middle\"}, {\"font\": {\"family\": \"Arial\", \"size\": 16}, \"showarrow\": false, \"text\": \"Internet 13%\", \"x\": 0.05, \"xanchor\": \"right\", \"xref\": \"paper\", \"y\": 13, \"yanchor\": \"middle\"}, {\"font\": {\"family\": \"Arial\", \"size\": 16}, \"showarrow\": false, \"text\": \"50%\", \"x\": 0.95, \"xanchor\": \"left\", \"xref\": \"paper\", \"y\": 50, \"yanchor\": \"middle\"}, {\"font\": {\"family\": \"Arial\", \"size\": 16}, \"showarrow\": false, \"text\": \"Radio 18%\", \"x\": 0.05, \"xanchor\": \"right\", \"xref\": \"paper\", \"y\": 18, \"yanchor\": \"middle\"}, {\"font\": {\"family\": \"Arial\", \"size\": 16}, \"showarrow\": false, \"text\": \"23%\", \"x\": 0.95, \"xanchor\": \"left\", \"xref\": \"paper\", \"y\": 23, \"yanchor\": \"middle\"}, {\"font\": {\"color\": \"rgb(37,37,37)\", \"family\": \"Arial\", \"size\": 30}, \"showarrow\": false, \"text\": \"Main Source for News\", \"x\": 0.0, \"xanchor\": \"left\", \"xref\": \"paper\", \"y\": 1.05, \"yanchor\": \"bottom\", \"yref\": \"paper\"}, {\"font\": {\"color\": \"rgb(150,150,150)\", \"family\": \"Arial\", \"size\": 12}, \"showarrow\": false, \"text\": \"Source: PewResearch Center & Storytelling with data\", \"x\": 0.5, \"xanchor\": \"center\", \"xref\": \"paper\", \"y\": -0.1, \"yanchor\": \"top\", \"yref\": \"paper\"}], \"autosize\": false, \"margin\": {\"autoexpand\": false, \"l\": 100, \"r\": 20, \"t\": 110}, \"plot_bgcolor\": \"white\", \"showlegend\": false, \"template\": {\"data\": {\"bar\": [{\"error_x\": {\"color\": \"#2a3f5f\"}, \"error_y\": {\"color\": \"#2a3f5f\"}, \"marker\": {\"line\": {\"color\": \"#E5ECF6\", \"width\": 0.5}}, \"type\": \"bar\"}], \"barpolar\": [{\"marker\": {\"line\": {\"color\": \"#E5ECF6\", \"width\": 0.5}}, \"type\": \"barpolar\"}], \"carpet\": [{\"aaxis\": {\"endlinecolor\": \"#2a3f5f\", \"gridcolor\": \"white\", \"linecolor\": \"white\", \"minorgridcolor\": \"white\", \"startlinecolor\": \"#2a3f5f\"}, \"baxis\": {\"endlinecolor\": \"#2a3f5f\", \"gridcolor\": \"white\", \"linecolor\": \"white\", \"minorgridcolor\": \"white\", \"startlinecolor\": \"#2a3f5f\"}, \"type\": \"carpet\"}], \"choropleth\": [{\"colorbar\": {\"outlinewidth\": 0, \"ticks\": \"\"}, \"type\": \"choropleth\"}], \"contour\": [{\"colorbar\": {\"outlinewidth\": 0, \"ticks\": \"\"}, \"colorscale\": [[0.0, \"#0d0887\"], [0.1111111111111111, \"#46039f\"], [0.2222222222222222, \"#7201a8\"], [0.3333333333333333, \"#9c179e\"], [0.4444444444444444, \"#bd3786\"], [0.5555555555555556, \"#d8576b\"], [0.6666666666666666, \"#ed7953\"], [0.7777777777777778, \"#fb9f3a\"], [0.8888888888888888, \"#fdca26\"], [1.0, \"#f0f921\"]], \"type\": \"contour\"}], \"contourcarpet\": [{\"colorbar\": {\"outlinewidth\": 0, \"ticks\": \"\"}, \"type\": \"contourcarpet\"}], \"heatmap\": [{\"colorbar\": {\"outlinewidth\": 0, \"ticks\": \"\"}, \"colorscale\": [[0.0, \"#0d0887\"], [0.1111111111111111, \"#46039f\"], [0.2222222222222222, \"#7201a8\"], [0.3333333333333333, \"#9c179e\"], [0.4444444444444444, \"#bd3786\"], [0.5555555555555556, \"#d8576b\"], [0.6666666666666666, \"#ed7953\"], [0.7777777777777778, \"#fb9f3a\"], [0.8888888888888888, \"#fdca26\"], [1.0, \"#f0f921\"]], \"type\": \"heatmap\"}], \"heatmapgl\": [{\"colorbar\": {\"outlinewidth\": 0, \"ticks\": \"\"}, \"colorscale\": [[0.0, \"#0d0887\"], [0.1111111111111111, \"#46039f\"], [0.2222222222222222, \"#7201a8\"], [0.3333333333333333, \"#9c179e\"], [0.4444444444444444, \"#bd3786\"], [0.5555555555555556, \"#d8576b\"], [0.6666666666666666, \"#ed7953\"], [0.7777777777777778, \"#fb9f3a\"], [0.8888888888888888, \"#fdca26\"], [1.0, \"#f0f921\"]], \"type\": \"heatmapgl\"}], \"histogram\": [{\"marker\": {\"colorbar\": {\"outlinewidth\": 0, \"ticks\": \"\"}}, \"type\": \"histogram\"}], \"histogram2d\": [{\"colorbar\": {\"outlinewidth\": 0, \"ticks\": \"\"}, \"colorscale\": [[0.0, \"#0d0887\"], [0.1111111111111111, \"#46039f\"], [0.2222222222222222, \"#7201a8\"], [0.3333333333333333, \"#9c179e\"], [0.4444444444444444, \"#bd3786\"], [0.5555555555555556, \"#d8576b\"], [0.6666666666666666, \"#ed7953\"], [0.7777777777777778, \"#fb9f3a\"], [0.8888888888888888, \"#fdca26\"], [1.0, \"#f0f921\"]], \"type\": \"histogram2d\"}], \"histogram2dcontour\": [{\"colorbar\": {\"outlinewidth\": 0, \"ticks\": \"\"}, \"colorscale\": [[0.0, \"#0d0887\"], [0.1111111111111111, \"#46039f\"], [0.2222222222222222, \"#7201a8\"], [0.3333333333333333, \"#9c179e\"], [0.4444444444444444, \"#bd3786\"], [0.5555555555555556, \"#d8576b\"], [0.6666666666666666, \"#ed7953\"], [0.7777777777777778, \"#fb9f3a\"], [0.8888888888888888, \"#fdca26\"], [1.0, \"#f0f921\"]], \"type\": \"histogram2dcontour\"}], \"mesh3d\": [{\"colorbar\": {\"outlinewidth\": 0, \"ticks\": \"\"}, \"type\": \"mesh3d\"}], \"parcoords\": [{\"line\": {\"colorbar\": {\"outlinewidth\": 0, \"ticks\": \"\"}}, \"type\": \"parcoords\"}], \"scatter\": [{\"marker\": {\"colorbar\": {\"outlinewidth\": 0, \"ticks\": \"\"}}, \"type\": \"scatter\"}], \"scatter3d\": [{\"line\": {\"colorbar\": {\"outlinewidth\": 0, \"ticks\": \"\"}}, \"marker\": {\"colorbar\": {\"outlinewidth\": 0, \"ticks\": \"\"}}, \"type\": \"scatter3d\"}], \"scattercarpet\": [{\"marker\": {\"colorbar\": {\"outlinewidth\": 0, \"ticks\": \"\"}}, \"type\": \"scattercarpet\"}], \"scattergeo\": [{\"marker\": {\"colorbar\": {\"outlinewidth\": 0, \"ticks\": \"\"}}, \"type\": \"scattergeo\"}], \"scattergl\": [{\"marker\": {\"colorbar\": {\"outlinewidth\": 0, \"ticks\": \"\"}}, \"type\": \"scattergl\"}], \"scattermapbox\": [{\"marker\": {\"colorbar\": {\"outlinewidth\": 0, \"ticks\": \"\"}}, \"type\": \"scattermapbox\"}], \"scatterpolar\": [{\"marker\": {\"colorbar\": {\"outlinewidth\": 0, \"ticks\": \"\"}}, \"type\": \"scatterpolar\"}], \"scatterpolargl\": [{\"marker\": {\"colorbar\": {\"outlinewidth\": 0, \"ticks\": \"\"}}, \"type\": \"scatterpolargl\"}], \"scatterternary\": [{\"marker\": {\"colorbar\": {\"outlinewidth\": 0, \"ticks\": \"\"}}, \"type\": \"scatterternary\"}], \"surface\": [{\"colorbar\": {\"outlinewidth\": 0, \"ticks\": \"\"}, \"colorscale\": [[0.0, \"#0d0887\"], [0.1111111111111111, \"#46039f\"], [0.2222222222222222, \"#7201a8\"], [0.3333333333333333, \"#9c179e\"], [0.4444444444444444, \"#bd3786\"], [0.5555555555555556, \"#d8576b\"], [0.6666666666666666, \"#ed7953\"], [0.7777777777777778, \"#fb9f3a\"], [0.8888888888888888, \"#fdca26\"], [1.0, \"#f0f921\"]], \"type\": \"surface\"}], \"table\": [{\"cells\": {\"fill\": {\"color\": \"#EBF0F8\"}, \"line\": {\"color\": \"white\"}}, \"header\": {\"fill\": {\"color\": \"#C8D4E3\"}, \"line\": {\"color\": \"white\"}}, \"type\": \"table\"}]}, \"layout\": {\"annotationdefaults\": {\"arrowcolor\": \"#2a3f5f\", \"arrowhead\": 0, \"arrowwidth\": 1}, \"colorscale\": {\"diverging\": [[0, \"#8e0152\"], [0.1, \"#c51b7d\"], [0.2, \"#de77ae\"], [0.3, \"#f1b6da\"], [0.4, \"#fde0ef\"], [0.5, \"#f7f7f7\"], [0.6, \"#e6f5d0\"], [0.7, \"#b8e186\"], [0.8, \"#7fbc41\"], [0.9, \"#4d9221\"], [1, \"#276419\"]], \"sequential\": [[0.0, \"#0d0887\"], [0.1111111111111111, \"#46039f\"], [0.2222222222222222, \"#7201a8\"], [0.3333333333333333, \"#9c179e\"], [0.4444444444444444, \"#bd3786\"], [0.5555555555555556, \"#d8576b\"], [0.6666666666666666, \"#ed7953\"], [0.7777777777777778, \"#fb9f3a\"], [0.8888888888888888, \"#fdca26\"], [1.0, \"#f0f921\"]], \"sequentialminus\": [[0.0, \"#0d0887\"], [0.1111111111111111, \"#46039f\"], [0.2222222222222222, \"#7201a8\"], [0.3333333333333333, \"#9c179e\"], [0.4444444444444444, \"#bd3786\"], [0.5555555555555556, \"#d8576b\"], [0.6666666666666666, \"#ed7953\"], [0.7777777777777778, \"#fb9f3a\"], [0.8888888888888888, \"#fdca26\"], [1.0, \"#f0f921\"]]}, \"colorway\": [\"#636efa\", \"#EF553B\", \"#00cc96\", \"#ab63fa\", \"#FFA15A\", \"#19d3f3\", \"#FF6692\", \"#B6E880\", \"#FF97FF\", \"#FECB52\"], \"font\": {\"color\": \"#2a3f5f\"}, \"geo\": {\"bgcolor\": \"white\", \"lakecolor\": \"white\", \"landcolor\": \"#E5ECF6\", \"showlakes\": true, \"showland\": true, \"subunitcolor\": \"white\"}, \"hoverlabel\": {\"align\": \"left\"}, \"hovermode\": \"closest\", \"mapbox\": {\"style\": \"light\"}, \"paper_bgcolor\": \"white\", \"plot_bgcolor\": \"#E5ECF6\", \"polar\": {\"angularaxis\": {\"gridcolor\": \"white\", \"linecolor\": \"white\", \"ticks\": \"\"}, \"bgcolor\": \"#E5ECF6\", \"radialaxis\": {\"gridcolor\": \"white\", \"linecolor\": \"white\", \"ticks\": \"\"}}, \"scene\": {\"xaxis\": {\"backgroundcolor\": \"#E5ECF6\", \"gridcolor\": \"white\", \"gridwidth\": 2, \"linecolor\": \"white\", \"showbackground\": true, \"ticks\": \"\", \"zerolinecolor\": \"white\"}, \"yaxis\": {\"backgroundcolor\": \"#E5ECF6\", \"gridcolor\": \"white\", \"gridwidth\": 2, \"linecolor\": \"white\", \"showbackground\": true, \"ticks\": \"\", \"zerolinecolor\": \"white\"}, \"zaxis\": {\"backgroundcolor\": \"#E5ECF6\", \"gridcolor\": \"white\", \"gridwidth\": 2, \"linecolor\": \"white\", \"showbackground\": true, \"ticks\": \"\", \"zerolinecolor\": \"white\"}}, \"shapedefaults\": {\"line\": {\"color\": \"#2a3f5f\"}}, \"ternary\": {\"aaxis\": {\"gridcolor\": \"white\", \"linecolor\": \"white\", \"ticks\": \"\"}, \"baxis\": {\"gridcolor\": \"white\", \"linecolor\": \"white\", \"ticks\": \"\"}, \"bgcolor\": \"#E5ECF6\", \"caxis\": {\"gridcolor\": \"white\", \"linecolor\": \"white\", \"ticks\": \"\"}}, \"title\": {\"x\": 0.05}, \"xaxis\": {\"automargin\": true, \"gridcolor\": \"white\", \"linecolor\": \"white\", \"ticks\": \"\", \"zerolinecolor\": \"white\", \"zerolinewidth\": 2}, \"yaxis\": {\"automargin\": true, \"gridcolor\": \"white\", \"linecolor\": \"white\", \"ticks\": \"\", \"zerolinecolor\": \"white\", \"zerolinewidth\": 2}}}, \"xaxis\": {\"linecolor\": \"rgb(204, 204, 204)\", \"linewidth\": 2, \"showgrid\": false, \"showline\": true, \"showticklabels\": true, \"tickfont\": {\"color\": \"rgb(82, 82, 82)\", \"family\": \"Arial\", \"size\": 12}, \"ticks\": \"outside\"}, \"yaxis\": {\"showgrid\": false, \"showline\": false, \"showticklabels\": false, \"zeroline\": false}},\n",
       "                        {\"responsive\": true}\n",
       "                    ).then(function(){\n",
       "                            \n",
       "var gd = document.getElementById('72cf0f68-4dce-4277-ab54-b9292e386512');\n",
       "var x = new MutationObserver(function (mutations, observer) {{\n",
       "        var display = window.getComputedStyle(gd).display;\n",
       "        if (!display || display === 'none') {{\n",
       "            console.log([gd, 'removed!']);\n",
       "            Plotly.purge(gd);\n",
       "            observer.disconnect();\n",
       "        }}\n",
       "}});\n",
       "\n",
       "// Listen for the removal of the full notebook cells\n",
       "var notebookContainer = gd.closest('#notebook-container');\n",
       "if (notebookContainer) {{\n",
       "    x.observe(notebookContainer, {childList: true});\n",
       "}}\n",
       "\n",
       "// Listen for the clearing of the current output cell\n",
       "var outputEl = gd.closest('.output');\n",
       "if (outputEl) {{\n",
       "    x.observe(outputEl, {childList: true});\n",
       "}}\n",
       "\n",
       "                        })\n",
       "                };\n",
       "                });\n",
       "            </script>\n",
       "        </div>"
      ]
     },
     "metadata": {},
     "output_type": "display_data"
    }
   ],
   "source": [
    "title = 'Main Source for News'\n",
    "labels = ['Television', 'Newspaper', 'Internet', 'Radio']\n",
    "colors = ['rgb(67,67,67)', 'rgb(115,115,115)', 'rgb(49,130,189)', 'rgb(189,189,189)']\n",
    "\n",
    "mode_size = [8, 8, 12, 8]\n",
    "line_size = [2, 2, 4, 2]\n",
    "\n",
    "x_data = np.vstack((np.arange(2001, 2014),)*4)\n",
    "\n",
    "y_data = np.array([\n",
    "    [74, 82, 80, 74, 73, 72, 74, 70, 70, 66, 66, 69],\n",
    "    [45, 42, 50, 46, 36, 36, 34, 35, 32, 31, 31, 28],\n",
    "    [13, 14, 20, 24, 20, 24, 24, 40, 35, 41, 43, 50],\n",
    "    [18, 21, 18, 21, 16, 14, 13, 18, 17, 16, 19, 23],\n",
    "])\n",
    "\n",
    "fig = go.Figure()\n",
    "\n",
    "for i in range(0, 4):\n",
    "    fig.add_trace(go.Scatter(x=x_data[i], y=y_data[i], mode='lines',\n",
    "        name=labels[i],\n",
    "        line=dict(color=colors[i], width=line_size[i]),\n",
    "        connectgaps=True,\n",
    "    ))\n",
    "\n",
    "    # endpoints\n",
    "    fig.add_trace(go.Scatter(\n",
    "        x=[x_data[i][0], x_data[i][-1]],\n",
    "        y=[y_data[i][0], y_data[i][-1]],\n",
    "        mode='markers',\n",
    "        marker=dict(color=colors[i], size=mode_size[i])\n",
    "    ))\n",
    "\n",
    "fig.update_layout(\n",
    "    xaxis=dict(\n",
    "        showline=True,\n",
    "        showgrid=False,\n",
    "        showticklabels=True,\n",
    "        linecolor='rgb(204, 204, 204)',\n",
    "        linewidth=2,\n",
    "        ticks='outside',\n",
    "        tickfont=dict(\n",
    "            family='Arial',\n",
    "            size=12,\n",
    "            color='rgb(82, 82, 82)',\n",
    "        ),\n",
    "    ),\n",
    "    yaxis=dict(\n",
    "        showgrid=False,\n",
    "        zeroline=False,\n",
    "        showline=False,\n",
    "        showticklabels=False,\n",
    "    ),\n",
    "    autosize=False,\n",
    "    margin=dict(\n",
    "        autoexpand=False,\n",
    "        l=100,\n",
    "        r=20,\n",
    "        t=110,\n",
    "    ),\n",
    "    showlegend=False,\n",
    "    plot_bgcolor='white'\n",
    ")\n",
    "\n",
    "annotations = []\n",
    "\n",
    "# Adding labels\n",
    "for y_trace, label, color in zip(y_data, labels, colors):\n",
    "    # labeling the left_side of the plot\n",
    "    annotations.append(dict(xref='paper', x=0.05, y=y_trace[0],\n",
    "                                  xanchor='right', yanchor='middle',\n",
    "                                  text=label + ' {}%'.format(y_trace[0]),\n",
    "                                  font=dict(family='Arial',\n",
    "                                            size=16),\n",
    "                                  showarrow=False))\n",
    "    # labeling the right_side of the plot\n",
    "    annotations.append(dict(xref='paper', x=0.95, y=y_trace[11],\n",
    "                                  xanchor='left', yanchor='middle',\n",
    "                                  text='{}%'.format(y_trace[11]),\n",
    "                                  font=dict(family='Arial',\n",
    "                                            size=16),\n",
    "                                  showarrow=False))\n",
    "# Title\n",
    "annotations.append(dict(xref='paper', yref='paper', x=0.0, y=1.05,\n",
    "                              xanchor='left', yanchor='bottom',\n",
    "                              text='Main Source for News',\n",
    "                              font=dict(family='Arial',\n",
    "                                        size=30,\n",
    "                                        color='rgb(37,37,37)'),\n",
    "                              showarrow=False))\n",
    "# Source\n",
    "annotations.append(dict(xref='paper', yref='paper', x=0.5, y=-0.1,\n",
    "                              xanchor='center', yanchor='top',\n",
    "                              text='Source: PewResearch Center & ' +\n",
    "                                   'Storytelling with data',\n",
    "                              font=dict(family='Arial',\n",
    "                                        size=12,\n",
    "                                        color='rgb(150,150,150)'),\n",
    "                              showarrow=False))\n",
    "\n",
    "fig.update_layout(annotations=annotations)\n",
    "\n",
    "fig.show()"
   ]
  },
  {
   "cell_type": "code",
   "execution_count": 16,
   "metadata": {},
   "outputs": [
    {
     "data": {
      "application/vnd.plotly.v1+json": {
       "config": {
        "plotlyServerURL": "https://plot.ly"
       },
       "data": [
        {
         "mode": "lines",
         "name": "mining revenue",
         "type": "scatter",
         "x": [
          "2017-04-29",
          "2017-04-30",
          "2017-05-01",
          "2017-05-02",
          "2017-05-03",
          "2017-05-04",
          "2017-05-05",
          "2017-05-06",
          "2017-05-07",
          "2017-05-08",
          "2017-05-09",
          "2017-05-10",
          "2017-05-11",
          "2017-05-12",
          "2017-05-13",
          "2017-05-14",
          "2017-05-15",
          "2017-05-16",
          "2017-05-17",
          "2017-05-18",
          "2017-05-19",
          "2017-05-20",
          "2017-05-21",
          "2017-05-22",
          "2017-05-23",
          "2017-05-24",
          "2017-05-25",
          "2017-05-26",
          "2017-05-27",
          "2017-05-28",
          "2017-05-29",
          "2017-05-30",
          "2017-05-31",
          "2017-06-01",
          "2017-06-02",
          "2017-06-03",
          "2017-06-04",
          "2017-06-05",
          "2017-06-06",
          "2017-06-07",
          "2017-06-08",
          "2017-06-09",
          "2017-06-10",
          "2017-06-11",
          "2017-06-12",
          "2017-06-13",
          "2017-06-14",
          "2017-06-15",
          "2017-06-16",
          "2017-06-17",
          "2017-06-18",
          "2017-06-19",
          "2017-06-20",
          "2017-06-21",
          "2017-06-22",
          "2017-06-23",
          "2017-06-24",
          "2017-06-25",
          "2017-06-26",
          "2017-06-27",
          "2017-06-28",
          "2017-06-29",
          "2017-06-30",
          "2017-07-01",
          "2017-07-02",
          "2017-07-03",
          "2017-07-04",
          "2017-07-05",
          "2017-07-06",
          "2017-07-07",
          "2017-07-08",
          "2017-07-09",
          "2017-07-10",
          "2017-07-11",
          "2017-07-12",
          "2017-07-13",
          "2017-07-14",
          "2017-07-15",
          "2017-07-16",
          "2017-07-17",
          "2017-07-18",
          "2017-07-19",
          "2017-07-20",
          "2017-07-21",
          "2017-07-22",
          "2017-07-23",
          "2017-07-24",
          "2017-07-25",
          "2017-07-26",
          "2017-07-27",
          "2017-07-28",
          "2017-07-29",
          "2017-07-30",
          "2017-07-31",
          "2017-08-01",
          "2017-08-02",
          "2017-08-03",
          "2017-08-04",
          "2017-08-05",
          "2017-08-06",
          "2017-08-07",
          "2017-08-08",
          "2017-08-09",
          "2017-08-10",
          "2017-08-11",
          "2017-08-12",
          "2017-08-13",
          "2017-08-14",
          "2017-08-15",
          "2017-08-16",
          "2017-08-17",
          "2017-08-18",
          "2017-08-19",
          "2017-08-20",
          "2017-08-21",
          "2017-08-22",
          "2017-08-23",
          "2017-08-24",
          "2017-08-25",
          "2017-08-26",
          "2017-08-27",
          "2017-08-28",
          "2017-08-29",
          "2017-08-30",
          "2017-08-31",
          "2017-09-01",
          "2017-09-02",
          "2017-09-03",
          "2017-09-04",
          "2017-09-05",
          "2017-09-06",
          "2017-09-07",
          "2017-09-08",
          "2017-09-09",
          "2017-09-10",
          "2017-09-11",
          "2017-09-12",
          "2017-09-13",
          "2017-09-14",
          "2017-09-15",
          "2017-09-16",
          "2017-09-17",
          "2017-09-18",
          "2017-09-19",
          "2017-09-20",
          "2017-09-21",
          "2017-09-22",
          "2017-09-23",
          "2017-09-24",
          "2017-09-25",
          "2017-09-26",
          "2017-09-27",
          "2017-09-28",
          "2017-09-29",
          "2017-09-30",
          "2017-10-01",
          "2017-10-02",
          "2017-10-03",
          "2017-10-04",
          "2017-10-05",
          "2017-10-06",
          "2017-10-07",
          "2017-10-08",
          "2017-10-09",
          "2017-10-10",
          "2017-10-11",
          "2017-10-12",
          "2017-10-13",
          "2017-10-14",
          "2017-10-15",
          "2017-10-16",
          "2017-10-17",
          "2017-10-18",
          "2017-10-19",
          "2017-10-20",
          "2017-10-21",
          "2017-10-22",
          "2017-10-23",
          "2017-10-24"
         ],
         "xaxis": "x2",
         "y": [
          3119179,
          2720216,
          2878278,
          3149553,
          2760373,
          3500746,
          2779170,
          3610789,
          3505620,
          4062173,
          3715394,
          3665041,
          3468077,
          3731718,
          3885821,
          4018028,
          4090703,
          3356332,
          4241264,
          3986175,
          4746880,
          4862317,
          4331490,
          4499105,
          5668946,
          5524488,
          5871334,
          5119620,
          5121737,
          5262057,
          5260814,
          6132064,
          5808558,
          6245229,
          5437775,
          7190853,
          5967105,
          6586584,
          6705146,
          7060708,
          6905690,
          6408509,
          5916953,
          6255384,
          5779114,
          5967684,
          5217093,
          5540766,
          5304594,
          5461151,
          5066180,
          5761788,
          5639440,
          5729388,
          5791396,
          6125532,
          5333680,
          4323782,
          5067818,
          4893545,
          5859694,
          4529058,
          5463199,
          5415823,
          6165437,
          5975339,
          5536125,
          5284211,
          5092047,
          5027244,
          5589288,
          4618491,
          6117733,
          5418690,
          5595773,
          4943868,
          4133223,
          3915180,
          4114452,
          4307538,
          5135591,
          4503487,
          6303560,
          5613835,
          5890365,
          5998935,
          6381473,
          4978580,
          4829128,
          5348203,
          5563273,
          5536230,
          5226926,
          5550845,
          5102353,
          5295684,
          5009853,
          6553817,
          7255240,
          5802572,
          6700312,
          7395324,
          6117049,
          6163928,
          7130611,
          7067967,
          8147957,
          7782196,
          9146734,
          8320553,
          10849951,
          8775120,
          8768358,
          7392849,
          6787387,
          5749752,
          10230715,
          6929316,
          7153228,
          7319122,
          9642616,
          8451776,
          10384095,
          11046351,
          11260487,
          12131998,
          10374578,
          9700710,
          10527922,
          11928774,
          10290919,
          11050159,
          10028960,
          9554034,
          7845878,
          9592187,
          10193192,
          9617967,
          7489085,
          8227898,
          8161423,
          8368700,
          6960685,
          8091884,
          6147322,
          8287404,
          6520223,
          7983282,
          6815446,
          6522957,
          7065925,
          8033184,
          9528010,
          9047637,
          7690943,
          7369622,
          8729899,
          10134350,
          7436308,
          7204664,
          8954116,
          8787393,
          10645076,
          9983564,
          10009312,
          8773874,
          10754101,
          10610179,
          11022592,
          14217107,
          13050105,
          12204887,
          11106218,
          13368297,
          13875337,
          12037733,
          14108349,
          13224118,
          12165126
         ],
         "yaxis": "y2"
        },
        {
         "mode": "lines",
         "name": "hash-rate-TH/s",
         "type": "scatter",
         "x": [
          "2017-04-29",
          "2017-04-30",
          "2017-05-01",
          "2017-05-02",
          "2017-05-03",
          "2017-05-04",
          "2017-05-05",
          "2017-05-06",
          "2017-05-07",
          "2017-05-08",
          "2017-05-09",
          "2017-05-10",
          "2017-05-11",
          "2017-05-12",
          "2017-05-13",
          "2017-05-14",
          "2017-05-15",
          "2017-05-16",
          "2017-05-17",
          "2017-05-18",
          "2017-05-19",
          "2017-05-20",
          "2017-05-21",
          "2017-05-22",
          "2017-05-23",
          "2017-05-24",
          "2017-05-25",
          "2017-05-26",
          "2017-05-27",
          "2017-05-28",
          "2017-05-29",
          "2017-05-30",
          "2017-05-31",
          "2017-06-01",
          "2017-06-02",
          "2017-06-03",
          "2017-06-04",
          "2017-06-05",
          "2017-06-06",
          "2017-06-07",
          "2017-06-08",
          "2017-06-09",
          "2017-06-10",
          "2017-06-11",
          "2017-06-12",
          "2017-06-13",
          "2017-06-14",
          "2017-06-15",
          "2017-06-16",
          "2017-06-17",
          "2017-06-18",
          "2017-06-19",
          "2017-06-20",
          "2017-06-21",
          "2017-06-22",
          "2017-06-23",
          "2017-06-24",
          "2017-06-25",
          "2017-06-26",
          "2017-06-27",
          "2017-06-28",
          "2017-06-29",
          "2017-06-30",
          "2017-07-01",
          "2017-07-02",
          "2017-07-03",
          "2017-07-04",
          "2017-07-05",
          "2017-07-06",
          "2017-07-07",
          "2017-07-08",
          "2017-07-09",
          "2017-07-10",
          "2017-07-11",
          "2017-07-12",
          "2017-07-13",
          "2017-07-14",
          "2017-07-15",
          "2017-07-16",
          "2017-07-17",
          "2017-07-18",
          "2017-07-19",
          "2017-07-20",
          "2017-07-21",
          "2017-07-22",
          "2017-07-23",
          "2017-07-24",
          "2017-07-25",
          "2017-07-26",
          "2017-07-27",
          "2017-07-28",
          "2017-07-29",
          "2017-07-30",
          "2017-07-31",
          "2017-08-01",
          "2017-08-02",
          "2017-08-03",
          "2017-08-04",
          "2017-08-05",
          "2017-08-06",
          "2017-08-07",
          "2017-08-08",
          "2017-08-09",
          "2017-08-10",
          "2017-08-11",
          "2017-08-12",
          "2017-08-13",
          "2017-08-14",
          "2017-08-15",
          "2017-08-16",
          "2017-08-17",
          "2017-08-18",
          "2017-08-19",
          "2017-08-20",
          "2017-08-21",
          "2017-08-22",
          "2017-08-23",
          "2017-08-24",
          "2017-08-25",
          "2017-08-26",
          "2017-08-27",
          "2017-08-28",
          "2017-08-29",
          "2017-08-30",
          "2017-08-31",
          "2017-09-01",
          "2017-09-02",
          "2017-09-03",
          "2017-09-04",
          "2017-09-05",
          "2017-09-06",
          "2017-09-07",
          "2017-09-08",
          "2017-09-09",
          "2017-09-10",
          "2017-09-11",
          "2017-09-12",
          "2017-09-13",
          "2017-09-14",
          "2017-09-15",
          "2017-09-16",
          "2017-09-17",
          "2017-09-18",
          "2017-09-19",
          "2017-09-20",
          "2017-09-21",
          "2017-09-22",
          "2017-09-23",
          "2017-09-24",
          "2017-09-25",
          "2017-09-26",
          "2017-09-27",
          "2017-09-28",
          "2017-09-29",
          "2017-09-30",
          "2017-10-01",
          "2017-10-02",
          "2017-10-03",
          "2017-10-04",
          "2017-10-05",
          "2017-10-06",
          "2017-10-07",
          "2017-10-08",
          "2017-10-09",
          "2017-10-10",
          "2017-10-11",
          "2017-10-12",
          "2017-10-13",
          "2017-10-14",
          "2017-10-15",
          "2017-10-16",
          "2017-10-17",
          "2017-10-18",
          "2017-10-19",
          "2017-10-20",
          "2017-10-21",
          "2017-10-22",
          "2017-10-23",
          "2017-10-24"
         ],
         "xaxis": "x",
         "y": [
          4488916,
          3918072,
          3892124,
          4099704,
          3425069,
          4359179,
          3347227,
          4359179,
          4333232,
          4670549,
          4021862,
          4119773,
          3757901,
          4286791,
          4398136,
          4565154,
          4732172,
          3674392,
          4314627,
          3952755,
          4565154,
          4592990,
          4091937,
          4064100,
          4976738,
          4562010,
          4828621,
          4532386,
          4976738,
          4887867,
          4473139,
          5302596,
          4858244,
          5035985,
          4325022,
          5687700,
          5432357,
          5533581,
          5094944,
          5567322,
          5567322,
          5094944,
          4757530,
          4926237,
          4959978,
          4757530,
          4723789,
          5162426,
          4993720,
          5129906,
          5129906,
          5342178,
          4882255,
          4953012,
          4917634,
          5660586,
          5165284,
          4316196,
          5023770,
          4634604,
          5554450,
          4245439,
          5448314,
          5802100,
          6622799,
          5988701,
          5389831,
          5248920,
          5002327,
          5213693,
          5812563,
          4861416,
          6939848,
          6094384,
          6235295,
          5530742,
          5559050,
          5079132,
          6518886,
          5918988,
          6598872,
          5958981,
          6478893,
          6158947,
          6398906,
          6878824,
          7118783,
          5918988,
          5878995,
          6585327,
          6414280,
          6713613,
          6285994,
          6200471,
          6371518,
          6499804,
          5901138,
          7654374,
          7568850,
          5986661,
          6542566,
          7012946,
          6333395,
          6149818,
          6608760,
          6195712,
          6792336,
          5966241,
          6975913,
          5966241,
          8215055,
          6838231,
          6930019,
          5966241,
          5277829,
          4084581,
          7297172,
          4459278,
          4459278,
          4635883,
          6843446,
          5695513,
          6578538,
          7417412,
          7196656,
          7682320,
          7240807,
          6799294,
          7726471,
          8697799,
          7430761,
          8072925,
          8027056,
          7751843,
          6329907,
          7981187,
          8623352,
          8715090,
          7981187,
          8256401,
          7751843,
          8072925,
          6965995,
          8556656,
          6417492,
          9653663,
          7624200,
          9105159,
          7953302,
          6856295,
          7569349,
          8063003,
          9708513,
          9269710,
          7569349,
          7130547,
          8380132,
          10223761,
          7486251,
          6983443,
          8882940,
          8827072,
          10167894,
          8994675,
          8938808,
          7765589,
          8547735,
          7597986,
          7877324,
          11601113,
          10351762,
          9756834,
          8983426,
          10589734,
          10649227,
          9102412,
          10827706,
          10173284,
          9935312
         ],
         "yaxis": "y"
        },
        {
         "cells": {
          "align": "left",
          "values": [
           [
            "2017-04-29",
            "2017-04-30",
            "2017-05-01",
            "2017-05-02",
            "2017-05-03",
            "2017-05-04",
            "2017-05-05",
            "2017-05-06",
            "2017-05-07",
            "2017-05-08",
            "2017-05-09",
            "2017-05-10",
            "2017-05-11",
            "2017-05-12",
            "2017-05-13",
            "2017-05-14",
            "2017-05-15",
            "2017-05-16",
            "2017-05-17",
            "2017-05-18",
            "2017-05-19",
            "2017-05-20",
            "2017-05-21",
            "2017-05-22",
            "2017-05-23",
            "2017-05-24",
            "2017-05-25",
            "2017-05-26",
            "2017-05-27",
            "2017-05-28",
            "2017-05-29",
            "2017-05-30",
            "2017-05-31",
            "2017-06-01",
            "2017-06-02",
            "2017-06-03",
            "2017-06-04",
            "2017-06-05",
            "2017-06-06",
            "2017-06-07",
            "2017-06-08",
            "2017-06-09",
            "2017-06-10",
            "2017-06-11",
            "2017-06-12",
            "2017-06-13",
            "2017-06-14",
            "2017-06-15",
            "2017-06-16",
            "2017-06-17",
            "2017-06-18",
            "2017-06-19",
            "2017-06-20",
            "2017-06-21",
            "2017-06-22",
            "2017-06-23",
            "2017-06-24",
            "2017-06-25",
            "2017-06-26",
            "2017-06-27",
            "2017-06-28",
            "2017-06-29",
            "2017-06-30",
            "2017-07-01",
            "2017-07-02",
            "2017-07-03",
            "2017-07-04",
            "2017-07-05",
            "2017-07-06",
            "2017-07-07",
            "2017-07-08",
            "2017-07-09",
            "2017-07-10",
            "2017-07-11",
            "2017-07-12",
            "2017-07-13",
            "2017-07-14",
            "2017-07-15",
            "2017-07-16",
            "2017-07-17",
            "2017-07-18",
            "2017-07-19",
            "2017-07-20",
            "2017-07-21",
            "2017-07-22",
            "2017-07-23",
            "2017-07-24",
            "2017-07-25",
            "2017-07-26",
            "2017-07-27",
            "2017-07-28",
            "2017-07-29",
            "2017-07-30",
            "2017-07-31",
            "2017-08-01",
            "2017-08-02",
            "2017-08-03",
            "2017-08-04",
            "2017-08-05",
            "2017-08-06",
            "2017-08-07",
            "2017-08-08",
            "2017-08-09",
            "2017-08-10",
            "2017-08-11",
            "2017-08-12",
            "2017-08-13",
            "2017-08-14",
            "2017-08-15",
            "2017-08-16",
            "2017-08-17",
            "2017-08-18",
            "2017-08-19",
            "2017-08-20",
            "2017-08-21",
            "2017-08-22",
            "2017-08-23",
            "2017-08-24",
            "2017-08-25",
            "2017-08-26",
            "2017-08-27",
            "2017-08-28",
            "2017-08-29",
            "2017-08-30",
            "2017-08-31",
            "2017-09-01",
            "2017-09-02",
            "2017-09-03",
            "2017-09-04",
            "2017-09-05",
            "2017-09-06",
            "2017-09-07",
            "2017-09-08",
            "2017-09-09",
            "2017-09-10",
            "2017-09-11",
            "2017-09-12",
            "2017-09-13",
            "2017-09-14",
            "2017-09-15",
            "2017-09-16",
            "2017-09-17",
            "2017-09-18",
            "2017-09-19",
            "2017-09-20",
            "2017-09-21",
            "2017-09-22",
            "2017-09-23",
            "2017-09-24",
            "2017-09-25",
            "2017-09-26",
            "2017-09-27",
            "2017-09-28",
            "2017-09-29",
            "2017-09-30",
            "2017-10-01",
            "2017-10-02",
            "2017-10-03",
            "2017-10-04",
            "2017-10-05",
            "2017-10-06",
            "2017-10-07",
            "2017-10-08",
            "2017-10-09",
            "2017-10-10",
            "2017-10-11",
            "2017-10-12",
            "2017-10-13",
            "2017-10-14",
            "2017-10-15",
            "2017-10-16",
            "2017-10-17",
            "2017-10-18",
            "2017-10-19",
            "2017-10-20",
            "2017-10-21",
            "2017-10-22",
            "2017-10-23",
            "2017-10-24"
           ],
           [
            341319,
            281489,
            294786,
            333161,
            295149,
            354737,
            267193,
            363022,
            316011,
            365096,
            332879,
            311391,
            294743,
            317698,
            329266,
            369098,
            329229,
            233977,
            317527,
            288904,
            319502,
            352805,
            326057,
            327868,
            367710,
            338642,
            350114,
            333340,
            331914,
            308143,
            321638,
            347961,
            321634,
            319709,
            271539,
            305320,
            266044,
            289930,
            297416,
            339720,
            307377,
            282184,
            254993,
            222892,
            269098,
            291776,
            287644,
            293141,
            269937,
            236554,
            209359,
            269774,
            269438,
            280203,
            269685,
            259938,
            227127,
            180719,
            261906,
            259737,
            279811,
            231054,
            267360,
            221856,
            196539,
            253244,
            255483,
            237008,
            225106,
            243614,
            220835,
            188124,
            251722,
            265759,
            257138,
            245895,
            227903,
            221851,
            203165,
            230315,
            260575,
            253768,
            230199,
            268443,
            223358,
            181031,
            240072,
            244036,
            237853,
            225369,
            247207,
            211134,
            184145,
            231012,
            131875,
            209321,
            213017,
            235792,
            239771,
            199627,
            249002,
            275574,
            260955,
            257965,
            284001,
            260521,
            263310,
            255362,
            311002,
            274866,
            347319,
            312250,
            266832,
            210852,
            236772,
            196283,
            315734,
            203805,
            208169,
            226485,
            261891,
            223771,
            281116,
            271466,
            280724,
            283670,
            236811,
            195289,
            269280,
            277948,
            276225,
            256374,
            279488,
            217890,
            193240,
            253492,
            256230,
            263320,
            268068,
            292079,
            228257,
            197683,
            218204,
            282917,
            235723,
            255257,
            227615,
            203861,
            185277,
            226603,
            263648,
            257961,
            275976,
            254438,
            212678,
            203653,
            295002,
            282132,
            232826,
            273243,
            283699,
            231226,
            238385,
            296946,
            303101,
            292459,
            293164,
            309819,
            293140,
            283473,
            314725,
            334438,
            329579,
            356985,
            312409,
            312257,
            289131,
            316096,
            347220
           ],
           [
            4488916,
            3918072,
            3892124,
            4099704,
            3425069,
            4359179,
            3347227,
            4359179,
            4333232,
            4670549,
            4021862,
            4119773,
            3757901,
            4286791,
            4398136,
            4565154,
            4732172,
            3674392,
            4314627,
            3952755,
            4565154,
            4592990,
            4091937,
            4064100,
            4976738,
            4562010,
            4828621,
            4532386,
            4976738,
            4887867,
            4473139,
            5302596,
            4858244,
            5035985,
            4325022,
            5687700,
            5432357,
            5533581,
            5094944,
            5567322,
            5567322,
            5094944,
            4757530,
            4926237,
            4959978,
            4757530,
            4723789,
            5162426,
            4993720,
            5129906,
            5129906,
            5342178,
            4882255,
            4953012,
            4917634,
            5660586,
            5165284,
            4316196,
            5023770,
            4634604,
            5554450,
            4245439,
            5448314,
            5802100,
            6622799,
            5988701,
            5389831,
            5248920,
            5002327,
            5213693,
            5812563,
            4861416,
            6939848,
            6094384,
            6235295,
            5530742,
            5559050,
            5079132,
            6518886,
            5918988,
            6598872,
            5958981,
            6478893,
            6158947,
            6398906,
            6878824,
            7118783,
            5918988,
            5878995,
            6585327,
            6414280,
            6713613,
            6285994,
            6200471,
            6371518,
            6499804,
            5901138,
            7654374,
            7568850,
            5986661,
            6542566,
            7012946,
            6333395,
            6149818,
            6608760,
            6195712,
            6792336,
            5966241,
            6975913,
            5966241,
            8215055,
            6838231,
            6930019,
            5966241,
            5277829,
            4084581,
            7297172,
            4459278,
            4459278,
            4635883,
            6843446,
            5695513,
            6578538,
            7417412,
            7196656,
            7682320,
            7240807,
            6799294,
            7726471,
            8697799,
            7430761,
            8072925,
            8027056,
            7751843,
            6329907,
            7981187,
            8623352,
            8715090,
            7981187,
            8256401,
            7751843,
            8072925,
            6965995,
            8556656,
            6417492,
            9653663,
            7624200,
            9105159,
            7953302,
            6856295,
            7569349,
            8063003,
            9708513,
            9269710,
            7569349,
            7130547,
            8380132,
            10223761,
            7486251,
            6983443,
            8882940,
            8827072,
            10167894,
            8994675,
            8938808,
            7765589,
            8547735,
            7597986,
            7877324,
            11601113,
            10351762,
            9756834,
            8983426,
            10589734,
            10649227,
            9102412,
            10827706,
            10173284,
            9935312
           ],
           [
            3119179,
            2720216,
            2878278,
            3149553,
            2760373,
            3500746,
            2779170,
            3610789,
            3505620,
            4062173,
            3715394,
            3665041,
            3468077,
            3731718,
            3885821,
            4018028,
            4090703,
            3356332,
            4241264,
            3986175,
            4746880,
            4862317,
            4331490,
            4499105,
            5668946,
            5524488,
            5871334,
            5119620,
            5121737,
            5262057,
            5260814,
            6132064,
            5808558,
            6245229,
            5437775,
            7190853,
            5967105,
            6586584,
            6705146,
            7060708,
            6905690,
            6408509,
            5916953,
            6255384,
            5779114,
            5967684,
            5217093,
            5540766,
            5304594,
            5461151,
            5066180,
            5761788,
            5639440,
            5729388,
            5791396,
            6125532,
            5333680,
            4323782,
            5067818,
            4893545,
            5859694,
            4529058,
            5463199,
            5415823,
            6165437,
            5975339,
            5536125,
            5284211,
            5092047,
            5027244,
            5589288,
            4618491,
            6117733,
            5418690,
            5595773,
            4943868,
            4133223,
            3915180,
            4114452,
            4307538,
            5135591,
            4503487,
            6303560,
            5613835,
            5890365,
            5998935,
            6381473,
            4978580,
            4829128,
            5348203,
            5563273,
            5536230,
            5226926,
            5550845,
            5102353,
            5295684,
            5009853,
            6553817,
            7255240,
            5802572,
            6700312,
            7395324,
            6117049,
            6163928,
            7130611,
            7067967,
            8147957,
            7782196,
            9146734,
            8320553,
            10849951,
            8775120,
            8768358,
            7392849,
            6787387,
            5749752,
            10230715,
            6929316,
            7153228,
            7319122,
            9642616,
            8451776,
            10384095,
            11046351,
            11260487,
            12131998,
            10374578,
            9700710,
            10527922,
            11928774,
            10290919,
            11050159,
            10028960,
            9554034,
            7845878,
            9592187,
            10193192,
            9617967,
            7489085,
            8227898,
            8161423,
            8368700,
            6960685,
            8091884,
            6147322,
            8287404,
            6520223,
            7983282,
            6815446,
            6522957,
            7065925,
            8033184,
            9528010,
            9047637,
            7690943,
            7369622,
            8729899,
            10134350,
            7436308,
            7204664,
            8954116,
            8787393,
            10645076,
            9983564,
            10009312,
            8773874,
            10754101,
            10610179,
            11022592,
            14217107,
            13050105,
            12204887,
            11106218,
            13368297,
            13875337,
            12037733,
            14108349,
            13224118,
            12165126
           ],
           [
            4488916,
            3918072,
            3892124,
            4099704,
            3425069,
            4359179,
            3347227,
            4359179,
            4333232,
            4670549,
            4021862,
            4119773,
            3757901,
            4286791,
            4398136,
            4565154,
            4732172,
            3674392,
            4314627,
            3952755,
            4565154,
            4592990,
            4091937,
            4064100,
            4976738,
            4562010,
            4828621,
            4532386,
            4976738,
            4887867,
            4473139,
            5302596,
            4858244,
            5035985,
            4325022,
            5687700,
            5432357,
            5533581,
            5094944,
            5567322,
            5567322,
            5094944,
            4757530,
            4926237,
            4959978,
            4757530,
            4723789,
            5162426,
            4993720,
            5129906,
            5129906,
            5342178,
            4882255,
            4953012,
            4917634,
            5660586,
            5165284,
            4316196,
            5023770,
            4634604,
            5554450,
            4245439,
            5448314,
            5802100,
            6622799,
            5988701,
            5389831,
            5248920,
            5002327,
            5213693,
            5812563,
            4861416,
            6939848,
            6094384,
            6235295,
            5530742,
            5559050,
            5079132,
            6518886,
            5918988,
            6598872,
            5958981,
            6478893,
            6158947,
            6398906,
            6878824,
            7118783,
            5918988,
            5878995,
            6585327,
            6414280,
            6713613,
            6285994,
            6200471,
            6371518,
            6499804,
            5901138,
            7654374,
            7568850,
            5986661,
            6542566,
            7012946,
            6333395,
            6149818,
            6608760,
            6195712,
            6792336,
            5966241,
            6975913,
            5966241,
            8215055,
            6838231,
            6930019,
            5966241,
            5277829,
            4084581,
            7297172,
            4459278,
            4459278,
            4635883,
            6843446,
            5695513,
            6578538,
            7417412,
            7196656,
            7682320,
            7240807,
            6799294,
            7726471,
            8697799,
            7430761,
            8072925,
            8027056,
            7751843,
            6329907,
            7981187,
            8623352,
            8715090,
            7981187,
            8256401,
            7751843,
            8072925,
            6965995,
            8556656,
            6417492,
            9653663,
            7624200,
            9105159,
            7953302,
            6856295,
            7569349,
            8063003,
            9708513,
            9269710,
            7569349,
            7130547,
            8380132,
            10223761,
            7486251,
            6983443,
            8882940,
            8827072,
            10167894,
            8994675,
            8938808,
            7765589,
            8547735,
            7597986,
            7877324,
            11601113,
            10351762,
            9756834,
            8983426,
            10589734,
            10649227,
            9102412,
            10827706,
            10173284,
            9935312
           ],
           [
            9,
            10,
            10,
            10,
            10,
            10,
            11,
            10,
            11,
            12,
            12,
            12,
            12,
            12,
            12,
            11,
            13,
            15,
            14,
            14,
            15,
            14,
            14,
            14,
            16,
            17,
            17,
            16,
            16,
            18,
            17,
            18,
            19,
            20,
            21,
            24,
            23,
            24,
            23,
            21,
            23,
            23,
            24,
            29,
            22,
            21,
            19,
            20,
            20,
            24,
            25,
            22,
            22,
            21,
            22,
            24,
            24,
            25,
            20,
            19,
            22,
            20,
            21,
            25,
            32,
            24,
            22,
            23,
            23,
            21,
            26,
            25,
            25,
            21,
            23,
            21,
            19,
            18,
            21,
            19,
            20,
            18,
            28,
            22,
            27,
            34,
            27,
            21,
            21,
            25,
            23,
            27,
            29,
            25,
            40,
            26,
            24,
            29,
            31,
            30,
            28,
            28,
            24,
            25,
            26,
            28,
            32,
            31,
            31,
            31,
            32,
            29,
            34,
            36,
            30,
            30,
            33,
            35,
            35,
            33,
            38,
            39,
            38,
            42,
            41,
            44,
            45,
            52,
            41,
            44,
            39,
            45,
            37,
            45,
            42,
            39,
            41,
            38,
            29,
            29,
            37,
            44,
            33,
            30,
            27,
            33,
            30,
            40,
            38,
            30,
            28,
            32,
            36,
            37,
            37,
            37,
            31,
            37,
            33,
            27,
            33,
            39,
            46,
            35,
            34,
            31,
            38,
            36,
            39,
            52,
            43,
            38,
            35,
            39,
            46,
            40,
            50,
            43,
            36
           ],
           [
            3119179,
            2720216,
            2878278,
            3149553,
            2760373,
            3500746,
            2779170,
            3610789,
            3505620,
            4062173,
            3715394,
            3665041,
            3468077,
            3731718,
            3885821,
            4018028,
            4090703,
            3356332,
            4241264,
            3986175,
            4746880,
            4862317,
            4331490,
            4499105,
            5668946,
            5524488,
            5871334,
            5119620,
            5121737,
            5262057,
            5260814,
            6132064,
            5808558,
            6245229,
            5437775,
            7190853,
            5967105,
            6586584,
            6705146,
            7060708,
            6905690,
            6408509,
            5916953,
            6255384,
            5779114,
            5967684,
            5217093,
            5540766,
            5304594,
            5461151,
            5066180,
            5761788,
            5639440,
            5729388,
            5791396,
            6125532,
            5333680,
            4323782,
            5067818,
            4893545,
            5859694,
            4529058,
            5463199,
            5415823,
            6165437,
            5975339,
            5536125,
            5284211,
            5092047,
            5027244,
            5589288,
            4618491,
            6117733,
            5418690,
            5595773,
            4943868,
            4133223,
            3915180,
            4114452,
            4307538,
            5135591,
            4503487,
            6303560,
            5613835,
            5890365,
            5998935,
            6381473,
            4978580,
            4829128,
            5348203,
            5563273,
            5536230,
            5226926,
            5550845,
            5102353,
            5295684,
            5009853,
            6553817,
            7255240,
            5802572,
            6700312,
            7395324,
            6117049,
            6163928,
            7130611,
            7067967,
            8147957,
            7782196,
            9146734,
            8320553,
            10849951,
            8775120,
            8768358,
            7392849,
            6787387,
            5749752,
            10230715,
            6929316,
            7153228,
            7319122,
            9642616,
            8451776,
            10384095,
            11046351,
            11260487,
            12131998,
            10374578,
            9700710,
            10527922,
            11928774,
            10290919,
            11050159,
            10028960,
            9554034,
            7845878,
            9592187,
            10193192,
            9617967,
            7489085,
            8227898,
            8161423,
            8368700,
            6960685,
            8091884,
            6147322,
            8287404,
            6520223,
            7983282,
            6815446,
            6522957,
            7065925,
            8033184,
            9528010,
            9047637,
            7690943,
            7369622,
            8729899,
            10134350,
            7436308,
            7204664,
            8954116,
            8787393,
            10645076,
            9983564,
            10009312,
            8773874,
            10754101,
            10610179,
            11022592,
            14217107,
            13050105,
            12204887,
            11106218,
            13368297,
            13875337,
            12037733,
            14108349,
            13224118,
            12165126
           ],
           [
            256,
            199,
            228,
            273,
            247,
            307,
            261,
            297,
            277,
            316,
            303,
            303,
            280,
            322,
            301,
            297,
            327,
            343,
            486,
            392,
            443,
            388,
            353,
            407,
            468,
            473,
            499,
            470,
            529,
            421,
            495,
            588,
            570,
            569,
            470,
            546,
            442,
            475,
            511,
            668,
            491,
            456,
            391,
            356,
            410,
            479,
            455,
            435,
            375,
            311,
            278,
            387,
            388,
            463,
            447,
            339,
            307,
            259,
            375,
            368,
            386,
            341,
            357,
            255,
            198,
            283,
            294,
            226,
            242,
            241,
            192,
            157,
            206,
            208,
            222,
            211,
            215,
            378,
            167,
            198,
            225,
            202,
            229,
            250,
            171,
            125,
            167,
            168,
            168,
            166,
            188,
            156,
            138,
            195,
            76,
            131,
            124,
            113,
            114,
            88,
            122,
            159,
            158,
            193,
            235,
            211,
            190,
            249,
            350,
            348,
            365,
            338,
            266,
            209,
            298,
            334,
            542,
            386,
            426,
            425,
            359,
            378,
            462,
            388,
            413,
            383,
            290,
            239,
            325,
            282,
            273,
            257,
            218,
            145,
            143,
            160,
            149,
            134,
            154,
            13,
            120,
            99,
            168,
            174,
            146,
            136,
            117,
            100,
            84,
            147,
            150,
            143,
            134,
            115,
            101,
            119,
            180,
            153,
            137,
            160,
            149,
            108,
            112,
            149,
            167,
            148,
            174,
            282,
            228,
            163,
            193,
            209,
            192,
            192,
            162,
            168,
            155,
            186,
            200
           ]
          ]
         },
         "domain": {
          "x": [
           0,
           1
          ],
          "y": [
           0.7,
           1
          ]
         },
         "header": {
          "align": "left",
          "font": {
           "size": 10
          },
          "values": [
           "Date",
           "Number<br>Transactions",
           "Output<br>Volume (BTC)",
           "Market<br>Price",
           "Hash<br>Rate",
           "Cost per<br>trans-USD",
           "Mining<br>Revenue-USD",
           "Trasaction<br>fees-BTC"
          ]
         },
         "type": "table"
        }
       ],
       "layout": {
        "height": 800,
        "showlegend": false,
        "template": {
         "data": {
          "bar": [
           {
            "error_x": {
             "color": "#2a3f5f"
            },
            "error_y": {
             "color": "#2a3f5f"
            },
            "marker": {
             "line": {
              "color": "#E5ECF6",
              "width": 0.5
             }
            },
            "type": "bar"
           }
          ],
          "barpolar": [
           {
            "marker": {
             "line": {
              "color": "#E5ECF6",
              "width": 0.5
             }
            },
            "type": "barpolar"
           }
          ],
          "carpet": [
           {
            "aaxis": {
             "endlinecolor": "#2a3f5f",
             "gridcolor": "white",
             "linecolor": "white",
             "minorgridcolor": "white",
             "startlinecolor": "#2a3f5f"
            },
            "baxis": {
             "endlinecolor": "#2a3f5f",
             "gridcolor": "white",
             "linecolor": "white",
             "minorgridcolor": "white",
             "startlinecolor": "#2a3f5f"
            },
            "type": "carpet"
           }
          ],
          "choropleth": [
           {
            "colorbar": {
             "outlinewidth": 0,
             "ticks": ""
            },
            "type": "choropleth"
           }
          ],
          "contour": [
           {
            "colorbar": {
             "outlinewidth": 0,
             "ticks": ""
            },
            "colorscale": [
             [
              0,
              "#0d0887"
             ],
             [
              0.1111111111111111,
              "#46039f"
             ],
             [
              0.2222222222222222,
              "#7201a8"
             ],
             [
              0.3333333333333333,
              "#9c179e"
             ],
             [
              0.4444444444444444,
              "#bd3786"
             ],
             [
              0.5555555555555556,
              "#d8576b"
             ],
             [
              0.6666666666666666,
              "#ed7953"
             ],
             [
              0.7777777777777778,
              "#fb9f3a"
             ],
             [
              0.8888888888888888,
              "#fdca26"
             ],
             [
              1,
              "#f0f921"
             ]
            ],
            "type": "contour"
           }
          ],
          "contourcarpet": [
           {
            "colorbar": {
             "outlinewidth": 0,
             "ticks": ""
            },
            "type": "contourcarpet"
           }
          ],
          "heatmap": [
           {
            "colorbar": {
             "outlinewidth": 0,
             "ticks": ""
            },
            "colorscale": [
             [
              0,
              "#0d0887"
             ],
             [
              0.1111111111111111,
              "#46039f"
             ],
             [
              0.2222222222222222,
              "#7201a8"
             ],
             [
              0.3333333333333333,
              "#9c179e"
             ],
             [
              0.4444444444444444,
              "#bd3786"
             ],
             [
              0.5555555555555556,
              "#d8576b"
             ],
             [
              0.6666666666666666,
              "#ed7953"
             ],
             [
              0.7777777777777778,
              "#fb9f3a"
             ],
             [
              0.8888888888888888,
              "#fdca26"
             ],
             [
              1,
              "#f0f921"
             ]
            ],
            "type": "heatmap"
           }
          ],
          "heatmapgl": [
           {
            "colorbar": {
             "outlinewidth": 0,
             "ticks": ""
            },
            "colorscale": [
             [
              0,
              "#0d0887"
             ],
             [
              0.1111111111111111,
              "#46039f"
             ],
             [
              0.2222222222222222,
              "#7201a8"
             ],
             [
              0.3333333333333333,
              "#9c179e"
             ],
             [
              0.4444444444444444,
              "#bd3786"
             ],
             [
              0.5555555555555556,
              "#d8576b"
             ],
             [
              0.6666666666666666,
              "#ed7953"
             ],
             [
              0.7777777777777778,
              "#fb9f3a"
             ],
             [
              0.8888888888888888,
              "#fdca26"
             ],
             [
              1,
              "#f0f921"
             ]
            ],
            "type": "heatmapgl"
           }
          ],
          "histogram": [
           {
            "marker": {
             "colorbar": {
              "outlinewidth": 0,
              "ticks": ""
             }
            },
            "type": "histogram"
           }
          ],
          "histogram2d": [
           {
            "colorbar": {
             "outlinewidth": 0,
             "ticks": ""
            },
            "colorscale": [
             [
              0,
              "#0d0887"
             ],
             [
              0.1111111111111111,
              "#46039f"
             ],
             [
              0.2222222222222222,
              "#7201a8"
             ],
             [
              0.3333333333333333,
              "#9c179e"
             ],
             [
              0.4444444444444444,
              "#bd3786"
             ],
             [
              0.5555555555555556,
              "#d8576b"
             ],
             [
              0.6666666666666666,
              "#ed7953"
             ],
             [
              0.7777777777777778,
              "#fb9f3a"
             ],
             [
              0.8888888888888888,
              "#fdca26"
             ],
             [
              1,
              "#f0f921"
             ]
            ],
            "type": "histogram2d"
           }
          ],
          "histogram2dcontour": [
           {
            "colorbar": {
             "outlinewidth": 0,
             "ticks": ""
            },
            "colorscale": [
             [
              0,
              "#0d0887"
             ],
             [
              0.1111111111111111,
              "#46039f"
             ],
             [
              0.2222222222222222,
              "#7201a8"
             ],
             [
              0.3333333333333333,
              "#9c179e"
             ],
             [
              0.4444444444444444,
              "#bd3786"
             ],
             [
              0.5555555555555556,
              "#d8576b"
             ],
             [
              0.6666666666666666,
              "#ed7953"
             ],
             [
              0.7777777777777778,
              "#fb9f3a"
             ],
             [
              0.8888888888888888,
              "#fdca26"
             ],
             [
              1,
              "#f0f921"
             ]
            ],
            "type": "histogram2dcontour"
           }
          ],
          "mesh3d": [
           {
            "colorbar": {
             "outlinewidth": 0,
             "ticks": ""
            },
            "type": "mesh3d"
           }
          ],
          "parcoords": [
           {
            "line": {
             "colorbar": {
              "outlinewidth": 0,
              "ticks": ""
             }
            },
            "type": "parcoords"
           }
          ],
          "scatter": [
           {
            "marker": {
             "colorbar": {
              "outlinewidth": 0,
              "ticks": ""
             }
            },
            "type": "scatter"
           }
          ],
          "scatter3d": [
           {
            "line": {
             "colorbar": {
              "outlinewidth": 0,
              "ticks": ""
             }
            },
            "marker": {
             "colorbar": {
              "outlinewidth": 0,
              "ticks": ""
             }
            },
            "type": "scatter3d"
           }
          ],
          "scattercarpet": [
           {
            "marker": {
             "colorbar": {
              "outlinewidth": 0,
              "ticks": ""
             }
            },
            "type": "scattercarpet"
           }
          ],
          "scattergeo": [
           {
            "marker": {
             "colorbar": {
              "outlinewidth": 0,
              "ticks": ""
             }
            },
            "type": "scattergeo"
           }
          ],
          "scattergl": [
           {
            "marker": {
             "colorbar": {
              "outlinewidth": 0,
              "ticks": ""
             }
            },
            "type": "scattergl"
           }
          ],
          "scattermapbox": [
           {
            "marker": {
             "colorbar": {
              "outlinewidth": 0,
              "ticks": ""
             }
            },
            "type": "scattermapbox"
           }
          ],
          "scatterpolar": [
           {
            "marker": {
             "colorbar": {
              "outlinewidth": 0,
              "ticks": ""
             }
            },
            "type": "scatterpolar"
           }
          ],
          "scatterpolargl": [
           {
            "marker": {
             "colorbar": {
              "outlinewidth": 0,
              "ticks": ""
             }
            },
            "type": "scatterpolargl"
           }
          ],
          "scatterternary": [
           {
            "marker": {
             "colorbar": {
              "outlinewidth": 0,
              "ticks": ""
             }
            },
            "type": "scatterternary"
           }
          ],
          "surface": [
           {
            "colorbar": {
             "outlinewidth": 0,
             "ticks": ""
            },
            "colorscale": [
             [
              0,
              "#0d0887"
             ],
             [
              0.1111111111111111,
              "#46039f"
             ],
             [
              0.2222222222222222,
              "#7201a8"
             ],
             [
              0.3333333333333333,
              "#9c179e"
             ],
             [
              0.4444444444444444,
              "#bd3786"
             ],
             [
              0.5555555555555556,
              "#d8576b"
             ],
             [
              0.6666666666666666,
              "#ed7953"
             ],
             [
              0.7777777777777778,
              "#fb9f3a"
             ],
             [
              0.8888888888888888,
              "#fdca26"
             ],
             [
              1,
              "#f0f921"
             ]
            ],
            "type": "surface"
           }
          ],
          "table": [
           {
            "cells": {
             "fill": {
              "color": "#EBF0F8"
             },
             "line": {
              "color": "white"
             }
            },
            "header": {
             "fill": {
              "color": "#C8D4E3"
             },
             "line": {
              "color": "white"
             }
            },
            "type": "table"
           }
          ]
         },
         "layout": {
          "annotationdefaults": {
           "arrowcolor": "#2a3f5f",
           "arrowhead": 0,
           "arrowwidth": 1
          },
          "colorscale": {
           "diverging": [
            [
             0,
             "#8e0152"
            ],
            [
             0.1,
             "#c51b7d"
            ],
            [
             0.2,
             "#de77ae"
            ],
            [
             0.3,
             "#f1b6da"
            ],
            [
             0.4,
             "#fde0ef"
            ],
            [
             0.5,
             "#f7f7f7"
            ],
            [
             0.6,
             "#e6f5d0"
            ],
            [
             0.7,
             "#b8e186"
            ],
            [
             0.8,
             "#7fbc41"
            ],
            [
             0.9,
             "#4d9221"
            ],
            [
             1,
             "#276419"
            ]
           ],
           "sequential": [
            [
             0,
             "#0d0887"
            ],
            [
             0.1111111111111111,
             "#46039f"
            ],
            [
             0.2222222222222222,
             "#7201a8"
            ],
            [
             0.3333333333333333,
             "#9c179e"
            ],
            [
             0.4444444444444444,
             "#bd3786"
            ],
            [
             0.5555555555555556,
             "#d8576b"
            ],
            [
             0.6666666666666666,
             "#ed7953"
            ],
            [
             0.7777777777777778,
             "#fb9f3a"
            ],
            [
             0.8888888888888888,
             "#fdca26"
            ],
            [
             1,
             "#f0f921"
            ]
           ],
           "sequentialminus": [
            [
             0,
             "#0d0887"
            ],
            [
             0.1111111111111111,
             "#46039f"
            ],
            [
             0.2222222222222222,
             "#7201a8"
            ],
            [
             0.3333333333333333,
             "#9c179e"
            ],
            [
             0.4444444444444444,
             "#bd3786"
            ],
            [
             0.5555555555555556,
             "#d8576b"
            ],
            [
             0.6666666666666666,
             "#ed7953"
            ],
            [
             0.7777777777777778,
             "#fb9f3a"
            ],
            [
             0.8888888888888888,
             "#fdca26"
            ],
            [
             1,
             "#f0f921"
            ]
           ]
          },
          "colorway": [
           "#636efa",
           "#EF553B",
           "#00cc96",
           "#ab63fa",
           "#FFA15A",
           "#19d3f3",
           "#FF6692",
           "#B6E880",
           "#FF97FF",
           "#FECB52"
          ],
          "font": {
           "color": "#2a3f5f"
          },
          "geo": {
           "bgcolor": "white",
           "lakecolor": "white",
           "landcolor": "#E5ECF6",
           "showlakes": true,
           "showland": true,
           "subunitcolor": "white"
          },
          "hoverlabel": {
           "align": "left"
          },
          "hovermode": "closest",
          "mapbox": {
           "style": "light"
          },
          "paper_bgcolor": "white",
          "plot_bgcolor": "#E5ECF6",
          "polar": {
           "angularaxis": {
            "gridcolor": "white",
            "linecolor": "white",
            "ticks": ""
           },
           "bgcolor": "#E5ECF6",
           "radialaxis": {
            "gridcolor": "white",
            "linecolor": "white",
            "ticks": ""
           }
          },
          "scene": {
           "xaxis": {
            "backgroundcolor": "#E5ECF6",
            "gridcolor": "white",
            "gridwidth": 2,
            "linecolor": "white",
            "showbackground": true,
            "ticks": "",
            "zerolinecolor": "white"
           },
           "yaxis": {
            "backgroundcolor": "#E5ECF6",
            "gridcolor": "white",
            "gridwidth": 2,
            "linecolor": "white",
            "showbackground": true,
            "ticks": "",
            "zerolinecolor": "white"
           },
           "zaxis": {
            "backgroundcolor": "#E5ECF6",
            "gridcolor": "white",
            "gridwidth": 2,
            "linecolor": "white",
            "showbackground": true,
            "ticks": "",
            "zerolinecolor": "white"
           }
          },
          "shapedefaults": {
           "line": {
            "color": "#2a3f5f"
           }
          },
          "ternary": {
           "aaxis": {
            "gridcolor": "white",
            "linecolor": "white",
            "ticks": ""
           },
           "baxis": {
            "gridcolor": "white",
            "linecolor": "white",
            "ticks": ""
           },
           "bgcolor": "#E5ECF6",
           "caxis": {
            "gridcolor": "white",
            "linecolor": "white",
            "ticks": ""
           }
          },
          "title": {
           "x": 0.05
          },
          "xaxis": {
           "automargin": true,
           "gridcolor": "white",
           "linecolor": "white",
           "ticks": "",
           "zerolinecolor": "white",
           "zerolinewidth": 2
          },
          "yaxis": {
           "automargin": true,
           "gridcolor": "white",
           "linecolor": "white",
           "ticks": "",
           "zerolinecolor": "white",
           "zerolinewidth": 2
          }
         }
        },
        "title": {
         "text": "Bitcoin mining stats for 180 days"
        },
        "xaxis": {
         "rangeselector": {
          "buttons": [
           {
            "count": 1,
            "label": "1m",
            "step": "month",
            "stepmode": "backward"
           },
           {
            "count": 6,
            "label": "6m",
            "step": "month",
            "stepmode": "backward"
           },
           {
            "count": 1,
            "label": "YTD",
            "step": "year",
            "stepmode": "todate"
           },
           {
            "count": 1,
            "label": "1y",
            "step": "year",
            "stepmode": "backward"
           },
           {
            "step": "all"
           }
          ]
         },
         "rangeslider": {
          "visible": true
         },
         "type": "date"
        },
        "xaxis2": {
         "anchor": "y2",
         "domain": [
          0,
          1
         ]
        },
        "yaxis": {
         "anchor": "x",
         "domain": [
          0.35,
          0.6499999999999999
         ]
        },
        "yaxis2": {
         "anchor": "x2",
         "domain": [
          0,
          0.3
         ]
        }
       }
      },
      "text/html": [
       "<div>\n",
       "        \n",
       "        \n",
       "            <div id=\"dabec284-0b97-4161-9fd1-93148fa10487\" class=\"plotly-graph-div\" style=\"height:800px; width:100%;\"></div>\n",
       "            <script type=\"text/javascript\">\n",
       "                require([\"plotly\"], function(Plotly) {\n",
       "                    window.PLOTLYENV=window.PLOTLYENV || {};\n",
       "                    \n",
       "                if (document.getElementById(\"dabec284-0b97-4161-9fd1-93148fa10487\")) {\n",
       "                    Plotly.newPlot(\n",
       "                        'dabec284-0b97-4161-9fd1-93148fa10487',\n",
       "                        [{\"mode\": \"lines\", \"name\": \"mining revenue\", \"type\": \"scatter\", \"x\": [\"2017-04-29\", \"2017-04-30\", \"2017-05-01\", \"2017-05-02\", \"2017-05-03\", \"2017-05-04\", \"2017-05-05\", \"2017-05-06\", \"2017-05-07\", \"2017-05-08\", \"2017-05-09\", \"2017-05-10\", \"2017-05-11\", \"2017-05-12\", \"2017-05-13\", \"2017-05-14\", \"2017-05-15\", \"2017-05-16\", \"2017-05-17\", \"2017-05-18\", \"2017-05-19\", \"2017-05-20\", \"2017-05-21\", \"2017-05-22\", \"2017-05-23\", \"2017-05-24\", \"2017-05-25\", \"2017-05-26\", \"2017-05-27\", \"2017-05-28\", \"2017-05-29\", \"2017-05-30\", \"2017-05-31\", \"2017-06-01\", \"2017-06-02\", \"2017-06-03\", \"2017-06-04\", \"2017-06-05\", \"2017-06-06\", \"2017-06-07\", \"2017-06-08\", \"2017-06-09\", \"2017-06-10\", \"2017-06-11\", \"2017-06-12\", \"2017-06-13\", \"2017-06-14\", \"2017-06-15\", \"2017-06-16\", \"2017-06-17\", \"2017-06-18\", \"2017-06-19\", \"2017-06-20\", \"2017-06-21\", \"2017-06-22\", \"2017-06-23\", \"2017-06-24\", \"2017-06-25\", \"2017-06-26\", \"2017-06-27\", \"2017-06-28\", \"2017-06-29\", \"2017-06-30\", \"2017-07-01\", \"2017-07-02\", \"2017-07-03\", \"2017-07-04\", \"2017-07-05\", \"2017-07-06\", \"2017-07-07\", \"2017-07-08\", \"2017-07-09\", \"2017-07-10\", \"2017-07-11\", \"2017-07-12\", \"2017-07-13\", \"2017-07-14\", \"2017-07-15\", \"2017-07-16\", \"2017-07-17\", \"2017-07-18\", \"2017-07-19\", \"2017-07-20\", \"2017-07-21\", \"2017-07-22\", \"2017-07-23\", \"2017-07-24\", \"2017-07-25\", \"2017-07-26\", \"2017-07-27\", \"2017-07-28\", \"2017-07-29\", \"2017-07-30\", \"2017-07-31\", \"2017-08-01\", \"2017-08-02\", \"2017-08-03\", \"2017-08-04\", \"2017-08-05\", \"2017-08-06\", \"2017-08-07\", \"2017-08-08\", \"2017-08-09\", \"2017-08-10\", \"2017-08-11\", \"2017-08-12\", \"2017-08-13\", \"2017-08-14\", \"2017-08-15\", \"2017-08-16\", \"2017-08-17\", \"2017-08-18\", \"2017-08-19\", \"2017-08-20\", \"2017-08-21\", \"2017-08-22\", \"2017-08-23\", \"2017-08-24\", \"2017-08-25\", \"2017-08-26\", \"2017-08-27\", \"2017-08-28\", \"2017-08-29\", \"2017-08-30\", \"2017-08-31\", \"2017-09-01\", \"2017-09-02\", \"2017-09-03\", \"2017-09-04\", \"2017-09-05\", \"2017-09-06\", \"2017-09-07\", \"2017-09-08\", \"2017-09-09\", \"2017-09-10\", \"2017-09-11\", \"2017-09-12\", \"2017-09-13\", \"2017-09-14\", \"2017-09-15\", \"2017-09-16\", \"2017-09-17\", \"2017-09-18\", \"2017-09-19\", \"2017-09-20\", \"2017-09-21\", \"2017-09-22\", \"2017-09-23\", \"2017-09-24\", \"2017-09-25\", \"2017-09-26\", \"2017-09-27\", \"2017-09-28\", \"2017-09-29\", \"2017-09-30\", \"2017-10-01\", \"2017-10-02\", \"2017-10-03\", \"2017-10-04\", \"2017-10-05\", \"2017-10-06\", \"2017-10-07\", \"2017-10-08\", \"2017-10-09\", \"2017-10-10\", \"2017-10-11\", \"2017-10-12\", \"2017-10-13\", \"2017-10-14\", \"2017-10-15\", \"2017-10-16\", \"2017-10-17\", \"2017-10-18\", \"2017-10-19\", \"2017-10-20\", \"2017-10-21\", \"2017-10-22\", \"2017-10-23\", \"2017-10-24\"], \"xaxis\": \"x2\", \"y\": [3119179, 2720216, 2878278, 3149553, 2760373, 3500746, 2779170, 3610789, 3505620, 4062173, 3715394, 3665041, 3468077, 3731718, 3885821, 4018028, 4090703, 3356332, 4241264, 3986175, 4746880, 4862317, 4331490, 4499105, 5668946, 5524488, 5871334, 5119620, 5121737, 5262057, 5260814, 6132064, 5808558, 6245229, 5437775, 7190853, 5967105, 6586584, 6705146, 7060708, 6905690, 6408509, 5916953, 6255384, 5779114, 5967684, 5217093, 5540766, 5304594, 5461151, 5066180, 5761788, 5639440, 5729388, 5791396, 6125532, 5333680, 4323782, 5067818, 4893545, 5859694, 4529058, 5463199, 5415823, 6165437, 5975339, 5536125, 5284211, 5092047, 5027244, 5589288, 4618491, 6117733, 5418690, 5595773, 4943868, 4133223, 3915180, 4114452, 4307538, 5135591, 4503487, 6303560, 5613835, 5890365, 5998935, 6381473, 4978580, 4829128, 5348203, 5563273, 5536230, 5226926, 5550845, 5102353, 5295684, 5009853, 6553817, 7255240, 5802572, 6700312, 7395324, 6117049, 6163928, 7130611, 7067967, 8147957, 7782196, 9146734, 8320553, 10849951, 8775120, 8768358, 7392849, 6787387, 5749752, 10230715, 6929316, 7153228, 7319122, 9642616, 8451776, 10384095, 11046351, 11260487, 12131998, 10374578, 9700710, 10527922, 11928774, 10290919, 11050159, 10028960, 9554034, 7845878, 9592187, 10193192, 9617967, 7489085, 8227898, 8161423, 8368700, 6960685, 8091884, 6147322, 8287404, 6520223, 7983282, 6815446, 6522957, 7065925, 8033184, 9528010, 9047637, 7690943, 7369622, 8729899, 10134350, 7436308, 7204664, 8954116, 8787393, 10645076, 9983564, 10009312, 8773874, 10754101, 10610179, 11022592, 14217107, 13050105, 12204887, 11106218, 13368297, 13875337, 12037733, 14108349, 13224118, 12165126], \"yaxis\": \"y2\"}, {\"mode\": \"lines\", \"name\": \"hash-rate-TH/s\", \"type\": \"scatter\", \"x\": [\"2017-04-29\", \"2017-04-30\", \"2017-05-01\", \"2017-05-02\", \"2017-05-03\", \"2017-05-04\", \"2017-05-05\", \"2017-05-06\", \"2017-05-07\", \"2017-05-08\", \"2017-05-09\", \"2017-05-10\", \"2017-05-11\", \"2017-05-12\", \"2017-05-13\", \"2017-05-14\", \"2017-05-15\", \"2017-05-16\", \"2017-05-17\", \"2017-05-18\", \"2017-05-19\", \"2017-05-20\", \"2017-05-21\", \"2017-05-22\", \"2017-05-23\", \"2017-05-24\", \"2017-05-25\", \"2017-05-26\", \"2017-05-27\", \"2017-05-28\", \"2017-05-29\", \"2017-05-30\", \"2017-05-31\", \"2017-06-01\", \"2017-06-02\", \"2017-06-03\", \"2017-06-04\", \"2017-06-05\", \"2017-06-06\", \"2017-06-07\", \"2017-06-08\", \"2017-06-09\", \"2017-06-10\", \"2017-06-11\", \"2017-06-12\", \"2017-06-13\", \"2017-06-14\", \"2017-06-15\", \"2017-06-16\", \"2017-06-17\", \"2017-06-18\", \"2017-06-19\", \"2017-06-20\", \"2017-06-21\", \"2017-06-22\", \"2017-06-23\", \"2017-06-24\", \"2017-06-25\", \"2017-06-26\", \"2017-06-27\", \"2017-06-28\", \"2017-06-29\", \"2017-06-30\", \"2017-07-01\", \"2017-07-02\", \"2017-07-03\", \"2017-07-04\", \"2017-07-05\", \"2017-07-06\", \"2017-07-07\", \"2017-07-08\", \"2017-07-09\", \"2017-07-10\", \"2017-07-11\", \"2017-07-12\", \"2017-07-13\", \"2017-07-14\", \"2017-07-15\", \"2017-07-16\", \"2017-07-17\", \"2017-07-18\", \"2017-07-19\", \"2017-07-20\", \"2017-07-21\", \"2017-07-22\", \"2017-07-23\", \"2017-07-24\", \"2017-07-25\", \"2017-07-26\", \"2017-07-27\", \"2017-07-28\", \"2017-07-29\", \"2017-07-30\", \"2017-07-31\", \"2017-08-01\", \"2017-08-02\", \"2017-08-03\", \"2017-08-04\", \"2017-08-05\", \"2017-08-06\", \"2017-08-07\", \"2017-08-08\", \"2017-08-09\", \"2017-08-10\", \"2017-08-11\", \"2017-08-12\", \"2017-08-13\", \"2017-08-14\", \"2017-08-15\", \"2017-08-16\", \"2017-08-17\", \"2017-08-18\", \"2017-08-19\", \"2017-08-20\", \"2017-08-21\", \"2017-08-22\", \"2017-08-23\", \"2017-08-24\", \"2017-08-25\", \"2017-08-26\", \"2017-08-27\", \"2017-08-28\", \"2017-08-29\", \"2017-08-30\", \"2017-08-31\", \"2017-09-01\", \"2017-09-02\", \"2017-09-03\", \"2017-09-04\", \"2017-09-05\", \"2017-09-06\", \"2017-09-07\", \"2017-09-08\", \"2017-09-09\", \"2017-09-10\", \"2017-09-11\", \"2017-09-12\", \"2017-09-13\", \"2017-09-14\", \"2017-09-15\", \"2017-09-16\", \"2017-09-17\", \"2017-09-18\", \"2017-09-19\", \"2017-09-20\", \"2017-09-21\", \"2017-09-22\", \"2017-09-23\", \"2017-09-24\", \"2017-09-25\", \"2017-09-26\", \"2017-09-27\", \"2017-09-28\", \"2017-09-29\", \"2017-09-30\", \"2017-10-01\", \"2017-10-02\", \"2017-10-03\", \"2017-10-04\", \"2017-10-05\", \"2017-10-06\", \"2017-10-07\", \"2017-10-08\", \"2017-10-09\", \"2017-10-10\", \"2017-10-11\", \"2017-10-12\", \"2017-10-13\", \"2017-10-14\", \"2017-10-15\", \"2017-10-16\", \"2017-10-17\", \"2017-10-18\", \"2017-10-19\", \"2017-10-20\", \"2017-10-21\", \"2017-10-22\", \"2017-10-23\", \"2017-10-24\"], \"xaxis\": \"x\", \"y\": [4488916, 3918072, 3892124, 4099704, 3425069, 4359179, 3347227, 4359179, 4333232, 4670549, 4021862, 4119773, 3757901, 4286791, 4398136, 4565154, 4732172, 3674392, 4314627, 3952755, 4565154, 4592990, 4091937, 4064100, 4976738, 4562010, 4828621, 4532386, 4976738, 4887867, 4473139, 5302596, 4858244, 5035985, 4325022, 5687700, 5432357, 5533581, 5094944, 5567322, 5567322, 5094944, 4757530, 4926237, 4959978, 4757530, 4723789, 5162426, 4993720, 5129906, 5129906, 5342178, 4882255, 4953012, 4917634, 5660586, 5165284, 4316196, 5023770, 4634604, 5554450, 4245439, 5448314, 5802100, 6622799, 5988701, 5389831, 5248920, 5002327, 5213693, 5812563, 4861416, 6939848, 6094384, 6235295, 5530742, 5559050, 5079132, 6518886, 5918988, 6598872, 5958981, 6478893, 6158947, 6398906, 6878824, 7118783, 5918988, 5878995, 6585327, 6414280, 6713613, 6285994, 6200471, 6371518, 6499804, 5901138, 7654374, 7568850, 5986661, 6542566, 7012946, 6333395, 6149818, 6608760, 6195712, 6792336, 5966241, 6975913, 5966241, 8215055, 6838231, 6930019, 5966241, 5277829, 4084581, 7297172, 4459278, 4459278, 4635883, 6843446, 5695513, 6578538, 7417412, 7196656, 7682320, 7240807, 6799294, 7726471, 8697799, 7430761, 8072925, 8027056, 7751843, 6329907, 7981187, 8623352, 8715090, 7981187, 8256401, 7751843, 8072925, 6965995, 8556656, 6417492, 9653663, 7624200, 9105159, 7953302, 6856295, 7569349, 8063003, 9708513, 9269710, 7569349, 7130547, 8380132, 10223761, 7486251, 6983443, 8882940, 8827072, 10167894, 8994675, 8938808, 7765589, 8547735, 7597986, 7877324, 11601113, 10351762, 9756834, 8983426, 10589734, 10649227, 9102412, 10827706, 10173284, 9935312], \"yaxis\": \"y\"}, {\"cells\": {\"align\": \"left\", \"values\": [[\"2017-04-29\", \"2017-04-30\", \"2017-05-01\", \"2017-05-02\", \"2017-05-03\", \"2017-05-04\", \"2017-05-05\", \"2017-05-06\", \"2017-05-07\", \"2017-05-08\", \"2017-05-09\", \"2017-05-10\", \"2017-05-11\", \"2017-05-12\", \"2017-05-13\", \"2017-05-14\", \"2017-05-15\", \"2017-05-16\", \"2017-05-17\", \"2017-05-18\", \"2017-05-19\", \"2017-05-20\", \"2017-05-21\", \"2017-05-22\", \"2017-05-23\", \"2017-05-24\", \"2017-05-25\", \"2017-05-26\", \"2017-05-27\", \"2017-05-28\", \"2017-05-29\", \"2017-05-30\", \"2017-05-31\", \"2017-06-01\", \"2017-06-02\", \"2017-06-03\", \"2017-06-04\", \"2017-06-05\", \"2017-06-06\", \"2017-06-07\", \"2017-06-08\", \"2017-06-09\", \"2017-06-10\", \"2017-06-11\", \"2017-06-12\", \"2017-06-13\", \"2017-06-14\", \"2017-06-15\", \"2017-06-16\", \"2017-06-17\", \"2017-06-18\", \"2017-06-19\", \"2017-06-20\", \"2017-06-21\", \"2017-06-22\", \"2017-06-23\", \"2017-06-24\", \"2017-06-25\", \"2017-06-26\", \"2017-06-27\", \"2017-06-28\", \"2017-06-29\", \"2017-06-30\", \"2017-07-01\", \"2017-07-02\", \"2017-07-03\", \"2017-07-04\", \"2017-07-05\", \"2017-07-06\", \"2017-07-07\", \"2017-07-08\", \"2017-07-09\", \"2017-07-10\", \"2017-07-11\", \"2017-07-12\", \"2017-07-13\", \"2017-07-14\", \"2017-07-15\", \"2017-07-16\", \"2017-07-17\", \"2017-07-18\", \"2017-07-19\", \"2017-07-20\", \"2017-07-21\", \"2017-07-22\", \"2017-07-23\", \"2017-07-24\", \"2017-07-25\", \"2017-07-26\", \"2017-07-27\", \"2017-07-28\", \"2017-07-29\", \"2017-07-30\", \"2017-07-31\", \"2017-08-01\", \"2017-08-02\", \"2017-08-03\", \"2017-08-04\", \"2017-08-05\", \"2017-08-06\", \"2017-08-07\", \"2017-08-08\", \"2017-08-09\", \"2017-08-10\", \"2017-08-11\", \"2017-08-12\", \"2017-08-13\", \"2017-08-14\", \"2017-08-15\", \"2017-08-16\", \"2017-08-17\", \"2017-08-18\", \"2017-08-19\", \"2017-08-20\", \"2017-08-21\", \"2017-08-22\", \"2017-08-23\", \"2017-08-24\", \"2017-08-25\", \"2017-08-26\", \"2017-08-27\", \"2017-08-28\", \"2017-08-29\", \"2017-08-30\", \"2017-08-31\", \"2017-09-01\", \"2017-09-02\", \"2017-09-03\", \"2017-09-04\", \"2017-09-05\", \"2017-09-06\", \"2017-09-07\", \"2017-09-08\", \"2017-09-09\", \"2017-09-10\", \"2017-09-11\", \"2017-09-12\", \"2017-09-13\", \"2017-09-14\", \"2017-09-15\", \"2017-09-16\", \"2017-09-17\", \"2017-09-18\", \"2017-09-19\", \"2017-09-20\", \"2017-09-21\", \"2017-09-22\", \"2017-09-23\", \"2017-09-24\", \"2017-09-25\", \"2017-09-26\", \"2017-09-27\", \"2017-09-28\", \"2017-09-29\", \"2017-09-30\", \"2017-10-01\", \"2017-10-02\", \"2017-10-03\", \"2017-10-04\", \"2017-10-05\", \"2017-10-06\", \"2017-10-07\", \"2017-10-08\", \"2017-10-09\", \"2017-10-10\", \"2017-10-11\", \"2017-10-12\", \"2017-10-13\", \"2017-10-14\", \"2017-10-15\", \"2017-10-16\", \"2017-10-17\", \"2017-10-18\", \"2017-10-19\", \"2017-10-20\", \"2017-10-21\", \"2017-10-22\", \"2017-10-23\", \"2017-10-24\"], [341319, 281489, 294786, 333161, 295149, 354737, 267193, 363022, 316011, 365096, 332879, 311391, 294743, 317698, 329266, 369098, 329229, 233977, 317527, 288904, 319502, 352805, 326057, 327868, 367710, 338642, 350114, 333340, 331914, 308143, 321638, 347961, 321634, 319709, 271539, 305320, 266044, 289930, 297416, 339720, 307377, 282184, 254993, 222892, 269098, 291776, 287644, 293141, 269937, 236554, 209359, 269774, 269438, 280203, 269685, 259938, 227127, 180719, 261906, 259737, 279811, 231054, 267360, 221856, 196539, 253244, 255483, 237008, 225106, 243614, 220835, 188124, 251722, 265759, 257138, 245895, 227903, 221851, 203165, 230315, 260575, 253768, 230199, 268443, 223358, 181031, 240072, 244036, 237853, 225369, 247207, 211134, 184145, 231012, 131875, 209321, 213017, 235792, 239771, 199627, 249002, 275574, 260955, 257965, 284001, 260521, 263310, 255362, 311002, 274866, 347319, 312250, 266832, 210852, 236772, 196283, 315734, 203805, 208169, 226485, 261891, 223771, 281116, 271466, 280724, 283670, 236811, 195289, 269280, 277948, 276225, 256374, 279488, 217890, 193240, 253492, 256230, 263320, 268068, 292079, 228257, 197683, 218204, 282917, 235723, 255257, 227615, 203861, 185277, 226603, 263648, 257961, 275976, 254438, 212678, 203653, 295002, 282132, 232826, 273243, 283699, 231226, 238385, 296946, 303101, 292459, 293164, 309819, 293140, 283473, 314725, 334438, 329579, 356985, 312409, 312257, 289131, 316096, 347220], [4488916, 3918072, 3892124, 4099704, 3425069, 4359179, 3347227, 4359179, 4333232, 4670549, 4021862, 4119773, 3757901, 4286791, 4398136, 4565154, 4732172, 3674392, 4314627, 3952755, 4565154, 4592990, 4091937, 4064100, 4976738, 4562010, 4828621, 4532386, 4976738, 4887867, 4473139, 5302596, 4858244, 5035985, 4325022, 5687700, 5432357, 5533581, 5094944, 5567322, 5567322, 5094944, 4757530, 4926237, 4959978, 4757530, 4723789, 5162426, 4993720, 5129906, 5129906, 5342178, 4882255, 4953012, 4917634, 5660586, 5165284, 4316196, 5023770, 4634604, 5554450, 4245439, 5448314, 5802100, 6622799, 5988701, 5389831, 5248920, 5002327, 5213693, 5812563, 4861416, 6939848, 6094384, 6235295, 5530742, 5559050, 5079132, 6518886, 5918988, 6598872, 5958981, 6478893, 6158947, 6398906, 6878824, 7118783, 5918988, 5878995, 6585327, 6414280, 6713613, 6285994, 6200471, 6371518, 6499804, 5901138, 7654374, 7568850, 5986661, 6542566, 7012946, 6333395, 6149818, 6608760, 6195712, 6792336, 5966241, 6975913, 5966241, 8215055, 6838231, 6930019, 5966241, 5277829, 4084581, 7297172, 4459278, 4459278, 4635883, 6843446, 5695513, 6578538, 7417412, 7196656, 7682320, 7240807, 6799294, 7726471, 8697799, 7430761, 8072925, 8027056, 7751843, 6329907, 7981187, 8623352, 8715090, 7981187, 8256401, 7751843, 8072925, 6965995, 8556656, 6417492, 9653663, 7624200, 9105159, 7953302, 6856295, 7569349, 8063003, 9708513, 9269710, 7569349, 7130547, 8380132, 10223761, 7486251, 6983443, 8882940, 8827072, 10167894, 8994675, 8938808, 7765589, 8547735, 7597986, 7877324, 11601113, 10351762, 9756834, 8983426, 10589734, 10649227, 9102412, 10827706, 10173284, 9935312], [3119179, 2720216, 2878278, 3149553, 2760373, 3500746, 2779170, 3610789, 3505620, 4062173, 3715394, 3665041, 3468077, 3731718, 3885821, 4018028, 4090703, 3356332, 4241264, 3986175, 4746880, 4862317, 4331490, 4499105, 5668946, 5524488, 5871334, 5119620, 5121737, 5262057, 5260814, 6132064, 5808558, 6245229, 5437775, 7190853, 5967105, 6586584, 6705146, 7060708, 6905690, 6408509, 5916953, 6255384, 5779114, 5967684, 5217093, 5540766, 5304594, 5461151, 5066180, 5761788, 5639440, 5729388, 5791396, 6125532, 5333680, 4323782, 5067818, 4893545, 5859694, 4529058, 5463199, 5415823, 6165437, 5975339, 5536125, 5284211, 5092047, 5027244, 5589288, 4618491, 6117733, 5418690, 5595773, 4943868, 4133223, 3915180, 4114452, 4307538, 5135591, 4503487, 6303560, 5613835, 5890365, 5998935, 6381473, 4978580, 4829128, 5348203, 5563273, 5536230, 5226926, 5550845, 5102353, 5295684, 5009853, 6553817, 7255240, 5802572, 6700312, 7395324, 6117049, 6163928, 7130611, 7067967, 8147957, 7782196, 9146734, 8320553, 10849951, 8775120, 8768358, 7392849, 6787387, 5749752, 10230715, 6929316, 7153228, 7319122, 9642616, 8451776, 10384095, 11046351, 11260487, 12131998, 10374578, 9700710, 10527922, 11928774, 10290919, 11050159, 10028960, 9554034, 7845878, 9592187, 10193192, 9617967, 7489085, 8227898, 8161423, 8368700, 6960685, 8091884, 6147322, 8287404, 6520223, 7983282, 6815446, 6522957, 7065925, 8033184, 9528010, 9047637, 7690943, 7369622, 8729899, 10134350, 7436308, 7204664, 8954116, 8787393, 10645076, 9983564, 10009312, 8773874, 10754101, 10610179, 11022592, 14217107, 13050105, 12204887, 11106218, 13368297, 13875337, 12037733, 14108349, 13224118, 12165126], [4488916, 3918072, 3892124, 4099704, 3425069, 4359179, 3347227, 4359179, 4333232, 4670549, 4021862, 4119773, 3757901, 4286791, 4398136, 4565154, 4732172, 3674392, 4314627, 3952755, 4565154, 4592990, 4091937, 4064100, 4976738, 4562010, 4828621, 4532386, 4976738, 4887867, 4473139, 5302596, 4858244, 5035985, 4325022, 5687700, 5432357, 5533581, 5094944, 5567322, 5567322, 5094944, 4757530, 4926237, 4959978, 4757530, 4723789, 5162426, 4993720, 5129906, 5129906, 5342178, 4882255, 4953012, 4917634, 5660586, 5165284, 4316196, 5023770, 4634604, 5554450, 4245439, 5448314, 5802100, 6622799, 5988701, 5389831, 5248920, 5002327, 5213693, 5812563, 4861416, 6939848, 6094384, 6235295, 5530742, 5559050, 5079132, 6518886, 5918988, 6598872, 5958981, 6478893, 6158947, 6398906, 6878824, 7118783, 5918988, 5878995, 6585327, 6414280, 6713613, 6285994, 6200471, 6371518, 6499804, 5901138, 7654374, 7568850, 5986661, 6542566, 7012946, 6333395, 6149818, 6608760, 6195712, 6792336, 5966241, 6975913, 5966241, 8215055, 6838231, 6930019, 5966241, 5277829, 4084581, 7297172, 4459278, 4459278, 4635883, 6843446, 5695513, 6578538, 7417412, 7196656, 7682320, 7240807, 6799294, 7726471, 8697799, 7430761, 8072925, 8027056, 7751843, 6329907, 7981187, 8623352, 8715090, 7981187, 8256401, 7751843, 8072925, 6965995, 8556656, 6417492, 9653663, 7624200, 9105159, 7953302, 6856295, 7569349, 8063003, 9708513, 9269710, 7569349, 7130547, 8380132, 10223761, 7486251, 6983443, 8882940, 8827072, 10167894, 8994675, 8938808, 7765589, 8547735, 7597986, 7877324, 11601113, 10351762, 9756834, 8983426, 10589734, 10649227, 9102412, 10827706, 10173284, 9935312], [9, 10, 10, 10, 10, 10, 11, 10, 11, 12, 12, 12, 12, 12, 12, 11, 13, 15, 14, 14, 15, 14, 14, 14, 16, 17, 17, 16, 16, 18, 17, 18, 19, 20, 21, 24, 23, 24, 23, 21, 23, 23, 24, 29, 22, 21, 19, 20, 20, 24, 25, 22, 22, 21, 22, 24, 24, 25, 20, 19, 22, 20, 21, 25, 32, 24, 22, 23, 23, 21, 26, 25, 25, 21, 23, 21, 19, 18, 21, 19, 20, 18, 28, 22, 27, 34, 27, 21, 21, 25, 23, 27, 29, 25, 40, 26, 24, 29, 31, 30, 28, 28, 24, 25, 26, 28, 32, 31, 31, 31, 32, 29, 34, 36, 30, 30, 33, 35, 35, 33, 38, 39, 38, 42, 41, 44, 45, 52, 41, 44, 39, 45, 37, 45, 42, 39, 41, 38, 29, 29, 37, 44, 33, 30, 27, 33, 30, 40, 38, 30, 28, 32, 36, 37, 37, 37, 31, 37, 33, 27, 33, 39, 46, 35, 34, 31, 38, 36, 39, 52, 43, 38, 35, 39, 46, 40, 50, 43, 36], [3119179, 2720216, 2878278, 3149553, 2760373, 3500746, 2779170, 3610789, 3505620, 4062173, 3715394, 3665041, 3468077, 3731718, 3885821, 4018028, 4090703, 3356332, 4241264, 3986175, 4746880, 4862317, 4331490, 4499105, 5668946, 5524488, 5871334, 5119620, 5121737, 5262057, 5260814, 6132064, 5808558, 6245229, 5437775, 7190853, 5967105, 6586584, 6705146, 7060708, 6905690, 6408509, 5916953, 6255384, 5779114, 5967684, 5217093, 5540766, 5304594, 5461151, 5066180, 5761788, 5639440, 5729388, 5791396, 6125532, 5333680, 4323782, 5067818, 4893545, 5859694, 4529058, 5463199, 5415823, 6165437, 5975339, 5536125, 5284211, 5092047, 5027244, 5589288, 4618491, 6117733, 5418690, 5595773, 4943868, 4133223, 3915180, 4114452, 4307538, 5135591, 4503487, 6303560, 5613835, 5890365, 5998935, 6381473, 4978580, 4829128, 5348203, 5563273, 5536230, 5226926, 5550845, 5102353, 5295684, 5009853, 6553817, 7255240, 5802572, 6700312, 7395324, 6117049, 6163928, 7130611, 7067967, 8147957, 7782196, 9146734, 8320553, 10849951, 8775120, 8768358, 7392849, 6787387, 5749752, 10230715, 6929316, 7153228, 7319122, 9642616, 8451776, 10384095, 11046351, 11260487, 12131998, 10374578, 9700710, 10527922, 11928774, 10290919, 11050159, 10028960, 9554034, 7845878, 9592187, 10193192, 9617967, 7489085, 8227898, 8161423, 8368700, 6960685, 8091884, 6147322, 8287404, 6520223, 7983282, 6815446, 6522957, 7065925, 8033184, 9528010, 9047637, 7690943, 7369622, 8729899, 10134350, 7436308, 7204664, 8954116, 8787393, 10645076, 9983564, 10009312, 8773874, 10754101, 10610179, 11022592, 14217107, 13050105, 12204887, 11106218, 13368297, 13875337, 12037733, 14108349, 13224118, 12165126], [256, 199, 228, 273, 247, 307, 261, 297, 277, 316, 303, 303, 280, 322, 301, 297, 327, 343, 486, 392, 443, 388, 353, 407, 468, 473, 499, 470, 529, 421, 495, 588, 570, 569, 470, 546, 442, 475, 511, 668, 491, 456, 391, 356, 410, 479, 455, 435, 375, 311, 278, 387, 388, 463, 447, 339, 307, 259, 375, 368, 386, 341, 357, 255, 198, 283, 294, 226, 242, 241, 192, 157, 206, 208, 222, 211, 215, 378, 167, 198, 225, 202, 229, 250, 171, 125, 167, 168, 168, 166, 188, 156, 138, 195, 76, 131, 124, 113, 114, 88, 122, 159, 158, 193, 235, 211, 190, 249, 350, 348, 365, 338, 266, 209, 298, 334, 542, 386, 426, 425, 359, 378, 462, 388, 413, 383, 290, 239, 325, 282, 273, 257, 218, 145, 143, 160, 149, 134, 154, 13, 120, 99, 168, 174, 146, 136, 117, 100, 84, 147, 150, 143, 134, 115, 101, 119, 180, 153, 137, 160, 149, 108, 112, 149, 167, 148, 174, 282, 228, 163, 193, 209, 192, 192, 162, 168, 155, 186, 200]]}, \"domain\": {\"x\": [0.0, 1.0], \"y\": [0.7, 1.0]}, \"header\": {\"align\": \"left\", \"font\": {\"size\": 10}, \"values\": [\"Date\", \"Number<br>Transactions\", \"Output<br>Volume (BTC)\", \"Market<br>Price\", \"Hash<br>Rate\", \"Cost per<br>trans-USD\", \"Mining<br>Revenue-USD\", \"Trasaction<br>fees-BTC\"]}, \"type\": \"table\"}],\n",
       "                        {\"height\": 800, \"showlegend\": false, \"template\": {\"data\": {\"bar\": [{\"error_x\": {\"color\": \"#2a3f5f\"}, \"error_y\": {\"color\": \"#2a3f5f\"}, \"marker\": {\"line\": {\"color\": \"#E5ECF6\", \"width\": 0.5}}, \"type\": \"bar\"}], \"barpolar\": [{\"marker\": {\"line\": {\"color\": \"#E5ECF6\", \"width\": 0.5}}, \"type\": \"barpolar\"}], \"carpet\": [{\"aaxis\": {\"endlinecolor\": \"#2a3f5f\", \"gridcolor\": \"white\", \"linecolor\": \"white\", \"minorgridcolor\": \"white\", \"startlinecolor\": \"#2a3f5f\"}, \"baxis\": {\"endlinecolor\": \"#2a3f5f\", \"gridcolor\": \"white\", \"linecolor\": \"white\", \"minorgridcolor\": \"white\", \"startlinecolor\": \"#2a3f5f\"}, \"type\": \"carpet\"}], \"choropleth\": [{\"colorbar\": {\"outlinewidth\": 0, \"ticks\": \"\"}, \"type\": \"choropleth\"}], \"contour\": [{\"colorbar\": {\"outlinewidth\": 0, \"ticks\": \"\"}, \"colorscale\": [[0.0, \"#0d0887\"], [0.1111111111111111, \"#46039f\"], [0.2222222222222222, \"#7201a8\"], [0.3333333333333333, \"#9c179e\"], [0.4444444444444444, \"#bd3786\"], [0.5555555555555556, \"#d8576b\"], [0.6666666666666666, \"#ed7953\"], [0.7777777777777778, \"#fb9f3a\"], [0.8888888888888888, \"#fdca26\"], [1.0, \"#f0f921\"]], \"type\": \"contour\"}], \"contourcarpet\": [{\"colorbar\": {\"outlinewidth\": 0, \"ticks\": \"\"}, \"type\": \"contourcarpet\"}], \"heatmap\": [{\"colorbar\": {\"outlinewidth\": 0, \"ticks\": \"\"}, \"colorscale\": [[0.0, \"#0d0887\"], [0.1111111111111111, \"#46039f\"], [0.2222222222222222, \"#7201a8\"], [0.3333333333333333, \"#9c179e\"], [0.4444444444444444, \"#bd3786\"], [0.5555555555555556, \"#d8576b\"], [0.6666666666666666, \"#ed7953\"], [0.7777777777777778, \"#fb9f3a\"], [0.8888888888888888, \"#fdca26\"], [1.0, \"#f0f921\"]], \"type\": \"heatmap\"}], \"heatmapgl\": [{\"colorbar\": {\"outlinewidth\": 0, \"ticks\": \"\"}, \"colorscale\": [[0.0, \"#0d0887\"], [0.1111111111111111, \"#46039f\"], [0.2222222222222222, \"#7201a8\"], [0.3333333333333333, \"#9c179e\"], [0.4444444444444444, \"#bd3786\"], [0.5555555555555556, \"#d8576b\"], [0.6666666666666666, \"#ed7953\"], [0.7777777777777778, \"#fb9f3a\"], [0.8888888888888888, \"#fdca26\"], [1.0, \"#f0f921\"]], \"type\": \"heatmapgl\"}], \"histogram\": [{\"marker\": {\"colorbar\": {\"outlinewidth\": 0, \"ticks\": \"\"}}, \"type\": \"histogram\"}], \"histogram2d\": [{\"colorbar\": {\"outlinewidth\": 0, \"ticks\": \"\"}, \"colorscale\": [[0.0, \"#0d0887\"], [0.1111111111111111, \"#46039f\"], [0.2222222222222222, \"#7201a8\"], [0.3333333333333333, \"#9c179e\"], [0.4444444444444444, \"#bd3786\"], [0.5555555555555556, \"#d8576b\"], [0.6666666666666666, \"#ed7953\"], [0.7777777777777778, \"#fb9f3a\"], [0.8888888888888888, \"#fdca26\"], [1.0, \"#f0f921\"]], \"type\": \"histogram2d\"}], \"histogram2dcontour\": [{\"colorbar\": {\"outlinewidth\": 0, \"ticks\": \"\"}, \"colorscale\": [[0.0, \"#0d0887\"], [0.1111111111111111, \"#46039f\"], [0.2222222222222222, \"#7201a8\"], [0.3333333333333333, \"#9c179e\"], [0.4444444444444444, \"#bd3786\"], [0.5555555555555556, \"#d8576b\"], [0.6666666666666666, \"#ed7953\"], [0.7777777777777778, \"#fb9f3a\"], [0.8888888888888888, \"#fdca26\"], [1.0, \"#f0f921\"]], \"type\": \"histogram2dcontour\"}], \"mesh3d\": [{\"colorbar\": {\"outlinewidth\": 0, \"ticks\": \"\"}, \"type\": \"mesh3d\"}], \"parcoords\": [{\"line\": {\"colorbar\": {\"outlinewidth\": 0, \"ticks\": \"\"}}, \"type\": \"parcoords\"}], \"scatter\": [{\"marker\": {\"colorbar\": {\"outlinewidth\": 0, \"ticks\": \"\"}}, \"type\": \"scatter\"}], \"scatter3d\": [{\"line\": {\"colorbar\": {\"outlinewidth\": 0, \"ticks\": \"\"}}, \"marker\": {\"colorbar\": {\"outlinewidth\": 0, \"ticks\": \"\"}}, \"type\": \"scatter3d\"}], \"scattercarpet\": [{\"marker\": {\"colorbar\": {\"outlinewidth\": 0, \"ticks\": \"\"}}, \"type\": \"scattercarpet\"}], \"scattergeo\": [{\"marker\": {\"colorbar\": {\"outlinewidth\": 0, \"ticks\": \"\"}}, \"type\": \"scattergeo\"}], \"scattergl\": [{\"marker\": {\"colorbar\": {\"outlinewidth\": 0, \"ticks\": \"\"}}, \"type\": \"scattergl\"}], \"scattermapbox\": [{\"marker\": {\"colorbar\": {\"outlinewidth\": 0, \"ticks\": \"\"}}, \"type\": \"scattermapbox\"}], \"scatterpolar\": [{\"marker\": {\"colorbar\": {\"outlinewidth\": 0, \"ticks\": \"\"}}, \"type\": \"scatterpolar\"}], \"scatterpolargl\": [{\"marker\": {\"colorbar\": {\"outlinewidth\": 0, \"ticks\": \"\"}}, \"type\": \"scatterpolargl\"}], \"scatterternary\": [{\"marker\": {\"colorbar\": {\"outlinewidth\": 0, \"ticks\": \"\"}}, \"type\": \"scatterternary\"}], \"surface\": [{\"colorbar\": {\"outlinewidth\": 0, \"ticks\": \"\"}, \"colorscale\": [[0.0, \"#0d0887\"], [0.1111111111111111, \"#46039f\"], [0.2222222222222222, \"#7201a8\"], [0.3333333333333333, \"#9c179e\"], [0.4444444444444444, \"#bd3786\"], [0.5555555555555556, \"#d8576b\"], [0.6666666666666666, \"#ed7953\"], [0.7777777777777778, \"#fb9f3a\"], [0.8888888888888888, \"#fdca26\"], [1.0, \"#f0f921\"]], \"type\": \"surface\"}], \"table\": [{\"cells\": {\"fill\": {\"color\": \"#EBF0F8\"}, \"line\": {\"color\": \"white\"}}, \"header\": {\"fill\": {\"color\": \"#C8D4E3\"}, \"line\": {\"color\": \"white\"}}, \"type\": \"table\"}]}, \"layout\": {\"annotationdefaults\": {\"arrowcolor\": \"#2a3f5f\", \"arrowhead\": 0, \"arrowwidth\": 1}, \"colorscale\": {\"diverging\": [[0, \"#8e0152\"], [0.1, \"#c51b7d\"], [0.2, \"#de77ae\"], [0.3, \"#f1b6da\"], [0.4, \"#fde0ef\"], [0.5, \"#f7f7f7\"], [0.6, \"#e6f5d0\"], [0.7, \"#b8e186\"], [0.8, \"#7fbc41\"], [0.9, \"#4d9221\"], [1, \"#276419\"]], \"sequential\": [[0.0, \"#0d0887\"], [0.1111111111111111, \"#46039f\"], [0.2222222222222222, \"#7201a8\"], [0.3333333333333333, \"#9c179e\"], [0.4444444444444444, \"#bd3786\"], [0.5555555555555556, \"#d8576b\"], [0.6666666666666666, \"#ed7953\"], [0.7777777777777778, \"#fb9f3a\"], [0.8888888888888888, \"#fdca26\"], [1.0, \"#f0f921\"]], \"sequentialminus\": [[0.0, \"#0d0887\"], [0.1111111111111111, \"#46039f\"], [0.2222222222222222, \"#7201a8\"], [0.3333333333333333, \"#9c179e\"], [0.4444444444444444, \"#bd3786\"], [0.5555555555555556, \"#d8576b\"], [0.6666666666666666, \"#ed7953\"], [0.7777777777777778, \"#fb9f3a\"], [0.8888888888888888, \"#fdca26\"], [1.0, \"#f0f921\"]]}, \"colorway\": [\"#636efa\", \"#EF553B\", \"#00cc96\", \"#ab63fa\", \"#FFA15A\", \"#19d3f3\", \"#FF6692\", \"#B6E880\", \"#FF97FF\", \"#FECB52\"], \"font\": {\"color\": \"#2a3f5f\"}, \"geo\": {\"bgcolor\": \"white\", \"lakecolor\": \"white\", \"landcolor\": \"#E5ECF6\", \"showlakes\": true, \"showland\": true, \"subunitcolor\": \"white\"}, \"hoverlabel\": {\"align\": \"left\"}, \"hovermode\": \"closest\", \"mapbox\": {\"style\": \"light\"}, \"paper_bgcolor\": \"white\", \"plot_bgcolor\": \"#E5ECF6\", \"polar\": {\"angularaxis\": {\"gridcolor\": \"white\", \"linecolor\": \"white\", \"ticks\": \"\"}, \"bgcolor\": \"#E5ECF6\", \"radialaxis\": {\"gridcolor\": \"white\", \"linecolor\": \"white\", \"ticks\": \"\"}}, \"scene\": {\"xaxis\": {\"backgroundcolor\": \"#E5ECF6\", \"gridcolor\": \"white\", \"gridwidth\": 2, \"linecolor\": \"white\", \"showbackground\": true, \"ticks\": \"\", \"zerolinecolor\": \"white\"}, \"yaxis\": {\"backgroundcolor\": \"#E5ECF6\", \"gridcolor\": \"white\", \"gridwidth\": 2, \"linecolor\": \"white\", \"showbackground\": true, \"ticks\": \"\", \"zerolinecolor\": \"white\"}, \"zaxis\": {\"backgroundcolor\": \"#E5ECF6\", \"gridcolor\": \"white\", \"gridwidth\": 2, \"linecolor\": \"white\", \"showbackground\": true, \"ticks\": \"\", \"zerolinecolor\": \"white\"}}, \"shapedefaults\": {\"line\": {\"color\": \"#2a3f5f\"}}, \"ternary\": {\"aaxis\": {\"gridcolor\": \"white\", \"linecolor\": \"white\", \"ticks\": \"\"}, \"baxis\": {\"gridcolor\": \"white\", \"linecolor\": \"white\", \"ticks\": \"\"}, \"bgcolor\": \"#E5ECF6\", \"caxis\": {\"gridcolor\": \"white\", \"linecolor\": \"white\", \"ticks\": \"\"}}, \"title\": {\"x\": 0.05}, \"xaxis\": {\"automargin\": true, \"gridcolor\": \"white\", \"linecolor\": \"white\", \"ticks\": \"\", \"zerolinecolor\": \"white\", \"zerolinewidth\": 2}, \"yaxis\": {\"automargin\": true, \"gridcolor\": \"white\", \"linecolor\": \"white\", \"ticks\": \"\", \"zerolinecolor\": \"white\", \"zerolinewidth\": 2}}}, \"title\": {\"text\": \"Bitcoin mining stats for 180 days\"}, \"xaxis\": {\"rangeselector\": {\"buttons\": [{\"count\": 1, \"label\": \"1m\", \"step\": \"month\", \"stepmode\": \"backward\"}, {\"count\": 6, \"label\": \"6m\", \"step\": \"month\", \"stepmode\": \"backward\"}, {\"count\": 1, \"label\": \"YTD\", \"step\": \"year\", \"stepmode\": \"todate\"}, {\"count\": 1, \"label\": \"1y\", \"step\": \"year\", \"stepmode\": \"backward\"}, {\"step\": \"all\"}]}, \"rangeslider\": {\"visible\": true}, \"type\": \"date\"}, \"xaxis2\": {\"anchor\": \"y2\", \"domain\": [0.0, 1.0]}, \"yaxis\": {\"anchor\": \"x\", \"domain\": [0.35, 0.6499999999999999]}, \"yaxis2\": {\"anchor\": \"x2\", \"domain\": [0.0, 0.3]}},\n",
       "                        {\"responsive\": true}\n",
       "                    ).then(function(){\n",
       "                            \n",
       "var gd = document.getElementById('dabec284-0b97-4161-9fd1-93148fa10487');\n",
       "var x = new MutationObserver(function (mutations, observer) {{\n",
       "        var display = window.getComputedStyle(gd).display;\n",
       "        if (!display || display === 'none') {{\n",
       "            console.log([gd, 'removed!']);\n",
       "            Plotly.purge(gd);\n",
       "            observer.disconnect();\n",
       "        }}\n",
       "}});\n",
       "\n",
       "// Listen for the removal of the full notebook cells\n",
       "var notebookContainer = gd.closest('#notebook-container');\n",
       "if (notebookContainer) {{\n",
       "    x.observe(notebookContainer, {childList: true});\n",
       "}}\n",
       "\n",
       "// Listen for the clearing of the current output cell\n",
       "var outputEl = gd.closest('.output');\n",
       "if (outputEl) {{\n",
       "    x.observe(outputEl, {childList: true});\n",
       "}}\n",
       "\n",
       "                        })\n",
       "                };\n",
       "                });\n",
       "            </script>\n",
       "        </div>"
      ]
     },
     "metadata": {},
     "output_type": "display_data"
    }
   ],
   "source": [
    "import plotly.graph_objects as go\n",
    "from plotly.subplots import make_subplots\n",
    "\n",
    "import pandas as pd\n",
    "import re\n",
    "\n",
    "df = pd.read_csv(\"https://raw.githubusercontent.com/plotly/datasets/master/Mining-BTC-180.csv\")\n",
    "\n",
    "for i, row in enumerate(df[\"Date\"]):\n",
    "    p = re.compile(\" 00:00:00\")\n",
    "    datetime = p.split(df[\"Date\"][i])[0]\n",
    "    df.iloc[i, 1] = datetime\n",
    "\n",
    "fig = make_subplots(\n",
    "    rows=3, cols=1,\n",
    "    shared_xaxes=True,\n",
    "    vertical_spacing=0.05,\n",
    "    specs=[[{\"type\": \"table\"}],\n",
    "           [{\"type\": \"scatter\"}],\n",
    "           [{\"type\": \"scatter\"}]]\n",
    ")\n",
    "\n",
    "fig.add_trace(\n",
    "    go.Scatter(\n",
    "        x=df[\"Date\"],\n",
    "        y=df[\"Mining-revenue-USD\"],\n",
    "        mode=\"lines\",\n",
    "        name=\"mining revenue\"\n",
    "    ),\n",
    "    row=3, col=1\n",
    ")\n",
    "\n",
    "fig.add_trace(\n",
    "    go.Scatter(\n",
    "        x=df[\"Date\"],\n",
    "        y=df[\"Hash-rate\"],\n",
    "        mode=\"lines\",\n",
    "        name=\"hash-rate-TH/s\"\n",
    "    ),\n",
    "    row=2, col=1\n",
    ")\n",
    "\n",
    "fig.add_trace(\n",
    "    go.Table(\n",
    "        header=dict(\n",
    "            values=[\"Date\", \"Number<br>Transactions\", \"Output<br>Volume (BTC)\",\n",
    "                    \"Market<br>Price\", \"Hash<br>Rate\", \"Cost per<br>trans-USD\",\n",
    "                    \"Mining<br>Revenue-USD\", \"Trasaction<br>fees-BTC\"],\n",
    "            font=dict(size=10),\n",
    "            align=\"left\"\n",
    "        ),\n",
    "        cells=dict(\n",
    "            values=[df[k].tolist() for k in df.columns[1:]],\n",
    "            align = \"left\")\n",
    "    ),\n",
    "    row=1, col=1\n",
    ")\n",
    "fig.update_layout(\n",
    "    height=800,\n",
    "    showlegend=False,\n",
    "    title_text=\"Bitcoin mining stats for 180 days\",\n",
    ")\n",
    "\n",
    "fig.update_layout(\n",
    "    xaxis=go.layout.XAxis(\n",
    "        rangeselector=dict(\n",
    "            buttons=list([\n",
    "                dict(count=1,\n",
    "                     label=\"1m\",\n",
    "                     step=\"month\",\n",
    "                     stepmode=\"backward\"),\n",
    "                dict(count=6,\n",
    "                     label=\"6m\",\n",
    "                     step=\"month\",\n",
    "                     stepmode=\"backward\"),\n",
    "                dict(count=1,\n",
    "                     label=\"YTD\",\n",
    "                     step=\"year\",\n",
    "                     stepmode=\"todate\"),\n",
    "                dict(count=1,\n",
    "                     label=\"1y\",\n",
    "                     step=\"year\",\n",
    "                     stepmode=\"backward\"),\n",
    "                dict(step=\"all\")\n",
    "            ])\n",
    "        ),\n",
    "        rangeslider=dict(\n",
    "            visible=True\n",
    "        ),\n",
    "        type=\"date\"\n",
    "    )\n",
    ")\n",
    "\n",
    "fig.show()"
   ]
  },
  {
   "cell_type": "code",
   "execution_count": 232,
   "metadata": {},
   "outputs": [],
   "source": [
    "import pandas as pd\n",
    "import math\n",
    "import numpy as np\n",
    "from datetime import datetime\n"
   ]
  },
  {
   "cell_type": "code",
   "execution_count": 223,
   "metadata": {},
   "outputs": [],
   "source": [
    "datam=pd.read_csv(\"https://raw.githubusercontent.com/adomakor412/GOEScode/master/G17series.csv\")"
   ]
  },
  {
   "cell_type": "code",
   "execution_count": 224,
   "metadata": {},
   "outputs": [
    {
     "data": {
      "text/html": [
       "<div>\n",
       "<style scoped>\n",
       "    .dataframe tbody tr th:only-of-type {\n",
       "        vertical-align: middle;\n",
       "    }\n",
       "\n",
       "    .dataframe tbody tr th {\n",
       "        vertical-align: top;\n",
       "    }\n",
       "\n",
       "    .dataframe thead th {\n",
       "        text-align: right;\n",
       "    }\n",
       "</style>\n",
       "<table border=\"1\" class=\"dataframe\">\n",
       "  <thead>\n",
       "    <tr style=\"text-align: right;\">\n",
       "      <th></th>\n",
       "      <th>Time (DDDHHmm)</th>\n",
       "      <th>Mean_temp (K)</th>\n",
       "    </tr>\n",
       "  </thead>\n",
       "  <tbody>\n",
       "    <tr>\n",
       "      <th>0</th>\n",
       "      <td>980000</td>\n",
       "      <td>245.561275</td>\n",
       "    </tr>\n",
       "    <tr>\n",
       "      <th>1</th>\n",
       "      <td>980010</td>\n",
       "      <td>245.558059</td>\n",
       "    </tr>\n",
       "    <tr>\n",
       "      <th>2</th>\n",
       "      <td>980020</td>\n",
       "      <td>245.538837</td>\n",
       "    </tr>\n",
       "    <tr>\n",
       "      <th>3</th>\n",
       "      <td>980030</td>\n",
       "      <td>245.536960</td>\n",
       "    </tr>\n",
       "    <tr>\n",
       "      <th>4</th>\n",
       "      <td>980040</td>\n",
       "      <td>245.529038</td>\n",
       "    </tr>\n",
       "  </tbody>\n",
       "</table>\n",
       "</div>"
      ],
      "text/plain": [
       "   Time (DDDHHmm)  Mean_temp (K)\n",
       "0          980000     245.561275\n",
       "1          980010     245.558059\n",
       "2          980020     245.538837\n",
       "3          980030     245.536960\n",
       "4          980040     245.529038"
      ]
     },
     "execution_count": 224,
     "metadata": {},
     "output_type": "execute_result"
    }
   ],
   "source": [
    "datam.head()"
   ]
  },
  {
   "cell_type": "code",
   "execution_count": 225,
   "metadata": {},
   "outputs": [],
   "source": [
    "datam[\"day\"]=np.floor(datam[\"Time (DDDHHmm)\"]/10000)"
   ]
  },
  {
   "cell_type": "code",
   "execution_count": 226,
   "metadata": {},
   "outputs": [],
   "source": [
    "datam[\"hourminute\"]=np.mod(datam[\"Time (DDDHHmm)\"],10000)"
   ]
  },
  {
   "cell_type": "code",
   "execution_count": 227,
   "metadata": {},
   "outputs": [],
   "source": [
    "datam[\"hourminute\"]=datam[\"hourminute\"].astype(str)\n",
    "datam[\"hourminute\"]=datam[\"hourminute\"].str.zfill(4)"
   ]
  },
  {
   "cell_type": "code",
   "execution_count": 228,
   "metadata": {},
   "outputs": [
    {
     "name": "stdout",
     "output_type": "stream",
     "text": [
      "   Time (DDDHHmm)  Mean_temp (K)   day hourminute\n",
      "0          980000     245.561275  98.0       0000\n",
      "1          980010     245.558059  98.0       0010\n",
      "2          980020     245.538837  98.0       0020\n",
      "3          980030     245.536960  98.0       0030\n",
      "4          980040     245.529038  98.0       0040\n"
     ]
    }
   ],
   "source": [
    "print(datam.head())"
   ]
  },
  {
   "cell_type": "code",
   "execution_count": 229,
   "metadata": {},
   "outputs": [],
   "source": [
    "datam[\"mydate\"]=\"\""
   ]
  },
  {
   "cell_type": "code",
   "execution_count": 230,
   "metadata": {},
   "outputs": [],
   "source": [
    "n=0\n",
    "for i in datam[\"day\"]: \n",
    "    datam[\"mydate\"].iloc[n]=datetime.datetime(2019, 1, 1) + datetime.timedelta(i - 1)\n",
    "    n+=1\n",
    "    "
   ]
  },
  {
   "cell_type": "code",
   "execution_count": 231,
   "metadata": {},
   "outputs": [
    {
     "name": "stdout",
     "output_type": "stream",
     "text": [
      "      Time (DDDHHmm)  Mean_temp (K)    day hourminute               mydate\n",
      "0             980000     245.561275   98.0       0000  2019-04-08 00:00:00\n",
      "1             980010     245.558059   98.0       0010  2019-04-08 00:00:00\n",
      "2             980020     245.538837   98.0       0020  2019-04-08 00:00:00\n",
      "3             980030     245.536960   98.0       0030  2019-04-08 00:00:00\n",
      "4             980040     245.529038   98.0       0040  2019-04-08 00:00:00\n",
      "5             980050     245.516975   98.0       0050  2019-04-08 00:00:00\n",
      "6             980100     245.493838   98.0       0100  2019-04-08 00:00:00\n",
      "7             980110     245.486039   98.0       0110  2019-04-08 00:00:00\n",
      "8             980120     245.463178   98.0       0120  2019-04-08 00:00:00\n",
      "9             980130     245.463938   98.0       0130  2019-04-08 00:00:00\n",
      "10            980140     245.426267   98.0       0140  2019-04-08 00:00:00\n",
      "11            980150     245.405975   98.0       0150  2019-04-08 00:00:00\n",
      "12            980200     245.387082   98.0       0200  2019-04-08 00:00:00\n",
      "13            980210     245.370574   98.0       0210  2019-04-08 00:00:00\n",
      "14            980220     245.352050   98.0       0220  2019-04-08 00:00:00\n",
      "15            980230     245.325357   98.0       0230  2019-04-08 00:00:00\n",
      "16            980240     245.299951   98.0       0240  2019-04-08 00:00:00\n",
      "17            980250     245.266436   98.0       0250  2019-04-08 00:00:00\n",
      "18            980300     245.250831   98.0       0300  2019-04-08 00:00:00\n",
      "19            980310     245.220927   98.0       0310  2019-04-08 00:00:00\n",
      "20            980320     245.190983   98.0       0320  2019-04-08 00:00:00\n",
      "21            980330     245.156694   98.0       0330  2019-04-08 00:00:00\n",
      "22            980340     245.125937   98.0       0340  2019-04-08 00:00:00\n",
      "23            980350     245.090853   98.0       0350  2019-04-08 00:00:00\n",
      "24            980400     245.062636   98.0       0400  2019-04-08 00:00:00\n",
      "25            980410     245.037738   98.0       0410  2019-04-08 00:00:00\n",
      "26            980420     245.012789   98.0       0420  2019-04-08 00:00:00\n",
      "27            980430     244.991104   98.0       0430  2019-04-08 00:00:00\n",
      "28            980440     244.967977   98.0       0440  2019-04-08 00:00:00\n",
      "29            980450     244.942426   98.0       0450  2019-04-08 00:00:00\n",
      "...              ...            ...    ...        ...                  ...\n",
      "1533         1081900     239.873893  108.0       1900  2019-04-18 00:00:00\n",
      "1534         1081910     239.874855  108.0       1910  2019-04-18 00:00:00\n",
      "1535         1081920     239.880758  108.0       1920  2019-04-18 00:00:00\n",
      "1536         1081930     239.869837  108.0       1930  2019-04-18 00:00:00\n",
      "1537         1081940     239.868269  108.0       1940  2019-04-18 00:00:00\n",
      "1538         1081950     239.859753  108.0       1950  2019-04-18 00:00:00\n",
      "1539         1082000     239.856996  108.0       2000  2019-04-18 00:00:00\n",
      "1540         1082010     239.867536  108.0       2010  2019-04-18 00:00:00\n",
      "1541         1082020     239.866073  108.0       2020  2019-04-18 00:00:00\n",
      "1542         1082030     239.876097  108.0       2030  2019-04-18 00:00:00\n",
      "1543         1082040     239.884239  108.0       2040  2019-04-18 00:00:00\n",
      "1544         1082050     239.893285  108.0       2050  2019-04-18 00:00:00\n",
      "1545         1082100     239.908621  108.0       2100  2019-04-18 00:00:00\n",
      "1546         1082110     239.788877  108.0       2110  2019-04-18 00:00:00\n",
      "1547         1082120     239.797885  108.0       2120  2019-04-18 00:00:00\n",
      "1548         1082130     239.815614  108.0       2130  2019-04-18 00:00:00\n",
      "1549         1082140     239.821398  108.0       2140  2019-04-18 00:00:00\n",
      "1550         1082150     239.835242  108.0       2150  2019-04-18 00:00:00\n",
      "1551         1082200     239.836796  108.0       2200  2019-04-18 00:00:00\n",
      "1552         1082210     239.856109  108.0       2210  2019-04-18 00:00:00\n",
      "1553         1082220     239.864200  108.0       2220  2019-04-18 00:00:00\n",
      "1554         1082230     239.865123  108.0       2230  2019-04-18 00:00:00\n",
      "1555         1082240     239.869411  108.0       2240  2019-04-18 00:00:00\n",
      "1556         1082250     239.883551  108.0       2250  2019-04-18 00:00:00\n",
      "1557         1082300     239.889659  108.0       2300  2019-04-18 00:00:00\n",
      "1558         1082310     239.901212  108.0       2310  2019-04-18 00:00:00\n",
      "1559         1082320     239.932326  108.0       2320  2019-04-18 00:00:00\n",
      "1560         1082330     239.914774  108.0       2330  2019-04-18 00:00:00\n",
      "1561         1082340     239.934013  108.0       2340  2019-04-18 00:00:00\n",
      "1562         1082350     239.940898  108.0       2350  2019-04-18 00:00:00\n",
      "\n",
      "[1563 rows x 5 columns]\n"
     ]
    }
   ],
   "source": [
    "print(datam)"
   ]
  },
  {
   "cell_type": "code",
   "execution_count": 233,
   "metadata": {},
   "outputs": [],
   "source": [
    "datam[\"hourminute\"]=[datetime.strptime(x, \"%H%M\") for x in datam[\"hourminute\"]]"
   ]
  },
  {
   "cell_type": "code",
   "execution_count": 234,
   "metadata": {},
   "outputs": [],
   "source": [
    "datam[\"hourminute\"]=[x.strftime ('%H-%M-%S') for x in datam[\"hourminute\"]]"
   ]
  },
  {
   "cell_type": "code",
   "execution_count": 235,
   "metadata": {},
   "outputs": [],
   "source": [
    "datam[\"mydate\"]=[x.date() for x in datam[\"mydate\"]]\n"
   ]
  },
  {
   "cell_type": "code",
   "execution_count": 236,
   "metadata": {},
   "outputs": [],
   "source": [
    "datam[\"mydate\"]=[x.strftime ('%Y-%m-%d') for x in datam[\"mydate\"]]"
   ]
  },
  {
   "cell_type": "code",
   "execution_count": 237,
   "metadata": {},
   "outputs": [
    {
     "name": "stdout",
     "output_type": "stream",
     "text": [
      "      Time (DDDHHmm)  Mean_temp (K)    day hourminute      mydate\n",
      "0             980000     245.561275   98.0   00-00-00  2019-04-08\n",
      "1             980010     245.558059   98.0   00-10-00  2019-04-08\n",
      "2             980020     245.538837   98.0   00-20-00  2019-04-08\n",
      "3             980030     245.536960   98.0   00-30-00  2019-04-08\n",
      "4             980040     245.529038   98.0   00-40-00  2019-04-08\n",
      "5             980050     245.516975   98.0   00-50-00  2019-04-08\n",
      "6             980100     245.493838   98.0   01-00-00  2019-04-08\n",
      "7             980110     245.486039   98.0   01-10-00  2019-04-08\n",
      "8             980120     245.463178   98.0   01-20-00  2019-04-08\n",
      "9             980130     245.463938   98.0   01-30-00  2019-04-08\n",
      "10            980140     245.426267   98.0   01-40-00  2019-04-08\n",
      "11            980150     245.405975   98.0   01-50-00  2019-04-08\n",
      "12            980200     245.387082   98.0   02-00-00  2019-04-08\n",
      "13            980210     245.370574   98.0   02-10-00  2019-04-08\n",
      "14            980220     245.352050   98.0   02-20-00  2019-04-08\n",
      "15            980230     245.325357   98.0   02-30-00  2019-04-08\n",
      "16            980240     245.299951   98.0   02-40-00  2019-04-08\n",
      "17            980250     245.266436   98.0   02-50-00  2019-04-08\n",
      "18            980300     245.250831   98.0   03-00-00  2019-04-08\n",
      "19            980310     245.220927   98.0   03-10-00  2019-04-08\n",
      "20            980320     245.190983   98.0   03-20-00  2019-04-08\n",
      "21            980330     245.156694   98.0   03-30-00  2019-04-08\n",
      "22            980340     245.125937   98.0   03-40-00  2019-04-08\n",
      "23            980350     245.090853   98.0   03-50-00  2019-04-08\n",
      "24            980400     245.062636   98.0   04-00-00  2019-04-08\n",
      "25            980410     245.037738   98.0   04-10-00  2019-04-08\n",
      "26            980420     245.012789   98.0   04-20-00  2019-04-08\n",
      "27            980430     244.991104   98.0   04-30-00  2019-04-08\n",
      "28            980440     244.967977   98.0   04-40-00  2019-04-08\n",
      "29            980450     244.942426   98.0   04-50-00  2019-04-08\n",
      "...              ...            ...    ...        ...         ...\n",
      "1533         1081900     239.873893  108.0   19-00-00  2019-04-18\n",
      "1534         1081910     239.874855  108.0   19-10-00  2019-04-18\n",
      "1535         1081920     239.880758  108.0   19-20-00  2019-04-18\n",
      "1536         1081930     239.869837  108.0   19-30-00  2019-04-18\n",
      "1537         1081940     239.868269  108.0   19-40-00  2019-04-18\n",
      "1538         1081950     239.859753  108.0   19-50-00  2019-04-18\n",
      "1539         1082000     239.856996  108.0   20-00-00  2019-04-18\n",
      "1540         1082010     239.867536  108.0   20-10-00  2019-04-18\n",
      "1541         1082020     239.866073  108.0   20-20-00  2019-04-18\n",
      "1542         1082030     239.876097  108.0   20-30-00  2019-04-18\n",
      "1543         1082040     239.884239  108.0   20-40-00  2019-04-18\n",
      "1544         1082050     239.893285  108.0   20-50-00  2019-04-18\n",
      "1545         1082100     239.908621  108.0   21-00-00  2019-04-18\n",
      "1546         1082110     239.788877  108.0   21-10-00  2019-04-18\n",
      "1547         1082120     239.797885  108.0   21-20-00  2019-04-18\n",
      "1548         1082130     239.815614  108.0   21-30-00  2019-04-18\n",
      "1549         1082140     239.821398  108.0   21-40-00  2019-04-18\n",
      "1550         1082150     239.835242  108.0   21-50-00  2019-04-18\n",
      "1551         1082200     239.836796  108.0   22-00-00  2019-04-18\n",
      "1552         1082210     239.856109  108.0   22-10-00  2019-04-18\n",
      "1553         1082220     239.864200  108.0   22-20-00  2019-04-18\n",
      "1554         1082230     239.865123  108.0   22-30-00  2019-04-18\n",
      "1555         1082240     239.869411  108.0   22-40-00  2019-04-18\n",
      "1556         1082250     239.883551  108.0   22-50-00  2019-04-18\n",
      "1557         1082300     239.889659  108.0   23-00-00  2019-04-18\n",
      "1558         1082310     239.901212  108.0   23-10-00  2019-04-18\n",
      "1559         1082320     239.932326  108.0   23-20-00  2019-04-18\n",
      "1560         1082330     239.914774  108.0   23-30-00  2019-04-18\n",
      "1561         1082340     239.934013  108.0   23-40-00  2019-04-18\n",
      "1562         1082350     239.940898  108.0   23-50-00  2019-04-18\n",
      "\n",
      "[1563 rows x 5 columns]\n"
     ]
    }
   ],
   "source": [
    "print(datam)"
   ]
  },
  {
   "cell_type": "code",
   "execution_count": 238,
   "metadata": {},
   "outputs": [],
   "source": [
    "datam[\"datetime\"]=datam.mydate.str.cat(datam.hourminute, sep=' ')"
   ]
  },
  {
   "cell_type": "code",
   "execution_count": 239,
   "metadata": {},
   "outputs": [],
   "source": [
    "datam=datam.drop([\"Time (DDDHHmm)\",\"day\",\"hourminute\",\"mydate\"], axis=1)"
   ]
  },
  {
   "cell_type": "code",
   "execution_count": 240,
   "metadata": {},
   "outputs": [],
   "source": [
    "datam[\"datetime\"]=pd.to_datetime(datam[\"datetime\"], format='%Y-%m-%d %H-%M-%S')"
   ]
  },
  {
   "cell_type": "code",
   "execution_count": 241,
   "metadata": {},
   "outputs": [
    {
     "name": "stdout",
     "output_type": "stream",
     "text": [
      "      Mean_temp (K)            datetime\n",
      "0        245.561275 2019-04-08 00:00:00\n",
      "1        245.558059 2019-04-08 00:10:00\n",
      "2        245.538837 2019-04-08 00:20:00\n",
      "3        245.536960 2019-04-08 00:30:00\n",
      "4        245.529038 2019-04-08 00:40:00\n",
      "5        245.516975 2019-04-08 00:50:00\n",
      "6        245.493838 2019-04-08 01:00:00\n",
      "7        245.486039 2019-04-08 01:10:00\n",
      "8        245.463178 2019-04-08 01:20:00\n",
      "9        245.463938 2019-04-08 01:30:00\n",
      "10       245.426267 2019-04-08 01:40:00\n",
      "11       245.405975 2019-04-08 01:50:00\n",
      "12       245.387082 2019-04-08 02:00:00\n",
      "13       245.370574 2019-04-08 02:10:00\n",
      "14       245.352050 2019-04-08 02:20:00\n",
      "15       245.325357 2019-04-08 02:30:00\n",
      "16       245.299951 2019-04-08 02:40:00\n",
      "17       245.266436 2019-04-08 02:50:00\n",
      "18       245.250831 2019-04-08 03:00:00\n",
      "19       245.220927 2019-04-08 03:10:00\n",
      "20       245.190983 2019-04-08 03:20:00\n",
      "21       245.156694 2019-04-08 03:30:00\n",
      "22       245.125937 2019-04-08 03:40:00\n",
      "23       245.090853 2019-04-08 03:50:00\n",
      "24       245.062636 2019-04-08 04:00:00\n",
      "25       245.037738 2019-04-08 04:10:00\n",
      "26       245.012789 2019-04-08 04:20:00\n",
      "27       244.991104 2019-04-08 04:30:00\n",
      "28       244.967977 2019-04-08 04:40:00\n",
      "29       244.942426 2019-04-08 04:50:00\n",
      "...             ...                 ...\n",
      "1533     239.873893 2019-04-18 19:00:00\n",
      "1534     239.874855 2019-04-18 19:10:00\n",
      "1535     239.880758 2019-04-18 19:20:00\n",
      "1536     239.869837 2019-04-18 19:30:00\n",
      "1537     239.868269 2019-04-18 19:40:00\n",
      "1538     239.859753 2019-04-18 19:50:00\n",
      "1539     239.856996 2019-04-18 20:00:00\n",
      "1540     239.867536 2019-04-18 20:10:00\n",
      "1541     239.866073 2019-04-18 20:20:00\n",
      "1542     239.876097 2019-04-18 20:30:00\n",
      "1543     239.884239 2019-04-18 20:40:00\n",
      "1544     239.893285 2019-04-18 20:50:00\n",
      "1545     239.908621 2019-04-18 21:00:00\n",
      "1546     239.788877 2019-04-18 21:10:00\n",
      "1547     239.797885 2019-04-18 21:20:00\n",
      "1548     239.815614 2019-04-18 21:30:00\n",
      "1549     239.821398 2019-04-18 21:40:00\n",
      "1550     239.835242 2019-04-18 21:50:00\n",
      "1551     239.836796 2019-04-18 22:00:00\n",
      "1552     239.856109 2019-04-18 22:10:00\n",
      "1553     239.864200 2019-04-18 22:20:00\n",
      "1554     239.865123 2019-04-18 22:30:00\n",
      "1555     239.869411 2019-04-18 22:40:00\n",
      "1556     239.883551 2019-04-18 22:50:00\n",
      "1557     239.889659 2019-04-18 23:00:00\n",
      "1558     239.901212 2019-04-18 23:10:00\n",
      "1559     239.932326 2019-04-18 23:20:00\n",
      "1560     239.914774 2019-04-18 23:30:00\n",
      "1561     239.934013 2019-04-18 23:40:00\n",
      "1562     239.940898 2019-04-18 23:50:00\n",
      "\n",
      "[1563 rows x 2 columns]\n"
     ]
    }
   ],
   "source": [
    "print(datam)"
   ]
  },
  {
   "cell_type": "code",
   "execution_count": 242,
   "metadata": {},
   "outputs": [],
   "source": [
    "export_csv=datam.to_csv(r'C:/Users/Cemil Turhan/Downloads/export_datam_G17.csv', header=True)"
   ]
  },
  {
   "cell_type": "code",
   "execution_count": null,
   "metadata": {},
   "outputs": [],
   "source": []
  }
 ],
 "metadata": {
  "kernelspec": {
   "display_name": "Python 3",
   "language": "python",
   "name": "python3"
  },
  "language_info": {
   "codemirror_mode": {
    "name": "ipython",
    "version": 3
   },
   "file_extension": ".py",
   "mimetype": "text/x-python",
   "name": "python",
   "nbconvert_exporter": "python",
   "pygments_lexer": "ipython3",
   "version": "3.7.3"
  }
 },
 "nbformat": 4,
 "nbformat_minor": 2
}
