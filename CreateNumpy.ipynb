{
 "cells": [
  {
   "cell_type": "code",
   "execution_count": 15,
   "metadata": {},
   "outputs": [],
   "source": [
    "import numpy as np\n",
    "import xarray\n",
    "import metpy\n",
    "import os\n",
    "from os import path as op\n",
    "import matplotlib.pyplot as plt\n",
    "import cartopy.crs as ccrs\n",
    "import cartopy.feature as cfeature\n",
    "from pyresample import image, geometry\n",
    "import seaborn as sns\n",
    "import dask\n",
    "import string\n",
    "from subprocess import Popen\n",
    "sns.set(style=\"darkgrid\")\n",
    "%matplotlib inline"
   ]
  },
  {
   "cell_type": "code",
   "execution_count": 16,
   "metadata": {},
   "outputs": [],
   "source": [
    "path = \"G16_G17_url_list/\"\n",
    "dirs = os.listdir( path )"
   ]
  },
  {
   "cell_type": "code",
   "execution_count": 17,
   "metadata": {},
   "outputs": [
    {
     "name": "stdout",
     "output_type": "stream",
     "text": [
      "['mkdir -p ../../../../../sharedData/scratch/npOut/G16_data_04_08-19']\n",
      "['mkdir -p ../../../../../sharedData/scratch/npOut/G16_data_04_09-19']\n",
      "['mkdir -p ../../../../../sharedData/scratch/npOut/G16_data_04_10-19']\n",
      "['mkdir -p ../../../../../sharedData/scratch/npOut/G16_data_04_11-19']\n",
      "['mkdir -p ../../../../../sharedData/scratch/npOut/G16_data_04_12-19']\n",
      "['mkdir -p ../../../../../sharedData/scratch/npOut/G16_data_04_13-19']\n",
      "['mkdir -p ../../../../../sharedData/scratch/npOut/G16_data_04_14-19']\n",
      "['mkdir -p ../../../../../sharedData/scratch/npOut/G16_data_04_15-19']\n",
      "['mkdir -p ../../../../../sharedData/scratch/npOut/G16_data_04_16-19']\n",
      "['mkdir -p ../../../../../sharedData/scratch/npOut/G16_data_04_17-19']\n",
      "['mkdir -p ../../../../../sharedData/scratch/npOut/G16_data_04_18-19']\n",
      "['mkdir -p ../../../../../sharedData/scratch/npOut/G17_data_04_08-19']\n",
      "['mkdir -p ../../../../../sharedData/scratch/npOut/G17_data_04_09-19']\n",
      "['mkdir -p ../../../../../sharedData/scratch/npOut/G17_data_04_10-19']\n",
      "['mkdir -p ../../../../../sharedData/scratch/npOut/G17_data_04_11-19']\n",
      "['mkdir -p ../../../../../sharedData/scratch/npOut/G17_data_04_12-19']\n",
      "['mkdir -p ../../../../../sharedData/scratch/npOut/G17_data_04_13-19']\n",
      "['mkdir -p ../../../../../sharedData/scratch/npOut/G17_data_04_14-19']\n",
      "['mkdir -p ../../../../../sharedData/scratch/npOut/G17_data_04_15-19']\n",
      "['mkdir -p ../../../../../sharedData/scratch/npOut/G17_data_04_16-19']\n",
      "['mkdir -p ../../../../../sharedData/scratch/npOut/G17_data_04_17-19']\n",
      "['mkdir -p ../../../../../sharedData/scratch/npOut/G17_data_04_18-19']\n"
     ]
    }
   ],
   "source": [
    "newPath = '../../../../../sharedData/scratch/npOut/'\n",
    "for txtFile in dirs:\n",
    "    txtFileName = txtFile[:-4]\n",
    "    dirName = op.join(newPath, txtFileName)\n",
    "    cmdList = [ 'mkdir -p '+dirName]\n",
    "    print (cmdList)\n",
    "\n",
    "    pMkdir = Popen(cmdList,shell = True)\n",
    "    pMkdir.communicate()\n",
    "    '''\n",
    "    with open (txtFilePath) as f:\n",
    "        readTxt = f.read()\n",
    "        urlList = readTxt.split()\n",
    "        for url in urlList:\n",
    "            continue'''"
   ]
  },
  {
   "cell_type": "code",
   "execution_count": null,
   "metadata": {},
   "outputs": [],
   "source": []
  }
 ],
 "metadata": {
  "kernelspec": {
   "display_name": "Python 3",
   "language": "python",
   "name": "python3"
  },
  "language_info": {
   "codemirror_mode": {
    "name": "ipython",
    "version": 3
   },
   "file_extension": ".py",
   "mimetype": "text/x-python",
   "name": "python",
   "nbconvert_exporter": "python",
   "pygments_lexer": "ipython3",
   "version": "3.7.3"
  }
 },
 "nbformat": 4,
 "nbformat_minor": 2
}
