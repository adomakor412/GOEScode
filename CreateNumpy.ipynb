{
 "cells": [
  {
   "cell_type": "code",
   "execution_count": 12,
   "metadata": {},
   "outputs": [
    {
     "ename": "ModuleNotFoundError",
     "evalue": "No module named 'Download_script'",
     "output_type": "error",
     "traceback": [
      "\u001b[0;31m---------------------------------------------------------------------------\u001b[0m",
      "\u001b[0;31mModuleNotFoundError\u001b[0m                       Traceback (most recent call last)",
      "\u001b[0;32m<ipython-input-12-6a8359f5a81e>\u001b[0m in \u001b[0;36m<module>\u001b[0;34m\u001b[0m\n\u001b[1;32m     13\u001b[0m \u001b[0;32mfrom\u001b[0m \u001b[0mpyresample\u001b[0m \u001b[0;32mimport\u001b[0m \u001b[0mimage\u001b[0m\u001b[0;34m,\u001b[0m \u001b[0mgeometry\u001b[0m \u001b[0;31m#ref\u001b[0m\u001b[0;34m\u001b[0m\u001b[0;34m\u001b[0m\u001b[0m\n\u001b[1;32m     14\u001b[0m \u001b[0;32mimport\u001b[0m \u001b[0mseaborn\u001b[0m \u001b[0;32mas\u001b[0m \u001b[0msns\u001b[0m \u001b[0;31m#ref\u001b[0m\u001b[0;34m\u001b[0m\u001b[0;34m\u001b[0m\u001b[0m\n\u001b[0;32m---> 15\u001b[0;31m \u001b[0;32mimport\u001b[0m \u001b[0mDownload_script\u001b[0m\u001b[0;34m.\u001b[0m\u001b[0mpy\u001b[0m\u001b[0;34m\u001b[0m\u001b[0;34m\u001b[0m\u001b[0m\n\u001b[0m\u001b[1;32m     16\u001b[0m \u001b[0msns\u001b[0m\u001b[0;34m.\u001b[0m\u001b[0mset\u001b[0m\u001b[0;34m(\u001b[0m\u001b[0mstyle\u001b[0m\u001b[0;34m=\u001b[0m\u001b[0;34m\"darkgrid\"\u001b[0m\u001b[0;34m)\u001b[0m\u001b[0;34m\u001b[0m\u001b[0;34m\u001b[0m\u001b[0m\n\u001b[1;32m     17\u001b[0m \u001b[0mget_ipython\u001b[0m\u001b[0;34m(\u001b[0m\u001b[0;34m)\u001b[0m\u001b[0;34m.\u001b[0m\u001b[0mrun_line_magic\u001b[0m\u001b[0;34m(\u001b[0m\u001b[0;34m'matplotlib'\u001b[0m\u001b[0;34m,\u001b[0m \u001b[0;34m'inline'\u001b[0m\u001b[0;34m)\u001b[0m\u001b[0;34m\u001b[0m\u001b[0;34m\u001b[0m\u001b[0m\n",
      "\u001b[0;31mModuleNotFoundError\u001b[0m: No module named 'Download_script'"
     ]
    }
   ],
   "source": [
    "import numpy as np #ref\n",
    "import os\n",
    "from os import path as op\n",
    "import dask #ref\n",
    "import string\n",
    "import re\n",
    "from subprocess import Popen\n",
    "import xarray as xr #ref\n",
    "import metpy #ref\n",
    "import matplotlib.pyplot as plt #ref\n",
    "import cartopy.crs as ccrs #ref\n",
    "import cartopy.feature as cfeature\n",
    "from pyresample import image, geometry #ref\n",
    "import seaborn as sns #ref\n",
    "import Download_script.py\n",
    "sns.set(style=\"darkgrid\")\n",
    "%matplotlib inline\n",
    "\n",
    "#sys.path.append('')\n"
   ]
  },
  {
   "cell_type": "code",
   "execution_count": 2,
   "metadata": {},
   "outputs": [],
   "source": [
    "path = \"G16_G17_url_list/\"\n",
    "dirs = os.listdir( path )"
   ]
  },
  {
   "cell_type": "code",
   "execution_count": 14,
   "metadata": {},
   "outputs": [],
   "source": [
    "def createNumpy(ncFile, pathIn, pathOut):\n",
    "    myFile = xarray.open_dataset(op.join(pathIn,ncFile))\n",
    "    dat = myFile.metpy.parse_cf('Rad')\n",
    "    geos = dat.metpy.cartopy_crs\n",
    "\n",
    "    cartopy_extent_goes = geos.x_limits + geos.y_limits\n",
    "    pyresample_extent_goes = (cartopy_extent_goes[0],\n",
    "                                cartopy_extent_goes[2],\n",
    "                                cartopy_extent_goes[1],\n",
    "                                cartopy_extent_goes[3])\n",
    "    goes_params = geos.proj4_params\n",
    "    rad = dat.data\n",
    "    \n",
    "    def normIm(im,gamma=1.0,reverse=False):\n",
    "        nim = ((im-np.nanmin(im))*(np.nanmax(im)-np.nanmin(im))**(-1))\n",
    "        if reverse:#want clouds to be white\n",
    "            nim = (1.0-nim**(gamma))\n",
    "        return nim\n",
    "    \n",
    "    def goes_2_roi(loaded_goes, \n",
    "               target_extent,\n",
    "               target_rows,\n",
    "               target_cols,\n",
    "               cartopy_target_proj,\n",
    "               data_key='Rad',\n",
    "               radius_of_influence=50000):\n",
    "        \"\"\"Function that goes from loaded GOES data to data resampled in a projection for an extent\"\"\"\n",
    "        dat = loaded_goes.metpy.parse_cf('Rad')\n",
    "        geos_crs = dat.metpy.cartopy_crs\n",
    "        cartopy_source_extent = geos_crs.x_limits + geos_crs.y_limits\n",
    "        pyresample_source_extent = (cartopy_source_extent[0],\n",
    "                                    cartopy_source_extent[2],\n",
    "                                    cartopy_source_extent[1],\n",
    "                                    cartopy_source_extent[3])\n",
    "        rad = dat.data\n",
    "        source_area = geometry.AreaDefinition('GOES-1X', 'Full Disk','GOES-1X', \n",
    "                                              geos_crs.proj4_params,\n",
    "                                              rad.shape[1], rad.shape[0],\n",
    "                                              pyresample_source_extent)\n",
    "        area_target_def = geometry.AreaDefinition('areaTest', 'Target Region', 'areaTest',\n",
    "                                            cartopy_target_proj.proj4_params,\n",
    "                                            target_rows, target_cols,\n",
    "                                            target_extent)\n",
    "        geos_con_nn = image.ImageContainerNearest(rad, \n",
    "                                                source_area, \n",
    "                                                radius_of_influence=radius_of_influence)\n",
    "\n",
    "        # Here we are using pyresample for the remapping\n",
    "        area_proj_con_nn = geos_con_nn.resample(area_mc_def)\n",
    "        return area_proj_con_nn.image_data\n",
    "        \n",
    "    def cartopy_pyresample_toggle_extent(input_extent):\n",
    "        return np.array(input_extent)[np.array([0,2,1,3])]\n",
    "\n",
    "    def trasform_cartopy_extent(source_extent,source_proj, target_proj):\n",
    "        target_extent = target_proj.transform_points(source_proj, \n",
    "                                                     np.array(source_extent[:2]),\n",
    "                                                     np.array(source_extent[2:])).ravel()\n",
    "        # target_extent in 3D, must be in 2D\n",
    "        return cartopy_pyresample_toggle_extent(np.array(target_extent)[np.array([0,1,3,4])])\n",
    "    pc = ccrs.PlateCarree()\n",
    "    mc = ccrs.Mercator()\n",
    "\n",
    "    # Convert extent from pc to mc (both cylindrical projections)\n",
    "    extent_pc = [-109.59326, -102.40674, 8.94659, -8.94656]\n",
    "    \n",
    "    target_extent_mc_cartopy = trasform_cartopy_extent(extent_pc, pc, mc)\n",
    "    target_extent_mc_pyresample = cartopy_pyresample_toggle_extent(target_extent_mc_cartopy)\n",
    "    \n",
    "    roi_rads = goes_2_roi(myFile,\n",
    "               target_extent_mc_pyresample,\n",
    "               500,\n",
    "               200,\n",
    "               mc)\n",
    "    ####\n",
    "    full_filename = op.join(pathOut,ncFile[:-3])\n",
    "    np.save(full_filename,roi_rads)\n",
    "    return"
   ]
  },
  {
   "cell_type": "code",
   "execution_count": 39,
   "metadata": {},
   "outputs": [
    {
     "name": "stdout",
     "output_type": "stream",
     "text": [
      "['mkdir -p ../../../../../sharedData/scratch/npOut/G16_data_04_08-19']\n",
      "['mkdir -p ../../../../../sharedData/scratch/npOut/G16_data_04_09-19']\n",
      "['mkdir -p ../../../../../sharedData/scratch/npOut/G16_data_04_10-19']\n",
      "['mkdir -p ../../../../../sharedData/scratch/npOut/G16_data_04_11-19']\n",
      "['mkdir -p ../../../../../sharedData/scratch/npOut/G16_data_04_12-19']\n",
      "['mkdir -p ../../../../../sharedData/scratch/npOut/G16_data_04_13-19']\n",
      "['mkdir -p ../../../../../sharedData/scratch/npOut/G16_data_04_14-19']\n",
      "['mkdir -p ../../../../../sharedData/scratch/npOut/G16_data_04_15-19']\n",
      "['mkdir -p ../../../../../sharedData/scratch/npOut/G16_data_04_16-19']\n",
      "['mkdir -p ../../../../../sharedData/scratch/npOut/G16_data_04_17-19']\n",
      "['mkdir -p ../../../../../sharedData/scratch/npOut/G16_data_04_18-19']\n",
      "['mkdir -p ../../../../../sharedData/scratch/npOut/G17_data_04_08-19']\n",
      "['mkdir -p ../../../../../sharedData/scratch/npOut/G17_data_04_09-19']\n",
      "['mkdir -p ../../../../../sharedData/scratch/npOut/G17_data_04_10-19']\n",
      "['mkdir -p ../../../../../sharedData/scratch/npOut/G17_data_04_11-19']\n",
      "['mkdir -p ../../../../../sharedData/scratch/npOut/G17_data_04_12-19']\n",
      "['mkdir -p ../../../../../sharedData/scratch/npOut/G17_data_04_13-19']\n",
      "['mkdir -p ../../../../../sharedData/scratch/npOut/G17_data_04_14-19']\n",
      "['mkdir -p ../../../../../sharedData/scratch/npOut/G17_data_04_15-19']\n",
      "['mkdir -p ../../../../../sharedData/scratch/npOut/G17_data_04_16-19']\n",
      "['mkdir -p ../../../../../sharedData/scratch/npOut/G17_data_04_17-19']\n",
      "['mkdir -p ../../../../../sharedData/scratch/npOut/G17_data_04_18-19']\n"
     ]
    }
   ],
   "source": [
    "from pathlib import Path\n",
    "newPath = '../../../../../sharedData/scratch/'\n",
    "\n",
    "for txtFile in dirs:\n",
    "    txtFileName = txtFile[:-4]\n",
    "    subDir = op.join(newPath, 'npOut')\n",
    "    dirName = op.join(subDir, txtFileName)\n",
    "    cmdList = [ 'mkdir -p '+dirName]\n",
    "    print (cmdList)\n",
    "\n",
    "    pMkdir = Popen(cmdList,shell = True)\n",
    "    pMkdir.communicate()\n",
    "    \n",
    "    data = Path ( newPath )\n",
    "    res = [f for f in os.listdir(data) if re.search('G17_s2019108',f)]\n",
    "    \n",
    "    for nc in res:\n",
    "        outPath = op.join(newPath,dirName)\n",
    "        createNumpy(nc,newPath,dirName)"
   ]
  },
  {
   "cell_type": "code",
   "execution_count": 13,
   "metadata": {},
   "outputs": [
    {
     "data": {
      "text/plain": [
       "True"
      ]
     },
     "execution_count": 13,
     "metadata": {},
     "output_type": "execute_result"
    }
   ],
   "source": [
    "data.exists()"
   ]
  },
  {
   "cell_type": "code",
   "execution_count": 24,
   "metadata": {},
   "outputs": [],
   "source": [
    "files = data.glob(\"*G17_s201910819\")"
   ]
  },
  {
   "cell_type": "code",
   "execution_count": 22,
   "metadata": {},
   "outputs": [
    {
     "data": {
      "text/plain": [
       "[]"
      ]
     },
     "execution_count": 22,
     "metadata": {},
     "output_type": "execute_result"
    }
   ],
   "source": [
    "list(files)"
   ]
  },
  {
   "cell_type": "code",
   "execution_count": 37,
   "metadata": {},
   "outputs": [],
   "source": []
  },
  {
   "cell_type": "code",
   "execution_count": 38,
   "metadata": {},
   "outputs": [
    {
     "name": "stdout",
     "output_type": "stream",
     "text": [
      "572\n"
     ]
    }
   ],
   "source": [
    "print(len(res))"
   ]
  },
  {
   "cell_type": "code",
   "execution_count": null,
   "metadata": {},
   "outputs": [],
   "source": []
  }
 ],
 "metadata": {
  "kernelspec": {
   "display_name": "Python 3",
   "language": "python",
   "name": "python3"
  },
  "language_info": {
   "codemirror_mode": {
    "name": "ipython",
    "version": 3
   },
   "file_extension": ".py",
   "mimetype": "text/x-python",
   "name": "python",
   "nbconvert_exporter": "python",
   "pygments_lexer": "ipython3",
   "version": "3.7.3"
  }
 },
 "nbformat": 4,
 "nbformat_minor": 2
}
